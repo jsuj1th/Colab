{
  "nbformat": 4,
  "nbformat_minor": 0,
  "metadata": {
    "colab": {
      "provenance": [],
      "authorship_tag": "ABX9TyNG2fT/v2XDee31M2oWr9fw",
      "include_colab_link": true
    },
    "kernelspec": {
      "name": "python3",
      "display_name": "Python 3"
    },
    "language_info": {
      "name": "python"
    }
  },
  "cells": [
    {
      "cell_type": "markdown",
      "metadata": {
        "id": "view-in-github",
        "colab_type": "text"
      },
      "source": [
        "<a href=\"https://colab.research.google.com/github/jsuj1th/Colab/blob/main/DL_HW_2_1.ipynb\" target=\"_parent\"><img src=\"https://colab.research.google.com/assets/colab-badge.svg\" alt=\"Open In Colab\"/></a>"
      ]
    },
    {
      "cell_type": "code",
      "execution_count": 5,
      "metadata": {
        "colab": {
          "base_uri": "https://localhost:8080/"
        },
        "id": "oS9YsZ11D7Xp",
        "outputId": "6efba5e6-6e2c-4b70-b46b-d12609912a60"
      },
      "outputs": [
        {
          "output_type": "stream",
          "name": "stdout",
          "text": [
            "tf.Tensor(1.0, shape=(), dtype=float32)\n",
            "tf.Tensor(0.9950042, shape=(), dtype=float32)\n",
            "tf.Tensor(0.9800666, shape=(), dtype=float32)\n",
            "tf.Tensor(0.9553365, shape=(), dtype=float32)\n"
          ]
        }
      ],
      "source": [
        "# input_var = tf.Variable(initial_value=3.)\n",
        "import tensorflow as tf\n",
        "tensor = tf.convert_to_tensor([0,0.1,0.2,0.3])\n",
        "for i in range(4):\n",
        "    input_var = tf.Variable(initial_value=tensor[i])\n",
        "    with tf.GradientTape() as tape:\n",
        "      result = tf.math.sin(input_var)\n",
        "      gradient = tape.gradient(result, input_var)\n",
        "      print(gradient)"
      ]
    }
  ]
}