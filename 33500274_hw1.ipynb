{
  "cells": [
    {
      "cell_type": "markdown",
      "metadata": {
        "id": "view-in-github",
        "colab_type": "text"
      },
      "source": [
        "<a href=\"https://colab.research.google.com/github/jsuj1th/Colab/blob/main/33500274_hw1.ipynb\" target=\"_parent\"><img src=\"https://colab.research.google.com/assets/colab-badge.svg\" alt=\"Open In Colab\"/></a>"
      ]
    },
    {
      "cell_type": "markdown",
      "metadata": {
        "id": "zAxczUGVN-Jc"
      },
      "source": [
        "#### CSCE 670 :: Information Storage & Retrieval :: Texas A&M University :: Spring 2025\n",
        "\n",
        "\n",
        "# Homework 1:  OASIS Search Engine, The Beginning\n",
        "\n",
        "### 100 points [4% of your final grade]\n",
        "\n",
        "### Due: February 5 (Wednesday) by 11:59pm\n",
        "\n",
        "*Goals of this homework:* In this homework you will get first hand experience building a text-based mini search engine + explore some LLM capabilities.\n",
        "\n",
        "*Submission instructions (Canvas):* To submit your homework, rename this notebook as `UIN_hw1.ipynb`. For example, my homework submission would be something like `555001234_hw1.ipynb`. Submit this notebook via Canvas (look for the homework 1 assignment there). Your notebook should be completely self-contained, with the results visible in the notebook. We should not have to run any code from the command line, nor should we have to run your code within the notebook (though we reserve the right to do so). So please run all the cells for us, and then submit.\n",
        "\n",
        "*Late submission policy:* For this homework, you may use as many late days as you like (up to the 5 total allotted to you).\n",
        "\n",
        "*Collaboration policy:* You are expected to complete each homework independently. Your solution should be written by you without the direct aid or help of anyone else. However, we believe that collaboration and team work are important for facilitating learning, so we encourage you to discuss problems and general problem approaches (but not actual solutions) with your classmates. You may post on Canvas, search StackOverflow, even use ChatGPT. But if you do get help in this way, you must inform us by **filling out the Collaboration Declarations at the bottom of this notebook**. See the course syllabus for details.\n",
        "\n",
        "*Example: I found helpful code on stackoverflow at https://stackoverflow.com/questions/11764539/writing-fizzbuzz that helped me solve Problem 2.*\n",
        "\n",
        "The basic rule is that no student should explicitly share a solution with another student (and thereby circumvent the basic learning process), but it is okay to share general approaches, directions, and so on. If you feel like you have an issue that needs clarification, feel free to contact either me or the TA."
      ]
    },
    {
      "cell_type": "markdown",
      "metadata": {
        "id": "9CKllFl-N-Jk"
      },
      "source": [
        "# Dataset: Enron Email Dataset\n",
        "\n",
        "We are providing you with a small collection of emails from the Enron Email Dataset. The Enron Email Dataset was collected and prepared by the CALO Project (A Cognitive Assistant that Learns and Organizes). It contains data from about 150 users, mostly senior management of Enron. The full corpus contains a total of about 0.5M messages (https://www.cs.cmu.edu/~enron/). For this homework, we will use a small subset of the data. The subset contains 814 emails extracted from the `_sent_mail` of Arnold-J. We have zipped the 814 files (each file contains the information of an email). The zipped file is available on Canvas as `enron_814.zip`. The subset we provide is about 1.1MB. You should treat each email as a unique document to be indexed by your system. You can download the data from Canvas to your local filesystem. We're going to use these emails as the basis of OASIS, our Open Access Searchable Information System!\n",
        "\n",
        "\n",
        "Below is an example of one email.\n",
        "\n",
        "```text\n",
        "Message-ID: <33025919.1075857594206.JavaMail.evans@thyme>\n",
        "Date: Wed, 13 Dec 2000 13:09:00 -0800 (PST)\n",
        "From: john.arnold@enron.com\n",
        "To: slafontaine@globalp.com\n",
        "Subject: re:spreads\n",
        "Mime-Version: 1.0\n",
        "Content-Type: text/plain; charset=us-ascii\n",
        "Content-Transfer-Encoding: 7bit\n",
        "X-From: John Arnold\n",
        "X-To: slafontaine@globalp.com @ ENRON\n",
        "X-cc:\n",
        "X-bcc:\n",
        "X-Folder: \\John_Arnold_Dec2000\\Notes Folders\\'sent mail\n",
        "X-Origin: Arnold-J\n",
        "X-FileName: Jarnold.nsf\n",
        "\n",
        "saw a lot of the bulls sell summer against length in front to mitigate\n",
        "margins/absolute position limits/var.  as these guys are taking off the\n",
        "front, they are also buying back summer.  el paso large buyer of next winter\n",
        "today taking off spreads.  certainly a reason why the spreads were so strong\n",
        "on the way up and such a piece now.   really the only one left with any risk\n",
        "premium built in is h/j now.   it was trading equivalent of 180 on access,\n",
        "down 40+ from this morning.  certainly if we are entering a period of bearish\n",
        "to neutral trade, h/j will get whacked.  certainly understand the arguments\n",
        "for h/j.  if h settles $20, that spread is probably worth $10.  H 20 call was\n",
        "trading for 55 on monday.  today it was 10/17.  the market's view of\n",
        "probability of h going crazy has certainly changed in past 48 hours and that\n",
        "has to be reflected in h/j.\n",
        "\n",
        "\n",
        "\n",
        "\n",
        "slafontaine@globalp.com on 12/13/2000 04:15:51 PM\n",
        "To: slafontaine@globalp.com\n",
        "cc: John.Arnold@enron.com\n",
        "Subject: re:spreads\n",
        "\n",
        "\n",
        "\n",
        "mkt getting a little more bearish the back of winter i think-if we get another\n",
        "cold blast jan/feb mite move out. with oil moving down and march closer flat\n",
        "px\n",
        "wide to jan im not so bearish these sprds now-less bullish march april as\n",
        "well.\n",
        "```"
      ]
    },
    {
      "cell_type": "markdown",
      "metadata": {
        "id": "DaiOjFANN-Jo"
      },
      "source": [
        "# Part 1: Read and Parse the Email Data (20 points)"
      ]
    },
    {
      "cell_type": "markdown",
      "metadata": {
        "id": "VoiNbqQDrVQ2"
      },
      "source": [
        "Recall how we handled file input in Homework 0? Well, here, our goal is to read the emails so that we can begin to tokenize them later. For this step, you should read the dataset and print the emails. Note that our dataset contains multiple files. You will need to write Python code to read from these files, and then build a list to store the documents. Each item in the list should be a dictionary containing the `Document-ID` as the key, and email content as the value. You can discard all the supplementary information of the email, e.g., `Date`, `From`, `To`, `Subject`, etc.\n",
        "\n",
        "A document should look like:\n",
        "\n",
        "```text\n",
        "{'Document-ID': '33025919.1075857594206',\n",
        "'content': 'saw a lot of the bulls sell summer against length in front to mitigate\n",
        "margins/absolute position limits/var.  as these guys are taking off the\n",
        "front, they are also buying back summer.  el paso large buyer of next winter\n",
        "today taking off spreads.  certainly a reason why the spreads were so strong\n",
        "on the way up and such a piece now.   really the only one left with any risk\n",
        "premium built in is h/j now.   it was trading equivalent of 180 on access,\n",
        "down 40+ from this morning.  certainly if we are entering a period of bearish\n",
        "to neutral trade, h/j will get whacked.  certainly understand the arguments\n",
        "for h/j.  if h settles $20, that spread is probably worth $10.  H 20 call was\n",
        "trading for 55 on monday.  today it was 10/17.  the market's view of\n",
        "probability of h going crazy has certainly changed in past 48 hours and that\n",
        "has to be reflected in h/j.\n",
        "\n",
        "\n",
        "\n",
        "\n",
        "slafontaine@globalp.com on 12/13/2000 04:15:51 PM\n",
        "To: slafontaine@globalp.com\n",
        "cc: John.Arnold@enron.com\n",
        "Subject: re:spreads\n",
        "\n",
        "\n",
        "\n",
        "mkt getting a little more bearish the back of winter i think-if we get another\n",
        "cold blast jan/feb mite move out. with oil moving down and march closer flat\n",
        "px\n",
        "wide to jan im not so bearish these sprds now-less bullish march april as\n",
        "well.'\n",
        "}\n",
        "```\n",
        "\n",
        "For this homework, you should treat the email content as a document and the Message-ID as the document ID."
      ]
    },
    {
      "cell_type": "markdown",
      "metadata": {
        "id": "m0sMQsv-mg1l"
      },
      "source": [
        "## Print the first two documents (5 points)\n",
        "\n",
        "Your output should look like this:\n",
        "\n",
        "DocumentID Document\n",
        "\n",
        "33025919.1075857594206 saw a lot of the bulls sell summer ......\n",
        "\n",
        "...\n"
      ]
    },
    {
      "cell_type": "code",
      "source": [
        "!apt-get install p7zip-full\n",
        "!7z x enron_814.zip"
      ],
      "metadata": {
        "colab": {
          "base_uri": "https://localhost:8080/"
        },
        "id": "-uT7laJJodj8",
        "outputId": "f2234c66-c9fc-4215-f161-701a10d2d3f7"
      },
      "execution_count": 67,
      "outputs": [
        {
          "output_type": "stream",
          "name": "stdout",
          "text": [
            "Reading package lists... Done\n",
            "Building dependency tree... Done\n",
            "Reading state information... Done\n",
            "p7zip-full is already the newest version (16.02+dfsg-8).\n",
            "0 upgraded, 0 newly installed, 0 to remove and 18 not upgraded.\n",
            "\n",
            "7-Zip [64] 16.02 : Copyright (c) 1999-2016 Igor Pavlov : 2016-05-21\n",
            "p7zip Version 16.02 (locale=en_US.UTF-8,Utf16=on,HugeFiles=on,64 bits,2 CPUs Intel(R) Xeon(R) CPU @ 2.20GHz (406F0),ASM,AES-NI)\n",
            "\n",
            "Scanning the drive for archives:\n",
            "  0M Scan\b\b\b\b\b\b\b\b\b         \b\b\b\b\b\b\b\b\b1 file, 1036170 bytes (1012 KiB)\n",
            "\n",
            "Extracting archive: enron_814.zip\n",
            "--\n",
            "Path = enron_814.zip\n",
            "Type = zip\n",
            "Physical Size = 1036170\n",
            "\n",
            "  0%\b\b\b\b    \b\b\b\b\n",
            "Would you like to replace the existing file:\n",
            "  Path:     ./__MACOSX/._enron_814\n",
            "  Size:     176 bytes (1 KiB)\n",
            "  Modified: 2025-01-17 20:21:10\n",
            "with the file from archive:\n",
            "  Path:     __MACOSX/._enron_814\n",
            "  Size:     176 bytes (1 KiB)\n",
            "  Modified: 2025-01-17 20:21:10\n",
            "? (Y)es / (N)o / (A)lways / (S)kip all / A(u)to rename all / (Q)uit? A\n",
            "\n",
            "  0% 1 - __MACOSX/._enron_814\b\b\b\b\b\b\b\b\b\b\b\b\b\b\b\b\b\b\b\b\b\b\b\b\b\b\b\b\b                             \b\b\b\b\b\b\b\b\b\b\b\b\b\b\b\b\b\b\b\b\b\b\b\b\b\b\b\b\b 27% 439 - __MACOSX/enron_814/._763.\b\b\b\b\b\b\b\b\b\b\b\b\b\b\b\b\b\b\b\b\b\b\b\b\b\b\b\b\b\b\b\b\b\b\b\b                                    \b\b\b\b\b\b\b\b\b\b\b\b\b\b\b\b\b\b\b\b\b\b\b\b\b\b\b\b\b\b\b\b\b\b\b\b 52% 904\b\b\b\b\b\b\b\b        \b\b\b\b\b\b\b\b 82% 1349 - __MACOSX/enron_814/._366.\b\b\b\b\b\b\b\b\b\b\b\b\b\b\b\b\b\b\b\b\b\b\b\b\b\b\b\b\b\b\b\b\b\b\b\b\b                                     \b\b\b\b\b\b\b\b\b\b\b\b\b\b\b\b\b\b\b\b\b\b\b\b\b\b\b\b\b\b\b\b\b\b\b\b\bEverything is Ok\n",
            "\n",
            "Folders: 1\n",
            "Files: 1629\n",
            "Size:       1334204\n",
            "Compressed: 1036170\n"
          ]
        }
      ]
    },
    {
      "cell_type": "code",
      "execution_count": 68,
      "metadata": {
        "id": "IfHGvybCysQK",
        "collapsed": true
      },
      "outputs": [],
      "source": [
        "# your code here\n",
        "# please print out the first 2 docs\n",
        "import re, os, json\n",
        "from itertools import islice\n",
        "Mails=[]\n",
        "doc={}\n",
        "i=1\n",
        "for file in os.listdir(\"enron_814\"):\n",
        "  # print(file)\n",
        "\n",
        "  with open(os.path.join(\"enron_814\",file), 'r', encoding='utf-8') as f:\n",
        "    mail= f.read()\n",
        "\n",
        "    match = re.search(r\"(\\d+\\.\\d+)\", mail)\n",
        "    content_match=re.search(r\"(\\r?\\n){2,}([\\s\\S]+)\", mail)\n",
        "    if match:\n",
        "      document_id = match.group(1)\n",
        "      content=content_match.group(2)\n",
        "      doc[document_id]=content\n",
        "\n"
      ]
    },
    {
      "cell_type": "markdown",
      "metadata": {
        "id": "ax-juuk1zLuw"
      },
      "source": [
        "Now that you can read the documents, let's move on to tokenization. We are going to simplify things for you:\n",
        "1. You should **lowercase** all words.\n",
        "2. Replace line breaks (e.g., \\n, \\n\\n), punctuations, dashes and splash (e.g., -, /) and special characters (\\u2019, \\u2005, etc.) with empty space (\" \").\n",
        "3. Tokenize the documents by splitting on whitespace.\n",
        "4. Then only keep words that have a-zA-Z in them."
      ]
    },
    {
      "cell_type": "code",
      "execution_count": 69,
      "metadata": {
        "id": "_CpG2ifejjvx",
        "colab": {
          "base_uri": "https://localhost:8080/"
        },
        "outputId": "b6a42d60-52b7-48cc-a754-2a0875c7dc0c"
      },
      "outputs": [
        {
          "output_type": "stream",
          "name": "stdout",
          "text": [
            "9410\n"
          ]
        }
      ],
      "source": [
        "# your code here\n",
        "\n",
        "def custom_tokenize(text):\n",
        "    text = text.lower()\n",
        "    text = re.sub(r'[^\\w\\s]', ' ', text)\n",
        "    text = re.sub(r'[\\n\\r\\t.:]', ' ', text)\n",
        "    text=re.sub(r'[^a-zA-Z\\s]', ' ', text)\n",
        "    tokens = text.split()\n",
        "    tokens = [token for token in tokens if re.search('[a-zA-Z]', token)]\n",
        "    return tokens\n",
        "\n",
        "tokens=[]\n",
        "for id,mail in doc.items():\n",
        "  tks=custom_tokenize(mail)\n",
        "  for tk in tks:\n",
        "    tokens.append(tk)\n",
        "print(len(set(tokens)))\n",
        "lookup_doc=doc.copy()\n",
        "# print(doc)\n",
        "# print(lookup_doc)\n"
      ]
    },
    {
      "cell_type": "markdown",
      "metadata": {
        "id": "tst9U9DxN-Jp"
      },
      "source": [
        "## Print the first two documents after tokenizing (5 points)\n",
        "\n",
        "Once you have your parser working, you should print the first two documents (documentID and tokens).\n",
        "\n",
        "Your output should look like this:\n",
        "\n",
        "* DocumentID Tokens\n",
        "\n"
      ]
    },
    {
      "cell_type": "code",
      "execution_count": 70,
      "metadata": {
        "id": "WcJbBEQgJUd8"
      },
      "outputs": [],
      "source": [
        "# your code and output here\n",
        "for id,mail in doc.items():\n",
        "  doc[id]=custom_tokenize(mail)\n",
        "# print(lookup_doc)"
      ]
    },
    {
      "cell_type": "code",
      "source": [
        "\n",
        "for key, value in islice(doc.items(), 2):\n",
        "    print(key, value)"
      ],
      "metadata": {
        "colab": {
          "base_uri": "https://localhost:8080/"
        },
        "id": "vXqQ6uL2ZysM",
        "outputId": "0cb3814c-d21c-4912-e5a0-30bc4f7772b1"
      },
      "execution_count": 71,
      "outputs": [
        {
          "output_type": "stream",
          "name": "stdout",
          "text": [
            "20191135.1075857601260 ['hey', 'can', 'greg', 'fit', 'me', 'in', 'for', 'about', 'minutes', 'tomorrow', 'afternoon', 'your', 'secret', 'admirer']\n",
            "26241159.1075857650422 ['how', 'about', 'we', 'celebrate', 'the', 'near', 'completion', 'of', 'your', 'deal', 'and', 'have', 'tickleless', 'pay', 'for', 'it', 'from', 'kim', 'ward', 'enron', 'enronxgate', 'on', 'pm', 'to', 'john', 'arnold', 'hou', 'ect', 'ect', 'cc', 'subject', 're', 'push', 'the', 'summer', 'down', 'about', 'so', 'i', 'can', 'get', 'one', 'of', 'my', 'deals', 'done', 'and', 'we', 'could', 'celebrate', 'original', 'message', 'from', 'arnold', 'john', 'sent', 'tuesday', 'may', 'pm', 'to', 'ward', 'kim', 's', 'subject', 'wanna', 'get', 'sauced', 'after', 'work']\n"
          ]
        }
      ]
    },
    {
      "cell_type": "markdown",
      "metadata": {
        "id": "L2yVi76Ij1ys"
      },
      "source": [
        "## Dictionary Size (5 points)\n",
        "\n",
        "Next you should report the size of your dictionary, that is, how many unique tokens among all the documents.\n",
        "\n",
        "\n"
      ]
    },
    {
      "cell_type": "code",
      "execution_count": 72,
      "metadata": {
        "id": "53bAA66zkI55",
        "colab": {
          "base_uri": "https://localhost:8080/"
        },
        "outputId": "14108347-c836-4c15-fc9d-8ede047f21f4"
      },
      "outputs": [
        {
          "output_type": "stream",
          "name": "stdout",
          "text": [
            "No.of Unique Tokens: 9410\n"
          ]
        },
        {
          "output_type": "execute_result",
          "data": {
            "text/plain": [
              "127149"
            ]
          },
          "metadata": {},
          "execution_count": 72
        }
      ],
      "source": [
        "print(\"No.of Unique Tokens:\",len(set(tokens)))\n",
        "len(tokens)\n"
      ]
    },
    {
      "cell_type": "markdown",
      "metadata": {
        "id": "uU928IKKkJGY"
      },
      "source": [
        "## Top-20 Words (5 points)\n",
        "\n",
        "Finally, you should print a list of the top-20 most popular words by counting among all documents.\n",
        "\n",
        "\n",
        "Your output should look like this:\n",
        "\n",
        "* Rank. Token, Count\n",
        "\n",
        "1. awesome, 20\n",
        "2. cool, 15\n",
        "3. ..."
      ]
    },
    {
      "cell_type": "code",
      "execution_count": 73,
      "metadata": {
        "id": "8MS6n6oNklvf",
        "colab": {
          "base_uri": "https://localhost:8080/"
        },
        "collapsed": true,
        "outputId": "d4e4224a-6ebc-40d2-b6b5-20874fc085cf"
      },
      "outputs": [
        {
          "output_type": "execute_result",
          "data": {
            "text/plain": [
              "[('the', 4111),\n",
              " ('to', 3768),\n",
              " ('ect', 2600),\n",
              " ('enron', 2296),\n",
              " ('a', 1897),\n",
              " ('and', 1795),\n",
              " ('you', 1749),\n",
              " ('of', 1716),\n",
              " ('i', 1696),\n",
              " ('on', 1590),\n",
              " ('john', 1514),\n",
              " ('in', 1465),\n",
              " ('hou', 1345),\n",
              " ('com', 1319),\n",
              " ('is', 1202),\n",
              " ('for', 1165),\n",
              " ('arnold', 999),\n",
              " ('subject', 936),\n",
              " ('s', 871),\n",
              " ('it', 865)]"
            ]
          },
          "metadata": {},
          "execution_count": 73
        }
      ],
      "source": [
        "from collections import Counter\n",
        "word_counts = Counter(tokens)\n",
        "sorted_word_counts = sorted(word_counts.items(), key=lambda x: x[1], reverse=True)\n",
        "sorted_word_counts[:20]\n"
      ]
    },
    {
      "cell_type": "markdown",
      "metadata": {
        "id": "lcrFD2F-N-Jp"
      },
      "source": [
        "# Part 2: Boolean Retrieval (30 points)\n",
        "\n",
        "In this part you will build an inverted index to support Boolean retrieval. You should use the tokenization strategy from above.\n",
        "\n",
        "We require your index to support AND, OR, NOT queries.\n",
        "\n",
        "Search for the queries below using your index and print out matching documents (for each query, print out 5 matching documents):\n",
        "* buyer\n",
        "* margins AND limits\n",
        "* winter OR summer\n",
        "* buyers AND risk AND NOT crazy\n",
        "* never OR know\n",
        "\n",
        "Recall, that you should apply the exact same pre-processing strategies to the query as we do to the documents.\n",
        "\n",
        "The output should like this:\n",
        "* DocumentID Document\n",
        "\n",
        "To make our life easier, please output the DocumentIDs in lexicographic order."
      ]
    },
    {
      "cell_type": "code",
      "execution_count": 74,
      "metadata": {
        "collapsed": true,
        "id": "GS3Tc_kYN-Jp"
      },
      "outputs": [],
      "source": [
        "# build the index here\n",
        "# add cells as needed to organize your code\n",
        "\n",
        "##Building inverted Index\n",
        "inv_index={}\n",
        "for key, tokens in doc.items():\n",
        "  for token in tokens:\n",
        "    if token not in inv_index:\n",
        "      inv_index[token]=[]\n",
        "    inv_index[token].append(key)\n",
        "\n",
        "\n",
        "\n"
      ]
    },
    {
      "cell_type": "code",
      "source": [
        "# def retrieve_docs_only(query):\n",
        "#   query=query.split()\n",
        "#   print(query)\n",
        "#   retrieved_docs=[]\n",
        "#   for i in range(len(query)):\n",
        "#     # print(retrieved_docs)\n",
        "#     if i%2==0:\n",
        "#       if query[i] not in inv_index:\n",
        "#         return []\n",
        "#       else:\n",
        "#         retrieved_docs.append(inv_index[query[i]])\n",
        "#     # elif i%2==1:\n",
        "#     if query[i]=='NOT':\n",
        "#       retrieved_docs.append(list(set(doc.keys())-set(inv_index[query[i]])))\n",
        "#       del query[i]\n",
        "#       print(query)\n",
        "#   return retrieved_docs\n",
        "# def perform_operations(query, retrieved_docs):\n",
        "#   if type(query)== str:\n",
        "#     query=query.split()\n",
        "#   if len(query)<=1:\n",
        "#     return retrieved_docs\n",
        "#   # print(query)\n",
        "#   if query[1]== 'OR':\n",
        "#     retrieved_docs[0]=set(retrieved_docs[0]+retrieved_docs[1])\n",
        "#   elif query[1]== 'AND':\n",
        "#     # print(retrieved_docs)\n",
        "#     retrieved_docs[0]=list(set(retrieved_docs[0]).intersection(retrieved_docs[1]))\n",
        "#   # elif query[1]== 'NOT':\n",
        "#   #   retrieved_docs[0]=list(set(retrieved_docs[0])-set(retrieved_docs[1]))\n",
        "#   # return retrieved_docs[0]\n",
        "#   if len(retrieved_docs) >= 2:del retrieved_docs[1]\n",
        "#   del query[:3]\n",
        "#   # print(retrieved_docs)\n",
        "#   return perform_operations(query, retrieved_docs)\n",
        "# query=\"buyers AND risk AND NOT crazy\"\n",
        "# retrieved_docs=retrieve_docs_only(query)\n",
        "# # print(retrieved_docs)\n",
        "# r_doc_id = list(perform_operations(query, retrieved_docs)[0])\n",
        "# print(r_doc_id)\n",
        "# for doc_id in r_doc_id:\n",
        "#   print(doc_id, lookup_doc[doc_id])\n",
        "\n",
        "\n"
      ],
      "metadata": {
        "collapsed": true,
        "id": "MOnEDvalb7al"
      },
      "execution_count": 75,
      "outputs": []
    },
    {
      "cell_type": "code",
      "source": [
        "# print(lookup_doc)"
      ],
      "metadata": {
        "id": "sB-keUMS6vkc"
      },
      "execution_count": 76,
      "outputs": []
    },
    {
      "cell_type": "markdown",
      "metadata": {
        "id": "82YUVPUknOjX"
      },
      "source": [
        "## Running the five queries (4 points each, 20 points in total)"
      ]
    },
    {
      "cell_type": "code",
      "execution_count": 77,
      "metadata": {
        "collapsed": true,
        "id": "qWH8h5ZkN-Jp"
      },
      "outputs": [],
      "source": [
        "# search for the input using your index and print out ids of matching documents.\n",
        "def preprocess_query(query):\n",
        "    return query.lower().split()\n",
        "\n",
        "def and_query(inverted_index, terms):\n",
        "    if not terms:\n",
        "        return []\n",
        "    result = set(inverted_index.get(terms[0], []))\n",
        "    for term in terms[1:]:\n",
        "        result &= set(inverted_index.get(term, []))\n",
        "    return list(result)\n",
        "\n",
        "def or_query(inverted_index, terms):\n",
        "    result = set()\n",
        "    for term in terms:\n",
        "        result |= set(inverted_index.get(term, []))\n",
        "    return list(result)\n",
        "\n",
        "def not_query(inverted_index, term, all_docs):\n",
        "    docs_with_term = set(inverted_index.get(term, []))\n",
        "    return list(all_docs - docs_with_term)\n",
        "\n",
        "def parse_query(inverted_index, query, all_docs):\n",
        "\n",
        "    terms = preprocess_query(query)\n",
        "    if not terms:\n",
        "        return list(all_docs)\n",
        "    # First pass: Create groups of NOT operations\n",
        "    i              = 0\n",
        "    processed_terms = []\n",
        "\n",
        "    while i < len(terms):\n",
        "\n",
        "        if terms[i] == \"not\" and i + 1 < len(terms):\n",
        "            not_result = set(not_query(inverted_index, terms[i + 1], all_docs))  # Calculate NOT result for the next term\n",
        "            processed_terms.append((\"TERM\", not_result))  # After performing the NOT operation, we are storing it as a regular term, converting to document set\n",
        "            i += 2  # Skip both \"not\" and its term\n",
        "        else:\n",
        "            if terms[i] not in (\"and\", \"or\"):  # If it's a regular term or operator, keep it as is\n",
        "                term_docs = set(inverted_index.get(terms[i], []))\n",
        "                processed_terms.append((\"TERM\", term_docs))  # we are storing it as a regular term, converting to document set\n",
        "            else:\n",
        "                processed_terms.append((\"OP\", terms[i]))\n",
        "            i += 1\n",
        "\n",
        "    # Second pass: Handle AND operations\n",
        "    i             = 0\n",
        "    and_processed = [] # Can be thought of as a stack data structure keeping track of AND operations\n",
        "\n",
        "    while i < len(processed_terms):\n",
        "\n",
        "        if i == 0 and processed_terms[i][0] != \"OP\": ## First term can't really be operator other than \"NOT\"\n",
        "            and_processed.append((\"TERM\", processed_terms[i][1]))\n",
        "            i += 1\n",
        "\n",
        "        elif i+1 < len(terms) and processed_terms[i][1] == \"and\":\n",
        "\n",
        "            left_type, left_docs   = and_processed[-1] # Checks for the last pre-processed input and if it's a term , then we can perform AND operation\n",
        "            right_type, right_docs = processed_terms[i+1]\n",
        "\n",
        "            if left_type in (\"TERM\") and right_type in (\"TERM\"):\n",
        "                and_result        = left_docs & right_docs\n",
        "                and_processed[-1] = (\"TERM\", and_result)\n",
        "                i += 2\n",
        "            else:\n",
        "                and_processed.append(processed_terms[i]) # Else, Store in the stack, do nothing and wait for other 'AND' operation\n",
        "                i += 1\n",
        "        else:\n",
        "            and_processed.append(processed_terms[i]) # we are storing it as a regular term, converting to document set\n",
        "            i += 1\n",
        "\n",
        "    i = 0\n",
        "    # Final pass: Handle OR operations\n",
        "    final_processed = []\n",
        "\n",
        "    while i < len(and_processed):\n",
        "\n",
        "        if i == 0 and and_processed[i][0] != \"OP\": ## First term can't really be operator other than \"NOT\"\n",
        "            final_processed.append((\"TERM\", and_processed[i][1]))\n",
        "            i += 1\n",
        "\n",
        "        elif i+1 < len(terms) and and_processed[i][1] == \"or\":\n",
        "\n",
        "            left_type, left_docs   = final_processed[-1] # Checks for the last pre-processed input and if it's a term , then we can perform OR operation\n",
        "            right_type, right_docs = and_processed[i+1]\n",
        "\n",
        "            if left_type in (\"TERM\") and right_type in (\"TERM\"):\n",
        "                or_result           = left_docs | right_docs\n",
        "                final_processed[-1] = (\"TERM\", or_result)\n",
        "                i += 2\n",
        "            else:\n",
        "                final_processed.append(and_processed[i]) # Else, Store in the stack, do nothing and wait for other 'AND' operation\n",
        "                i += 1\n",
        "        else:\n",
        "            final_processed.append(and_processed[i]) # we are storing it as a regular term, converting to document set\n",
        "            i += 1\n",
        "    return list(set(final_processed[-1][1]))"
      ]
    },
    {
      "cell_type": "markdown",
      "metadata": {
        "id": "Qzx6tpmpjBsX"
      },
      "source": [
        "Now show the results for the query: `buyer`"
      ]
    },
    {
      "cell_type": "code",
      "execution_count": 78,
      "metadata": {
        "id": "gUOUjF18jFTT",
        "colab": {
          "base_uri": "https://localhost:8080/"
        },
        "collapsed": true,
        "outputId": "39e97048-626d-4c96-ee10-75b83b32c292"
      },
      "outputs": [
        {
          "output_type": "execute_result",
          "data": {
            "text/plain": [
              "['28376645.1075857655238',\n",
              " '13960264.1075857658698',\n",
              " '33025919.1075857594206',\n",
              " '5304428.1075857597649',\n",
              " '3677051.1075857657147',\n",
              " '17195279.1075857655281',\n",
              " '25732708.1075857656969',\n",
              " '2268604.1075857652949',\n",
              " '5307647.1075857657213']"
            ]
          },
          "metadata": {},
          "execution_count": 78
        }
      ],
      "source": [
        "# your code here\n",
        "query=\"buyer\"\n",
        "parse_query(inv_index, query, set(doc.keys()))"
      ]
    },
    {
      "cell_type": "markdown",
      "metadata": {
        "id": "SbJ6yn3yMQWY"
      },
      "source": [
        "*Now* show the results for the query: `margins AND limits`\n",
        "\n",
        "---\n",
        "\n",
        "\n"
      ]
    },
    {
      "cell_type": "code",
      "execution_count": 79,
      "metadata": {
        "id": "SmF62rQ_MRlO",
        "colab": {
          "base_uri": "https://localhost:8080/"
        },
        "collapsed": true,
        "outputId": "ccae2ad3-211f-4dd6-d889-8b00a14a34b9"
      },
      "outputs": [
        {
          "output_type": "execute_result",
          "data": {
            "text/plain": [
              "['33025919.1075857594206']"
            ]
          },
          "metadata": {},
          "execution_count": 79
        }
      ],
      "source": [
        "# your code here\n",
        "query=\"margins AND limits\"\n",
        "parse_query(inv_index, query, set(doc.keys()))"
      ]
    },
    {
      "cell_type": "markdown",
      "metadata": {
        "id": "y8KlaH0fMTO5"
      },
      "source": [
        "Now show the results for the query: `winter OR summer`"
      ]
    },
    {
      "cell_type": "code",
      "execution_count": 80,
      "metadata": {
        "id": "MAFBtPGmMVRW",
        "colab": {
          "base_uri": "https://localhost:8080/"
        },
        "collapsed": true,
        "outputId": "e7325f8e-0f62-454b-c4ea-5e621ecf8c39"
      },
      "outputs": [
        {
          "output_type": "execute_result",
          "data": {
            "text/plain": [
              "['27427045.1075857651911',\n",
              " '33491127.1075857594966',\n",
              " '2340358.1075857651846',\n",
              " '23667211.1075857656689',\n",
              " '33025919.1075857594206',\n",
              " '18032638.1075857655456',\n",
              " '17721019.1075857596305',\n",
              " '31307130.1075857655193',\n",
              " '10603457.1075857597605',\n",
              " '14371860.1075857601017',\n",
              " '26583745.1075857594731',\n",
              " '32415330.1075857655843',\n",
              " '19675930.1075857656429',\n",
              " '29406139.1075857594335',\n",
              " '32310419.1075857650380',\n",
              " '17805507.1075857658940',\n",
              " '12541953.1075857657123',\n",
              " '1464788.1075857651573',\n",
              " '455652.1075857654869',\n",
              " '5850542.1075857652496',\n",
              " '26173217.1075857594537',\n",
              " '10353423.1075857652669',\n",
              " '23931433.1075857654804',\n",
              " '6009358.1075857654847',\n",
              " '15042778.1075857600714',\n",
              " '33042577.1075857658502',\n",
              " '19850187.1075857654782',\n",
              " '24632457.1075857653283',\n",
              " '18520811.1075857650486',\n",
              " '7181067.1075857602318',\n",
              " '11971129.1075857654956',\n",
              " '13960264.1075857658698',\n",
              " '13876367.1075857655500',\n",
              " '773676.1075857654425',\n",
              " '5508781.1075857658744',\n",
              " '14369391.1075857597800',\n",
              " '2275103.1075857654157',\n",
              " '12760800.1075857651684',\n",
              " '1475999.1075857651728',\n",
              " '2268604.1075857652949',\n",
              " '19235579.1075857594400',\n",
              " '29844582.1075857650401',\n",
              " '15023476.1075857654287',\n",
              " '2363438.1075857657841',\n",
              " '26239621.1075857651225',\n",
              " '6398802.1075857654979',\n",
              " '26241159.1075857650422',\n",
              " '3126127.1075857653305',\n",
              " '3677051.1075857657147',\n",
              " '21723237.1075857656903',\n",
              " '21884118.1075857658063',\n",
              " '33358932.1075857653571',\n",
              " '30621564.1075857650358',\n",
              " '30030513.1075857650336',\n",
              " '18731712.1075857658964',\n",
              " '10537445.1075857655390',\n",
              " '5307647.1075857657213',\n",
              " '22562856.1075857596586']"
            ]
          },
          "metadata": {},
          "execution_count": 80
        }
      ],
      "source": [
        "# your code here\n",
        "query=\"winter OR summer\"\n",
        "parse_query(inv_index, query, set(doc.keys()))"
      ]
    },
    {
      "cell_type": "markdown",
      "metadata": {
        "id": "8MVcjjsBWIFv"
      },
      "source": [
        "Now show the results for the query: `buyers AND risk AND NOT crazy`"
      ]
    },
    {
      "cell_type": "code",
      "execution_count": 81,
      "metadata": {
        "id": "3e7Ipk2JWIF5",
        "colab": {
          "base_uri": "https://localhost:8080/"
        },
        "outputId": "42c4bdf5-16ec-4c4f-db00-991bfb75689a"
      },
      "outputs": [
        {
          "output_type": "execute_result",
          "data": {
            "text/plain": [
              "['2726985.1075857655016']"
            ]
          },
          "metadata": {},
          "execution_count": 81
        }
      ],
      "source": [
        "# your code here\n",
        "query=\"buyers AND risk AND NOT crazy\"\n",
        "parse_query(inv_index, query, set(doc.keys()))"
      ]
    },
    {
      "cell_type": "markdown",
      "metadata": {
        "id": "NQ0sd8zrWIbb"
      },
      "source": [
        "Now show the results for the query: `never OR know`"
      ]
    },
    {
      "cell_type": "code",
      "execution_count": 82,
      "metadata": {
        "id": "g2BumYswWIbc",
        "colab": {
          "base_uri": "https://localhost:8080/"
        },
        "outputId": "62314fc6-bc8c-4aa9-90de-f433325c2f30",
        "collapsed": true
      },
      "outputs": [
        {
          "output_type": "execute_result",
          "data": {
            "text/plain": [
              "['20679245.1075857597281',\n",
              " '30146890.1075857597910',\n",
              " '16621332.1075857602475',\n",
              " '23610249.1075857595011',\n",
              " '4400718.1075857598088',\n",
              " '71656.1075857599569',\n",
              " '27533790.1075857650727',\n",
              " '3320827.1075857598463',\n",
              " '10396784.1075857651750',\n",
              " '1075367.1075857649810',\n",
              " '12785682.1075857656018',\n",
              " '12569154.1075857597193',\n",
              " '19835539.1075857596349',\n",
              " '25732708.1075857656969',\n",
              " '12123988.1075857598485',\n",
              " '25282344.1075857601734',\n",
              " '29233255.1075857650051',\n",
              " '4608532.1075857651485',\n",
              " '27187948.1075857650684',\n",
              " '18346325.1075857654266',\n",
              " '17042690.1075857650186',\n",
              " '11476753.1075857653064',\n",
              " '33309159.1075857595979',\n",
              " '1280210.1075857597127',\n",
              " '19333648.1075857594666',\n",
              " '5296469.1075857658367',\n",
              " '23057737.1075857601038',\n",
              " '7442783.1075857594944',\n",
              " '14965071.1075857599113',\n",
              " '1235794.1075857653547',\n",
              " '17259122.1075857598177',\n",
              " '27496330.1075857599135',\n",
              " '10741607.1075857600950',\n",
              " '9855848.1075857597735',\n",
              " '8779306.1075857599091',\n",
              " '13443589.1075857600218',\n",
              " '1344885.1075857600283',\n",
              " '17767559.1075857594623',\n",
              " '1460363.1075857657366',\n",
              " '16040614.1075857657388',\n",
              " '9513095.1075857597540',\n",
              " '8614134.1075857655125',\n",
              " '32586900.1075857594580',\n",
              " '25081271.1075857600086',\n",
              " '18076120.1075857599934',\n",
              " '24512879.1075857657431',\n",
              " '7410631.1075857598982',\n",
              " '14535951.1075857651999',\n",
              " '26702401.1075857595677',\n",
              " '16208484.1075857658986',\n",
              " '14055809.1075857655996',\n",
              " '31328170.1075857655909',\n",
              " '2200629.1075857599483',\n",
              " '10618229.1075857657058',\n",
              " '30235823.1075857656925',\n",
              " '26813632.1075857653239',\n",
              " '18518186.1075857596951',\n",
              " '17721019.1075857596305',\n",
              " '19333123.1075857650073',\n",
              " '26270100.1075857598045',\n",
              " '23299574.1075857651595',\n",
              " '18120216.1075857657080',\n",
              " '11976444.1075857651507',\n",
              " '12628033.1075857597082',\n",
              " '21351833.1075857600305',\n",
              " '8100668.1075857597150',\n",
              " '7293239.1075857597953',\n",
              " '26144738.1075857594796',\n",
              " '2039389.1075857653810',\n",
              " '18627553.1075857661524',\n",
              " '18520811.1075857650486',\n",
              " '17611484.1075857597172',\n",
              " '13960264.1075857658698',\n",
              " '773676.1075857654425',\n",
              " '19407296.1075857650617',\n",
              " '23822038.1075857658431',\n",
              " '17579414.1075857597367',\n",
              " '6872234.1075857597932',\n",
              " '18917089.1075857653085',\n",
              " '27677135.1075857653981',\n",
              " '30359418.1075857599376',\n",
              " '3677051.1075857657147',\n",
              " '1837490.1075857597060',\n",
              " '10825199.1075857602190',\n",
              " '32730441.1075857653351',\n",
              " '27366520.1075857596930',\n",
              " '23784307.1075857597844',\n",
              " '6935248.1075857594516',\n",
              " '32362043.1075857600064',\n",
              " '31307130.1075857655193',\n",
              " '15158297.1075857650899',\n",
              " '32892980.1075857598002',\n",
              " '24895032.1075857600736',\n",
              " '11256811.1075857601060',\n",
              " '27343688.1075863711046',\n",
              " '14858888.1075857651793',\n",
              " '28367005.1075857650509',\n",
              " '1654017.1075857597017',\n",
              " '15285068.1075857653938',\n",
              " '5446449.1075857594451',\n",
              " '13844738.1075857596392',\n",
              " '11245962.1075857650748',\n",
              " '3411593.1075857653960',\n",
              " '3574764.1075857600475',\n",
              " '15042778.1075857600714',\n",
              " '23808285.1075857598702',\n",
              " '2726985.1075857655016',\n",
              " '32239363.1075857595807',\n",
              " '8618376.1075857651868',\n",
              " '2268604.1075857652949',\n",
              " '2363438.1075857657841',\n",
              " '3073341.1075857596866',\n",
              " '16267167.1075857654394',\n",
              " '21218946.1075857649940',\n",
              " '26239621.1075857651225',\n",
              " '6398802.1075857654979',\n",
              " '19955161.1075857597714',\n",
              " '32764884.1075857601388',\n",
              " '20827910.1075857651772',\n",
              " '15299653.1075857662533',\n",
              " '20171259.1075857653481',\n",
              " '22083600.1075857596413',\n",
              " '27416256.1075857657862',\n",
              " '21884118.1075857658063',\n",
              " '10537445.1075857655390',\n",
              " '30031046.1075857598528',\n",
              " '21362877.1075857652540',\n",
              " '10008095.1075857595829',\n",
              " '13876367.1075857655500',\n",
              " '22562856.1075857596586',\n",
              " '18032638.1075857655456',\n",
              " '8497228.1075857599048',\n",
              " '27868892.1075857596716',\n",
              " '14371860.1075857601017',\n",
              " '6552660.1075857656991',\n",
              " '29406139.1075857594335',\n",
              " '17805507.1075857658940',\n",
              " '25124831.1075857599419',\n",
              " '28376645.1075857655238',\n",
              " '6384662.1075857656041',\n",
              " '23707366.1075857595937',\n",
              " '10353423.1075857652669',\n",
              " '29352074.1075857650639',\n",
              " '21808189.1075857649876',\n",
              " '3181514.1075857658873',\n",
              " '24632457.1075857653283',\n",
              " '6099369.1075857598441',\n",
              " '20430944.1075857659032',\n",
              " '7181067.1075857602318',\n",
              " '11971129.1075857654956',\n",
              " '17195279.1075857655281',\n",
              " '17347344.1075857657819',\n",
              " '12941463.1075857599243',\n",
              " '28221841.1075857594558',\n",
              " '10480477.1075857649616',\n",
              " '7584611.1075857597105',\n",
              " '10216181.1075857658324',\n",
              " '17569138.1075857658721',\n",
              " '8912200.1075857598110',\n",
              " '7736085.1075857654891',\n",
              " '3126127.1075857653305',\n",
              " '10337786.1075857649963',\n",
              " '32776644.1075857658676',\n",
              " '22399752.1075857653438',\n",
              " '18731712.1075857658964',\n",
              " '4555533.1075857596131',\n",
              " '438850.1075863711023',\n",
              " '30651679.1075857655040']"
            ]
          },
          "metadata": {},
          "execution_count": 82
        }
      ],
      "source": [
        "# your code here\n",
        "query=\"never OR know\"\n",
        "parse_query(inv_index, query, set(doc.keys()))"
      ]
    },
    {
      "cell_type": "markdown",
      "metadata": {
        "id": "IAhHuIDfN-Jp"
      },
      "source": [
        "## Observations (10 points)\n",
        "Does your boolean search engine find relevant documents for these queries? As in, would our customers be happy if we shipped this retrieval engine? Why or why not?\n",
        "\n",
        "What is the impact of the pre-processing options? Do they impact your search quality?"
      ]
    },
    {
      "cell_type": "markdown",
      "metadata": {
        "id": "UX6k-Vil0GIy"
      },
      "source": [
        "*your discussion here*\n",
        "\n",
        "#### The search engine is fetching relevant documents for the queries. The customers will be happy as it makes their search easy and the search engine has the capability for long queries. So, the user can modify their search for exact results."
      ]
    },
    {
      "cell_type": "markdown",
      "metadata": {
        "id": "v5JYoNNrlimy"
      },
      "source": [
        "# Part 3: Ranking (35 points)\n",
        "\n",
        "For the third part, you will add ranking to your search system. Given a search query, our goal is to retrieve the top-5 most relevant emails by assigning a score to each document.\n",
        "\n",
        "We will explore two ranking methods, each offering a different approach to scoring and ranking documents:\n"
      ]
    },
    {
      "cell_type": "markdown",
      "metadata": {
        "id": "mBMlmJ-8mP8X"
      },
      "source": [
        "### Ranking method A: Ranking with vector space model with TF-IDF (15 points)\n",
        "\n",
        "**Cosine:** You should use cosine as your scoring function.\n",
        "\n",
        "**TFIDF:** For the **document vectors**, use the standard TF-IDF scores introduced in class. For the **query vector**, use **simple weights (the raw term frequency)**. For example:\n",
        "* query: never $\\rightarrow$ (1)\n",
        "* query: never know $\\rightarrow$ (1, 1)\n",
        "\n",
        "**Query:**  `trade`\n",
        "\n",
        "**Output:**\n",
        "You should output the top-5 results plus the cosine score of each of these documents.  \n",
        "\n",
        "The output should be like this:\n",
        "\n",
        "Rank Scores DocumentID Document\n",
        "\n",
        "---\n",
        "\n",
        "You can additionally assume that your queries will contain at most three words. Be sure to normalize your vectors as part of the cosine calculation!\n"
      ]
    },
    {
      "cell_type": "code",
      "execution_count": 83,
      "metadata": {
        "id": "3OMOP3bomAM2",
        "colab": {
          "base_uri": "https://localhost:8080/",
          "height": 248
        },
        "outputId": "0ad11149-de21-4f25-fcc9-183a109d14c2"
      },
      "outputs": [
        {
          "output_type": "stream",
          "name": "stdout",
          "text": [
            "Counter({'the': 4111, 'to': 3768, 'ect': 2600, 'enron': 2296, 'a': 1897, 'and': 1795, 'you': 1749, 'of': 1716, 'i': 1696, 'on': 1590, 'john': 1514, 'in': 1465, 'hou': 1345, 'com': 1319, 'is': 1202, 'for': 1165, 'arnold': 999, 'subject': 936, 's': 871, 'it': 865, 'that': 846, 'cc': 820, 'be': 752, 'we': 712, 'this': 707, 'from': 706, 'pm': 686, 'will': 685, 'if': 613, 'are': 607, 'have': 604, 'as': 582, 'or': 581, 'your': 577, 'with': 576, 'at': 565, 'am': 564, 'by': 561, 'not': 522, 're': 477, 'me': 426, 'gas': 420, 'please': 394, 't': 393, 'but': 379, 'corp': 375, 'e': 353, 'was': 336, 'any': 331, 'what': 325, 'can': 323, 'get': 320, 'my': 311, 'm': 311, 'would': 311, 'all': 307, 'so': 302, 'do': 295, 'an': 289, 'mail': 285, 'they': 277, 'company': 272, 'out': 264, 'up': 254, 'message': 252, 'think': 244, 'about': 237, 'energy': 237, 'may': 230, 'more': 230, 'know': 226, 'just': 225, 'thanks': 222, 'one': 216, 'trading': 207, 'has': 202, 'year': 200, 'he': 199, 'enronxgate': 196, 'time': 196, 'market': 193, 'like': 184, 'now': 179, 'some': 179, 'jennifer': 177, 'price': 176, 'forwarded': 176, 'when': 175, 'active': 170, 'its': 169, 'new': 167, 'how': 162, 'today': 162, 'than': 161, 'last': 160, 'carrfut': 159, 'our': 158, 'there': 158, 'd': 157, 'http': 157, 'no': 155, 'www': 154, 'been': 152, 'demand': 150, 'email': 147, 'week': 147, 'us': 145, 'going': 144, 'communications': 142, 'good': 141, 'see': 141, 'don': 141, 'next': 139, 'call': 139, 'said': 138, 'j': 137, 'sent': 135, 'fraser': 134, 'edu': 134, 'l': 133, 'offer': 133, 'jarnold': 131, 'need': 131, 'ees': 131, 'which': 130, 'natural': 128, 'very': 128, 'back': 127, 'trade': 126, 'here': 125, 'p': 125, 'let': 124, 'should': 122, 'hbs': 121, 'under': 120, 'after': 119, 'na': 119, 'had': 119, 'other': 118, 'their': 117, 'mba': 116, 'power': 115, 'were': 114, 'epao': 114, 'day': 113, 'll': 113, 'well': 112, 'original': 109, 'also': 109, 'nymex': 107, 'who': 107, 'want': 107, 'two': 107, 'term': 107, 'them': 106, 'much': 106, 'research': 105, 'prices': 105, 'work': 104, 'fax': 104, 'go': 104, 'per': 102, 'weather': 102, 'brian': 102, 'only': 102, 'could': 101, 'take': 101, 'share': 101, 'futures': 100, 'over': 100, 'still': 99, 'x': 98, 'long': 98, 'down': 97, 'sell': 97, 'way': 97, 'allen': 96, 'free': 96, 'information': 95, 'short': 95, 'buy': 94, 'into': 94, 'these': 93, 'pdf': 92, 'credit': 92, 'deal': 91, 'million': 91, 'where': 90, 'then': 90, 'eol': 90, 'make': 87, 'his': 87, 'off': 85, 'bcf': 85, 'mark': 82, 'such': 82, 'little': 82, 'group': 82, 'c': 81, 'friday': 81, 'winter': 81, 'ng': 81, 'give': 81, 'meeting': 80, 'use': 79, 'come': 79, 'mike': 78, 'f': 78, 'business': 78, 'month': 78, 'jan': 77, 'most': 77, 'summer': 76, 'herein': 76, 'right': 76, 'products': 74, 'u': 74, 'really': 74, 'margaret': 74, 'years': 74, 'slafontaine': 73, 'globalp': 73, 'project': 73, 'first': 72, 'michael': 72, 'those': 72, 'houston': 72, 'management': 72, 'charts': 71, 'thank': 71, 'change': 71, 'y': 70, 'curve': 70, 'respond': 70, 'keep': 70, 'electricity': 70, 'development': 69, 'cash': 69, 'office': 69, 'game': 69, 'does': 68, 'risk': 68, 'people': 68, 'markets': 68, 'value': 68, 'him': 68, 'std': 68, 'financial': 67, 'big': 67, 'sunday': 67, 'because': 67, 'even': 67, 'current': 67, 'forward': 66, 'again': 66, 'until': 66, 'th': 65, 'did': 65, 'de': 65, 'tomorrow': 64, 'oil': 64, 'production': 64, 'end': 64, 've': 64, 'hoskins': 64, 'own': 64, 'trades': 63, 'g': 63, 'march': 63, 'each': 63, 'point': 63, 'believe': 62, 'weeks': 62, 'bid': 62, 'place': 62, 'steve': 62, 'before': 62, 'questions': 62, 'tuesday': 61, 'andy': 61, 'soblander': 61, 'carr': 61, 'great': 61, 'net': 61, 'thursday': 61, 'got': 61, 'california': 61, 'phone': 60, 'jeff': 60, 'otmc': 60, 'crude': 59, 'night': 59, 'oct': 59, 'hope': 59, 'name': 59, 'frank': 59, 'daily': 58, 'sure': 58, 'money': 58, 'through': 58, 'otmp': 58, 'hey': 57, 'pay': 57, 'h': 57, 'contained': 57, 'available': 57, 'however': 57, 'system': 57, 'look': 56, 'following': 56, 'same': 56, 'trying': 56, 'problem': 56, 'david': 56, 'ina': 55, 'k': 55, 'basis': 55, 'vol': 55, 'high': 55, 'wednesday': 55, 'set': 54, 'nov': 54, 'order': 54, 'var': 54, 'monday': 54, 'options': 54, 'buying': 54, 'floor': 54, 'around': 53, 'move': 53, 'number': 53, 'home': 53, 'kim': 52, 'nat': 52, 'close': 52, 'getting': 52, 'ce': 52, 'painewebber': 52, 'both': 52, 'customer': 52, 'too': 52, 'apr': 52, 'heads': 52, 'interest': 52, 'james': 52, 'global': 51, 'dinner': 51, 'since': 51, 'broker': 50, 'contact': 50, 'numbers': 50, 'being': 50, 'days': 50, 'storage': 50, 'made': 50, 'lavorato': 50, 'put': 50, 'help': 50, 'spread': 49, 'access': 49, 'another': 49, 'strong': 49, 'many': 49, 'july': 49, 'option': 48, 'either': 48, 'et': 48, 'might': 48, 'best': 48, 'mailto': 48, 'play': 48, 'list': 48, 'ward': 47, 'jen': 47, 'date': 47, 'april': 47, 'why': 47, 'address': 47, 'worth': 47, 'globalco': 47, 'based': 46, 'yes': 46, 'guys': 46, 'internet': 46, 'level': 46, 'kevin': 46, 'cal': 46, 'say': 46, 'tails': 46, 'results': 46, 'dutch': 46, 'portfolio': 46, 'scott': 45, 'coming': 45, 'sep': 45, 'regarding': 45, 'everyone': 45, 'received': 45, 'less': 45, 'things': 45, 'past': 45, 'try': 45, 'times': 45, 'extra': 45, 'while': 45, 'fundamentals': 44, 'nothing': 44, 'via': 44, 'send': 44, 'trader': 44, 'few': 44, 'aga': 44, 'below': 44, 'position': 44, 'stock': 44, 'mar': 44, 'north': 43, 'traders': 43, 'looking': 43, 'im': 43, 'white': 43, 'inc': 43, 'maybe': 43, 'orders': 43, 'eb': 43, 'able': 43, 'view': 43, 'r': 43, 'run': 43, 'web': 42, 'higher': 42, 'months': 42, 'switching': 42, 'june': 42, 'yet': 42, 'find': 42, 'service': 42, 'done': 41, 'start': 41, 'hot': 41, 'talk': 41, 'thing': 41, 'front': 41, 'toute': 41, 'attached': 41, 'tonight': 41, 'says': 41, 'thought': 41, 'must': 41, 'report': 41, 'three': 41, 'executive': 41, 'team': 41, 'z': 40, 'book': 40, 'aug': 40, 'during': 40, 'services': 40, 'eva': 40, 'pao': 40, 'el': 40, 'lay': 40, 'deals': 39, 'morning': 39, 'america': 39, 'bullish': 39, 'paribas': 39, 'though': 39, 'between': 39, 'anything': 39, 'companies': 39, 'plan': 39, 'cost': 39, 'lon': 38, 'thomas': 38, 'ny': 38, 'taylor': 38, 'regards': 38, 'account': 38, 'different': 38, 'quarter': 38, 'fangming': 38, 'every': 38, 'lot': 38, 'provide': 37, 'expressed': 37, 'desk': 37, 'q': 37, 'dont': 37, 'dec': 37, 'calls': 37, 'w': 37, 'having': 37, 'bearish': 37, 'industrial': 37, 'longer': 37, 'open': 37, 'update': 37, 'working': 37, 'check': 37, 'clearing': 37, 'program': 37, 'second': 37, 'yahoo': 37, 'jeffrey': 36, 'complete': 36, 'solely': 36, 'receive': 36, 'man': 36, 'matthew': 36, 'side': 36, 'soon': 36, 'views': 36, 'total': 36, 'zdnetonebox': 36, 'attend': 36, 'sarah': 36, 'state': 36, 'pira': 35, 'world': 35, 'certainly': 35, 'ie': 35, 'low': 35, 'bnp': 35, 'customers': 35, 'lafontaine': 35, 'probably': 35, 'ago': 35, 'issues': 35, 'doing': 34, 'matrix': 34, 'phillip': 34, 'loss': 34, 'hi': 34, 'notice': 34, 'someone': 34, 'seems': 34, 'looks': 34, 'average': 34, 'later': 34, 'line': 34, 'thus': 34, 'early': 33, 'spreads': 33, 'hunter': 33, 'instructions': 33, 'liz': 33, 'bill': 33, 'maggi': 33, 'due': 33, 'saw': 33, 'product': 33, 'selling': 33, 'sign': 33, 'lost': 33, 'jim': 33, 'greg': 32, 'shankman': 32, 'sources': 32, 'employees': 32, 'location': 32, 'interested': 32, 'ou': 32, 'continue': 32, 'ice': 32, 'plans': 32, 'rangel': 32, 'question': 32, 'pretty': 32, 'volatility': 32, 'currently': 32, 'executing': 32, 'schedule': 31, 'part': 31, 'december': 31, 'eric': 31, 'considered': 31, 'reason': 31, 'ngas': 31, 'b': 31, 'agree': 31, 'volume': 31, 'data': 31, 'hedge': 31, 'ho': 31, 'tell': 31, 'better': 31, 'something': 31, 'analysis': 31, 'several': 31, 'never': 31, 'larry': 30, 'zipper': 30, 'joseph': 30, 'vs': 30, 'except': 30, 'lower': 30, 'actually': 30, 'future': 30, 'o': 30, 'enough': 30, 'told': 30, 'mr': 30, 'member': 30, 'link': 29, 'attachments': 29, 'using': 29, 'review': 29, 'hedging': 29, 'job': 29, 'swap': 29, 'paso': 29, 'making': 29, 'hold': 29, 'problems': 29, 'couple': 29, 'issue': 28, 'show': 28, 'outlook': 28, 'discussed': 28, 'chicago': 28, 'il': 28, 'asked': 28, 'period': 28, 'non': 28, 'tickets': 28, 'president': 28, 'feb': 28, 'v': 28, 'above': 28, 'sorry': 28, 'possible': 28, 'site': 28, 'chance': 28, 'far': 28, 'file': 28, 'n': 28, 'her': 28, 'image': 28, 'minutes': 27, 'afternoon': 27, 'interview': 27, 'industry': 27, 'published': 27, 'usa': 27, 'recent': 27, 'ene': 27, 'huge': 27, 'hard': 27, 'levels': 27, 'heat': 27, 'october': 27, 'cold': 27, 'jun': 27, 'heard': 27, 'york': 27, 'plants': 27, 'increase': 27, 'accept': 27, 'city': 27, 'manager': 27, 'gary': 26, 'therefore': 26, 'tel': 26, 'likely': 26, 'lng': 26, 'mmbtu': 26, 'contracts': 26, 'gapinski': 26, 'already': 26, 'away': 26, 'okay': 26, 'important': 26, 'impact': 26, 'hours': 26, 'old': 26, 'happy': 26, 'utilities': 26, 'meet': 26, 'fw': 26, 'quigley': 26, 'hayden': 26, 'always': 25, 'chris': 25, 'george': 25, 'bob': 25, 'opinions': 25, 'hub': 25, 'used': 25, 'fuel': 25, 'caroline': 25, 'season': 25, 'went': 25, 'support': 25, 'double': 25, 'presentation': 25, 'feel': 25, 'co': 25, 'answer': 25, 'yesterday': 25, 'systems': 25, 'exchange': 25, 'percent': 25, 'debt': 25, 'stephen': 24, 'adam': 24, 'id': 24, 'represent': 24, 'behalf': 24, 'directors': 24, 'neal': 24, 'gets': 24, 'range': 24, 'confirm': 24, 'approval': 24, 'care': 24, 'started': 24, 'costs': 24, 'shively': 24, 'rally': 24, 'full': 24, 'jul': 24, 'texas': 24, 'margin': 24, 'rules': 24, 'org': 24, 'discuss': 24, 'process': 24, 'demo': 24, 'bush': 24, 'paul': 24, 'news': 24, 'event': 24, 'heather': 24, 'everything': 24, 'smith': 24, 'supply': 23, 'accurate': 23, 'material': 23, 'least': 23, 'flat': 23, 'whole': 23, 'idea': 23, 'sold': 23, 'course': 23, 'spec': 23, 'won': 23, 'story': 23, 'economy': 23, 'needs': 23, 'september': 23, 'means': 23, 'expected': 23, 'waiting': 23, 'flip': 23, 'against': 23, 'hello': 23, 'billion': 23, 'fact': 23, 'fun': 23, 'derivatives': 23, 'agreement': 22, 'content': 22, 'unable': 22, 'strip': 22, 'international': 22, 'session': 22, 'stuff': 22, 'cuz': 22, 'ill': 22, 'americas': 22, 'commodity': 22, 'intended': 22, 'confidential': 22, 'test': 22, 'rest': 22, 'presto': 22, 'forum': 22, 'sagel': 22, 'zhu': 22, 'comments': 22, 'once': 22, 'abramo': 22, 'whether': 22, 'idrc': 22, 'area': 22, 'head': 22, 'davis': 22, 'aol': 22, 'large': 22, 'powermerchants': 22, 'ready': 22, 'corporation': 22, 'definitely': 22, 'press': 22, 'found': 22, 'limit': 22, 'else': 22, 'earnings': 22, 'size': 22, 'exploration': 22, 'west': 22, 'love': 21, 'dr': 21, 'affiliates': 21, 'suite': 21, 'appreciate': 21, 'real': 21, 'yea': 21, 'px': 21, 'bnpparibas': 21, 'est': 21, 'le': 21, 'error': 21, 'guess': 21, 'case': 21, 'board': 21, 'weekend': 21, 'wager': 21, 'unless': 21, 'win': 21, 'east': 21, 'further': 21, 'wanted': 21, 'fortune': 21, 'august': 21, 'considering': 21, 'drinks': 21, 'corporate': 21, 'conference': 21, 'young': 21, 'chief': 21, 'stadium': 21, 'economic': 21, 'although': 21, 'williams': 21, 'transaction': 21, 'interesting': 20, 'burns': 20, 'martin': 20, 'bit': 20, 'sont': 20, 'ses': 20, 'nt': 20, 'notify': 20, 'shall': 20, 'opportunity': 20, 'responsible': 20, 'pressure': 20, 'natgas': 20, 'potential': 20, 'build': 20, 'drop': 20, 'understand': 20, 'voicemail': 20, 'within': 20, 'ed': 20, 'hour': 20, 'mean': 20, 'private': 20, 'recently': 20, 'called': 20, 'five': 20, 'tom': 20, 'read': 20, 'hbk': 20, 'destruction': 20, 'methodology': 20, 'wanna': 19, 'vince': 19, 'provided': 19, 'reliable': 19, 'solicitation': 19, 'differ': 19, 'sa': 19, 'immediately': 19, 'mid': 19, 'reply': 19, 'thinking': 19, 'vice': 19, 'rather': 19, 'effect': 19, 'fund': 19, 'haven': 19, 'contract': 19, 'fill': 19, 'sales': 19, 'left': 19, 'ok': 19, 'details': 19, 'san': 19, 'vacation': 19, 'kimberly': 19, 'hear': 19, 'works': 19, 'normal': 19, 'without': 19, 'saturday': 19, 'including': 19, 'rate': 19, 'copyright': 19, 'taking': 19, 'completely': 19, 'target': 19, 'strike': 19, 'dave': 19, 'kaiser': 19, 'paper': 19, 'firm': 19, 'amount': 19, 'candlesticks': 19, 'kaminski': 18, 'talked': 18, 'instruments': 18, 'author': 18, 'respects': 18, 'officers': 18, 'wacker': 18, 'almost': 18, 'weekly': 18, 'sender': 18, 'discussion': 18, 'funds': 18, 'thoughts': 18, 'nice': 18, 'cts': 18, 'msagel': 18, 'application': 18, 'hu': 18, 'karen': 18, 'jenwhite': 18, 'zdnet': 18, 'onebox': 18, 'advise': 18, 'wesner': 18, 'article': 18, 'seem': 18, 'chairman': 18, 'zerilli': 18, 'remember': 18, 'fall': 18, 'personal': 18, 'picture': 18, 'page': 18, 'settle': 18, 'kenneth': 18, 'associated': 18, 'rights': 18, 'air': 18, 'field': 18, 'bring': 18, 'stop': 18, 'volumes': 18, 'common': 18, 'bellows': 18, 'rick': 17, 'jay': 17, 'third': 17, 'party': 17, 'shut': 17, 'henry': 17, 'formal': 17, 'mkt': 17, 'seen': 17, 'sturm': 17, 'note': 17, 'st': 17, 'doc': 17, 'post': 17, 'document': 17, 'additional': 17, 'add': 17, 'similar': 17, 'return': 17, 'late': 17, 'cents': 17, 'main': 17, 'analyst': 17, 'mind': 17, 'goes': 17, 'positions': 17, 'terms': 17, 'capital': 17, 'closer': 17, 'delta': 17, 'starting': 17, 'richard': 17, 'em': 17, 'instead': 17, 'ask': 17, 'major': 17, 'deregulation': 17, 'fixed': 17, 'rise': 17, 'plant': 17, 'sounds': 17, 'commercials': 17, 'london': 17, 'la': 17, 'changes': 17, 'shares': 17, 'debbie': 17, 'sessions': 17, 'together': 17, 'form': 17, 'half': 17, 'guggenheim': 17, 'rule': 17, 'ena': 16, 'resources': 16, 'directly': 16, 'indicated': 16, 'clicking': 16, 'write': 16, 'cant': 16, 'stay': 16, 'doesnt': 16, 'exposure': 16, 'prohibited': 16, 'guarantee': 16, 'spreadsheet': 16, 'puts': 16, 'ideas': 16, 'heating': 16, 'concerned': 16, 'equity': 16, 'wants': 16, 'fred': 16, 'november': 16, 'members': 16, 'assume': 16, 'playing': 16, 'charge': 16, 'director': 16, 'took': 16, 'along': 16, 'street': 16, 'function': 16, 'seeing': 16, 'among': 16, 'follow': 16, 'turn': 16, 'producers': 16, 'mkts': 16, 'utility': 16, 'capacity': 16, 'national': 16, 'break': 16, 'electric': 16, 'brokers': 16, 'msn': 16, 'request': 16, 'bonneville': 16, 'hrobertson': 16, 'obviously': 16, 'tender': 16, 'electronic': 16, 'dollar': 16, 'seat': 16, 'february': 15, 'agreed': 15, 'peter': 15, 'estimates': 15, 'decline': 15, 'dissemination': 15, 'makes': 15, 'prompt': 15, 'jv': 15, 'decision': 15, 'charges': 15, 'growth': 15, 'murphy': 15, 'vladimir': 15, 'gorny': 15, 'lines': 15, 'four': 15, 'computer': 15, 'compared': 15, 'happen': 15, 'gonna': 15, 'planning': 15, 'confirmation': 15, 'didn': 15, 'russell': 15, 'talking': 15, 'invite': 15, 'fertilizer': 15, 'wine': 15, 'investor': 15, 'outcome': 15, 'thx': 15, 'info': 15, 'related': 15, 'reuters': 15, 'income': 15, 'aquila': 15, 'near': 14, 'fyi': 14, 'matrices': 14, 'links': 14, 'cud': 14, 'delete': 14, 'disclosure': 14, 'curves': 14, 'naked': 14, 'entry': 14, 'accepted': 14, 'length': 14, 'shud': 14, 'crazy': 14, 'brother': 14, 'fletcher': 14, 'addition': 14, 'mobile': 14, 'shorts': 14, 'ever': 14, 'cut': 14, 'commercial': 14, 'feedback': 14, 'canada': 14, 'walk': 14, 'jean': 14, 'appears': 14, 'ted': 14, 'doesn': 14, 'training': 14, 'came': 14, 'she': 14, 'cover': 14, 'funny': 14, 'action': 14, 'pick': 14, 'washington': 14, 'top': 14, 'consumers': 14, 'isn': 14, 'reports': 14, 'include': 14, 'small': 14, 'become': 14, 'greater': 14, 'profitable': 14, 'remove': 14, 'aluminum': 14, 'watch': 14, 'robertson': 14, 'friends': 14, 'wish': 14, 'invitation': 14, 'monthly': 14, 'gen': 14, 'swaps': 14, 'diluted': 14, 'moneynet': 14, 'expansion': 14, 'sekse': 13, 'jonathan': 13, 'distillate': 13, 'boys': 13, 'records': 13, 'en': 13, 'accord': 13, 'subsidiaries': 13, 'grant': 13, 'suggest': 13, 'transmitted': 13, 'reserves': 13, 'moving': 13, 'running': 13, 'processing': 13, 'weak': 13, 'others': 13, 'saying': 13, 'opportunities': 13, 'covering': 13, 'exactly': 13, 'broadband': 13, 'ca': 13, 'thats': 13, 'implied': 13, 'gasoline': 13, 'taken': 13, 'happened': 13, 'scenario': 13, 'telling': 13, 'seller': 13, 'hate': 13, 'silverman': 13, 'building': 13, 'everybody': 13, 'fine': 13, 'calendar': 13, 'green': 13, 'states': 13, 'oh': 13, 'johnny': 13, 'andrew': 13, 'anyway': 13, 'tournament': 13, 'pt': 13, 'seattle': 13, 'analysts': 13, 'jones': 13, 'officials': 13, 'general': 13, 'joint': 13, 'pipeline': 13, 'generation': 13, 'lots': 13, 'index': 13, 'invest': 13, 'traded': 13, 'extremely': 13, 'six': 13, 'forecast': 13, 'version': 13, 'expense': 13, 'nowak': 13, 'etc': 13, 'useful': 13, 'participant': 13, 'initial': 13, 'takes': 13, 'counterparties': 13, 'recruiting': 13, 'tracker': 13, 'stress': 13, 'models': 13, 'posted': 13, 'counterparty': 13, 'publication': 12, 'setting': 12, 'annual': 12, 'scheduled': 12, 'injections': 12, 'flow': 12, 'scale': 12, 'survey': 12, 'reminder': 12, 'si': 12, 'vous': 12, 'ne': 12, 'purpose': 12, 'response': 12, 'status': 12, 'cell': 12, 'carrying': 12, 'wondering': 12, 'willing': 12, 'happens': 12, 'rogers': 12, 'businesses': 12, 'jason': 12, 'benefit': 12, 'flash': 12, 'producer': 12, 'blow': 12, 'changed': 12, 'held': 12, 'staff': 12, 'names': 12, 'ryan': 12, 'center': 12, 'groups': 12, 'relative': 12, 'vanderbilt': 12, 'brown': 12, 'reporting': 12, 'edward': 12, 'mrha': 12, 'firms': 12, 'box': 12, 'guy': 12, 'interviews': 12, 'wall': 12, 'comes': 12, 'network': 12, 'town': 12, 'role': 12, 'profits': 12, 'section': 12, 'reserved': 12, 'reported': 12, 'earlier': 12, 'various': 12, 'rates': 12, 'bad': 12, 'experience': 12, 'software': 12, 'william': 12, 'unfortunately': 12, 'neutral': 12, 'fundamental': 12, 'byrne': 12, 'life': 12, 'stephanie': 12, 'tim': 12, 'click': 12, 'cheng': 12, 'fails': 12, 'expect': 12, 'moved': 12, 'screen': 12, 'vlady': 12, 'release': 12, 'merger': 12, 'settlement': 12, 'infoseek': 12, 'community': 12, 'conf': 12, 'type': 12, 'meteorologists': 12, 'petrochina': 12, 'shirley': 11, 'unleaded': 11, 'bear': 11, 'itself': 11, 'les': 11, 'par': 11, 'merci': 11, 'avertir': 11, 'immediatement': 11, 'expediteur': 11, 'utilisation': 11, 'destination': 11, 'diffusion': 11, 'partielle': 11, 'pas': 11, 'partial': 11, 'integrity': 11, 'premium': 11, 'monitor': 11, 'amazing': 11, 'example': 11, 'herndon': 11, 'january': 11, 'mentioned': 11, 'valuable': 11, 'approve': 11, 'stage': 11, 'tx': 11, 'shit': 11, 'lagrasta': 11, 'coin': 11, 'flipping': 11, 'cabo': 11, 'hillis': 11, 'robert': 11, 'louise': 11, 'joe': 11, 'across': 11, 'person': 11, 'offers': 11, 'versus': 11, 'fzerilli': 11, 'outside': 11, 'sean': 11, 'technical': 11, 'hit': 11, 'pass': 11, 'sports': 11, 'join': 11, 'completed': 11, 'ann': 11, 'round': 11, 'francisco': 11, 'stocks': 11, 'administration': 11, 'secretary': 11, 'ways': 11, 'government': 11, 'dow': 11, 'department': 11, 'biggest': 11, 'sale': 11, 'quick': 11, 'according': 11, 'putting': 11, 'advantage': 11, 'easy': 11, 'allow': 11, 'dollars': 11, 'standard': 11, 'whats': 11, 'correlation': 11, 'roberts': 11, 'estimated': 11, 'significantly': 11, 'serious': 11, 'acquiring': 11, 'instance': 11, 'anderson': 11, 'payment': 11, 'asap': 11, 'swing': 11, 'utilicorp': 11, 'aftertax': 11, 'marquez': 11, 'csfb': 11, 'celebrate': 10, 'public': 10, 'parker': 10, 'website': 10, 'bull': 10, 'hoil': 10, 'unlded': 10, 'stripmatrix': 10, 'checking': 10, 'includes': 10, 'bet': 10, 'reward': 10, 'thots': 10, 'noon': 10, 'toutes': 10, 'pieces': 10, 'jointes': 10, 'ci': 10, 'apres': 10, 'etablis': 10, 'intention': 10, 'exclusive': 10, 'destinataires': 10, 'confidentiels': 10, 'recevez': 10, 'erreur': 10, 'detruire': 10, 'conforme': 10, 'totale': 10, 'interdite': 10, 'sauf': 10, 'autorisation': 10, 'expresse': 10, 'permettant': 10, 'assurer': 10, 'integrite': 10, 'filiales': 10, 'responsabilite': 10, 'au': 10, 'titre': 10, 'dans': 10, 'hypothese': 10, 'aurait': 10, 'ete': 10, 'modifie': 10, 'addressees': 10, 'liable': 10, 'modified': 10, 'vols': 10, 'approach': 10, 'ability': 10, 'transmit': 10, 'confidentiality': 10, 'roll': 10, 'upon': 10, 'users': 10, 'comment': 10, 'consider': 10, 'heavy': 10, 'realize': 10, 'items': 10, 'shipping': 10, 'missed': 10, 'entire': 10, 'tix': 10, 'jeanie': 10, 'provides': 10, 'ps': 10, 'petro': 10, 'miller': 10, 'julie': 10, 'uk': 10, 'jose': 10, 'nicole': 10, 'entity': 10, 'whom': 10, 'spoke': 10, 'paying': 10, 'afraid': 10, 'busy': 10, 'commodities': 10, 'bayer': 10, 'conversation': 10, 'leaving': 10, 'previous': 10, 'sprds': 10, 'opinion': 10, 'invited': 10, 'fee': 10, 'crisis': 10, 'managing': 10, 'helped': 10, 'allowed': 10, 'ensure': 10, 'created': 10, 'bought': 10, 'couldn': 10, 'influence': 10, 'history': 10, 'thinks': 10, 'known': 10, 'whatever': 10, 'distribution': 10, 'priced': 10, 'increased': 10, 'participants': 10, 'authority': 10, 'commitment': 10, 'naming': 10, 'moves': 10, 'facility': 10, 'otc': 10, 'skew': 10, 'goldman': 10, 'bills': 10, 'terra': 10, 'rosenbury': 10, 'beginning': 10, 'piasio': 10, 'griffith': 10, 'calling': 10, 'mary': 10, 'steven': 10, 'myself': 10, 'depends': 10, 'drilling': 10, 'anyone': 10, 'create': 10, 'approximately': 10, 'leave': 10, 'sending': 10, 'given': 10, 'present': 10, 'whalley': 10, 'cheryl': 10, 'anymore': 10, 'lewis': 10, 'trip': 10, 'internal': 10, 'liquidity': 10, 'shell': 10, 'investment': 10, 'assets': 10, 'straddle': 10, 'forms': 10, 'cent': 10, 'wud': 10, 'bloomberg': 10, 'humphries': 10, 'als': 10, 'pipingtech': 10, 'push': 9, 'assistant': 9, 'michelle': 9, 'topic': 9, 'sit': 9, 'relations': 9, 'douglas': 9, 'beth': 9, 'lisa': 9, 'thompson': 9, 'asian': 9, 'adams': 9, 'england': 9, 'commission': 9, 'spreadmatrixng': 9, 'spreadmatrixcl': 9, 'errol': 9, 'enrononline': 9, 'contangos': 9, 'bucks': 9, 'wide': 9, 'pricing': 9, 'ellis': 9, 'correct': 9, 'bowl': 9, 'factor': 9, 'approved': 9, 'grigsby': 9, 'limited': 9, 'handle': 9, 'northeast': 9, 'finish': 9, 'combined': 9, 'klarnold': 9, 'invoice': 9, 'extended': 9, 'added': 9, 'lag': 9, 'buyer': 9, 'wrong': 9, 'beleive': 9, 'typical': 9, 'slone': 9, 'specific': 9, 'legal': 9, 'lunch': 9, 'room': 9, 'magazine': 9, 'utilites': 9, 'laura': 9, 'sun': 9, 'south': 9, 'moore': 9, 'ac': 9, 'offering': 9, 'operations': 9, 'finance': 9, 'continental': 9, 'result': 9, 'house': 9, 'rite': 9, 'kahn': 9, 'bottom': 9, 'required': 9, 'nearly': 9, 'remains': 9, 'transmission': 9, 'players': 9, 'lead': 9, 'largest': 9, 'sense': 9, 'ultimate': 9, 'separate': 9, 'craig': 9, 'family': 9, 'hands': 9, 'economics': 9, 'country': 9, 'prefer': 9, 'expensive': 9, 'offered': 9, 'player': 9, 'poor': 9, 'changing': 9, 'limits': 9, 'reasonable': 9, 'code': 9, 'totally': 9, 'turning': 9, 'spring': 9, 'spend': 9, 'standing': 9, 'live': 9, 'impressive': 9, 'sat': 9, 'glad': 9, 'buddy': 9, 'agreements': 9, 'duke': 9, 'clear': 9, 'delay': 9, 'shows': 9, 'dan': 9, 'hr': 9, 'quite': 9, 'sunil': 9, 'dynegy': 9, 'perhaps': 9, 'asset': 9, 'msa': 9, 'pete': 9, 'record': 9, 'outstanding': 9, 'ebit': 9, 'brazil': 9, 'pretax': 9, 'airport': 9, 'inj': 9, 'christine': 9, 'straddles': 9, 'mm': 9, 'websupport': 9, 'description': 9, 'confirmed': 9, 'carbon': 9, 'standards': 9, 'htm': 9, 'dear': 9, 'permission': 9, 'fairly': 9, 'smud': 9, 'gap': 9, 'australia': 9, 'shipos': 9, 'forecasts': 9, 'innovative': 9, 'emergency': 9, 'visit': 8, 'doug': 8, 'hickerson': 8, 'nowlan': 8, 'ap': 8, 'patrick': 8, 'susan': 8, 'paula': 8, 'judy': 8, 'american': 8, 'portion': 8, 'employee': 8, 'tho': 8, 'cst': 8, 'tanya': 8, 'historical': 8, 'agg': 8, 'official': 8, 'testing': 8, 'noticed': 8, 'privacy': 8, 'brokerage': 8, 'hurt': 8, 'plus': 8, 'requirement': 8, 'penny': 8, 'maintenance': 8, 'crack': 8, 'touch': 8, 'super': 8, 'tax': 8, 'password': 8, 'jack': 8, 'writing': 8, 'equilibrium': 8, 'inject': 8, 'hell': 8, 'couldnt': 8, 'mon': 8, 'fimat': 8, 'loan': 8, 'respective': 8, 'ei': 8, 'towards': 8, 'central': 8, 'hotel': 8, 'enjoy': 8, 'concerns': 8, 'responsibilities': 8, 'airam': 8, 'arteaga': 8, 'harder': 8, 'deffner': 8, 'barry': 8, 'schwieger': 8, 'brad': 8, 'microsoft': 8, 'europe': 8, 'knows': 8, 'force': 8, 'operating': 8, 'executed': 8, 'vp': 8, 'orbits': 8, 'club': 8, 'deathly': 8, 'huh': 8, 'wouldn': 8, 'enter': 8, 'spots': 8, 'upside': 8, 'minute': 8, 'picked': 8, 'sitting': 8, 'creating': 8, 'jfk': 8, 'men': 8, 'schmidt': 8, 'bcc': 8, 'arena': 8, 'affect': 8, 'simply': 8, 'university': 8, 'technology': 8, 'places': 8, 'sellers': 8, 'increases': 8, 'profit': 8, 'built': 8, 'words': 8, 'model': 8, 'structure': 8, 'values': 8, 'pg': 8, 'lessons': 8, 'written': 8, 'concern': 8, 'word': 8, 'associates': 8, 'named': 8, 'southern': 8, 'performance': 8, 'marketing': 8, 'announced': 8, 'practices': 8, 'physical': 8, 'black': 8, 'realized': 8, 'requested': 8, 'fuck': 8, 'wrote': 8, 'usually': 8, 'continued': 8, 'supplies': 8, 'crap': 8, 'strategy': 8, 'thru': 8, 'dallas': 8, 'nine': 8, 'investments': 8, 'sheet': 8, 'gave': 8, 'keith': 8, 'user': 8, 'similarly': 8, 'reject': 8, 'pdx': 8, 'format': 8, 'projects': 8, 'relationship': 8, 'bigger': 8, 'located': 8, 'car': 8, 'dalal': 8, 'accessible': 8, 'gone': 8, 'conservation': 8, 'finally': 8, 'gain': 8, 'retail': 8, 'direct': 8, 'develop': 8, 'attendance': 8, 'adobe': 8, 'necessary': 8, 'barney': 8, 'online': 8, 'significant': 8, 'implementation': 8, 'taxes': 8, 'adjusted': 8, 'merchant': 8, 'thode': 8, 'holbrook': 8, 'stack': 8, 'prior': 8, 'scs': 8, 'entering': 8, 'theoretical': 8, 'herve': 8, 'alex': 8, 'cute': 8, 'emails': 8, 'museum': 8, 'quickly': 8, 'emissions': 8, 'copy': 8, 'associate': 8, 'usd': 8, 'showing': 8, 'tony': 8, 'reservation': 8, 'wefa': 8, 'aedc': 8, 'bbl': 8, 'china': 8, 'mexico': 8, 'completion': 7, 'sauced': 7, 'hearing': 7, 'road': 7, 'daniel': 7, 'collins': 7, 'brenda': 7, 'bids': 7, 'marketers': 7, 'keavey': 7, 'attending': 7, 'bias': 7, 'positive': 7, 'nd': 7, 'cupla': 7, 'wont': 7, 'substantial': 7, 'fix': 7, 'solution': 7, 'implement': 7, 'ticket': 7, 'leading': 7, 'expiry': 7, 'inverses': 7, 'peak': 7, 'mite': 7, 'fourth': 7, 'areas': 7, 'participation': 7, 'confused': 7, 'elliott': 7, 'juice': 7, 'ugly': 7, 'shifted': 7, 'incremental': 7, 'slower': 7, 'freak': 7, 'avg': 7, 'appropriate': 7, 'rd': 7, 'necessarily': 7, 'argument': 7, 'scenarios': 7, 'describe': 7, 'morn': 7, 'final': 7, 'reserve': 7, 'edge': 7, 'esp': 7, 'committee': 7, 'title': 7, 'dana': 7, 'baughman': 7, 'kitchen': 7, 'events': 7, 'mailing': 7, 'wilson': 7, 'janet': 7, 'telephone': 7, 'senior': 7, 'addressed': 7, 'indicative': 7, 'existing': 7, 'books': 7, 'band': 7, 'aware': 7, 'luck': 7, 'cooper': 7, 'epenergy': 7, 'individual': 7, 'situation': 7, 'didnt': 7, 'wait': 7, 'balance': 7, 'gotten': 7, 'eventually': 7, 'chronicle': 7, 'industries': 7, 'moreover': 7, 'middle': 7, 'raise': 7, 'paid': 7, 'margins': 7, 'defense': 7, 'worked': 7, 'dog': 7, 'behind': 7, 'worse': 7, 'kind': 7, 'throughout': 7, 'banks': 7, 'giving': 7, 'park': 7, 'fair': 7, 'regulatory': 7, 'supported': 7, 'face': 7, 'friend': 7, 'weird': 7, 'hinchey': 7, 'tracking': 7, 'ceo': 7, 'rich': 7, 'dupre': 7, 'bradford': 7, 'transactions': 7, 'desks': 7, 'assuming': 7, 'effort': 7, 'grow': 7, 'bringing': 7, 'kept': 7, 'gives': 7, 'buys': 7, 'item': 7, 'beach': 7, 'ssmb': 7, 'points': 7, 'cook': 7, 'hall': 7, 'install': 7, 'defend': 7, 'indeed': 7, 'determine': 7, 'eu': 7, 'participate': 7, 'rsvp': 7, 'authorized': 7, 'updates': 7, 'invites': 7, 'tammy': 7, 'wes': 7, 'url': 7, 'figure': 7, 'msdw': 7, 'edie': 7, 'leschber': 7, 'mom': 7, 'er': 7, 'oge': 7, 'wood': 7, 'european': 7, 'matt': 7, 'excel': 7, 'sprecher': 7, 'dean': 7, 'operation': 7, 'fees': 7, 'increasing': 7, 'hydro': 7, 'water': 7, 'html': 7, 'nor': 7, 'summary': 7, 'sheri': 7, 'mcmahon': 7, 'portfolios': 7, 'cl': 7, 'card': 7, 'girlfriends': 7, 'kyoto': 7, 'fileplan': 7, 'count': 7, 'calculation': 7, 'latter': 7, 'cool': 7, 'llc': 7, 'fwd': 7, 'gal': 7, 'cancelled': 7, 'sept': 7, 'lew': 7, 'optonline': 7, 'carlstrom': 7, 'students': 7, 'obligations': 7, 'alaska': 7, 'nitrogen': 7, 'hoggatt': 7, 'mihc': 7, 'coordinate': 6, 'frevert': 6, 'mcclellan': 6, 'tawney': 6, 'gaskill': 6, 'dates': 6, 'direction': 6, 'red': 6, 'suggested': 6, 'savita': 6, 'negative': 6, 'warm': 6, 'ive': 6, 'deep': 6, 'ish': 6, 'wonder': 6, 'fell': 6, 'ft': 6, 'ff': 6, 'alternative': 6, 'choice': 6, 'emery': 6, 'bank': 6, 'child': 6, 'contacts': 6, 'fletch': 6, 'piece': 6, 'squeeze': 6, 'begin': 6, 'manage': 6, 'input': 6, 'import': 6, 'nobody': 6, 'noise': 6, 'failure': 6, 'placed': 6, 'football': 6, 'stx': 6, 'nite': 6, 'submit': 6, 'pre': 6, 'advance': 6, 'jobopps': 6, 'posting': 6, 'sandra': 6, 'lack': 6, 'slow': 6, 'arrange': 6, 'redmond': 6, 'baseball': 6, 'jeffery': 6, 'austin': 6, 'randall': 6, 'advisory': 6, 'corporations': 6, 'united': 6, 'canadian': 6, 'reached': 6, 'quotes': 6, 'concord': 6, 'nosey': 6, 'straight': 6, 'bout': 6, 'grab': 6, 'beer': 6, 'interviewing': 6, 'developing': 6, 'impossible': 6, 'listen': 6, 'supposed': 6, 'growing': 6, 'lately': 6, 'executives': 6, 'los': 6, 'giant': 6, 'sound': 6, 'sector': 6, 'consumer': 6, 'wholesale': 6, 'political': 6, 'army': 6, 'navy': 6, 'colin': 6, 'happening': 6, 'especially': 6, 'buck': 6, 'purchase': 6, 'moment': 6, 'smile': 6, 'efficient': 6, 'simple': 6, 'revenues': 6, 'marketplace': 6, 'complex': 6, 'fast': 6, 'needed': 6, 'mostly': 6, 'valued': 6, 'showed': 6, 'oakland': 6, 'hasn': 6, 'matter': 6, 'coliseum': 6, 'nation': 6, 'ones': 6, 'runs': 6, 'true': 6, 'generates': 6, 'tons': 6, 'accounting': 6, 'subsidiary': 6, 'tv': 6, 'track': 6, 'execution': 6, 'improve': 6, 'loads': 6, 'reasons': 6, 'environment': 6, 'supports': 6, 'region': 6, 'terrible': 6, 'jeremy': 6, 'asia': 6, 'reduce': 6, 'incurred': 6, 'unsubscribe': 6, 'heffner': 6, 'planned': 6, 'river': 6, 'hitting': 6, 'sachs': 6, 'overall': 6, 'closed': 6, 'ammonia': 6, 'looked': 6, 'feet': 6, 'joined': 6, 'lloyd': 6, 'act': 6, 'alot': 6, 'popswine': 6, 'rory': 6, 'restaurant': 6, 'promise': 6, 'colleagues': 6, 'golf': 6, 'skilling': 6, 'chat': 6, 'ir': 6, 'skills': 6, 'visiting': 6, 'sever': 6, 'stand': 6, 'timing': 6, 'ben': 6, 'financing': 6, 'continues': 6, 'despite': 6, 'holst': 6, 'desktop': 6, 'equation': 6, 'considerably': 6, 'acquired': 6, 'wishes': 6, 'takeover': 6, 'syncopated': 6, 'ader': 6, 'nyc': 6, 'belden': 6, 'ron': 6, 'ewc': 6, 'gpgfin': 6, 'pa': 6, 'speak': 6, 'preference': 6, 'yo': 6, 'purposes': 6, 'gerry': 6, 'helpful': 6, 'decent': 6, 'often': 6, 'bar': 6, 'sherriff': 6, 'colwell': 6, 'advice': 6, 'aep': 6, 'baby': 6, 'dependent': 6, 'recession': 6, 'mo': 6, 'rourke': 6, 'holiday': 6, 'respect': 6, 'assessment': 6, 'cancel': 6, 'browser': 6, 'dennis': 6, 'acrobat': 6, 'particular': 6, 'anywhere': 6, 'statements': 6, 'travel': 6, 'detailed': 6, 'focus': 6, 'vis': 6, 'campbell': 6, 'salomon': 6, 'documents': 6, 'ii': 6, 'effective': 6, 'rallies': 6, 'ship': 6, 'lavo': 6, 'dwight': 6, 'bo': 6, 'lose': 6, 'seven': 6, 'bp': 6, 'anytime': 6, 'mulholland': 6, 'consolidated': 6, 'segment': 6, 'pull': 6, 'residential': 6, 'clarify': 6, 'draw': 6, 'miertschin': 6, 'alvino': 6, 'kelley': 6, 'katie': 6, 'stowers': 6, 'steinbrueck': 6, 'delayed': 6, 'pipe': 6, 'strada': 6, 'table': 6, 'barbara': 6, 'included': 6, 'answers': 6, 'ptracker': 6, 'wcom': 6, 'worldcom': 6, 'greeks': 6, 'mistake': 6, 'drew': 6, 'greatly': 6, 'appreciated': 6, 'individuals': 6, 'failed': 6, 'reception': 6, 'alone': 6, 'ex': 6, 'harris': 6, 'jf': 6, 'congrats': 6, 'inventory': 6, 'whereby': 6, 'soc': 6, 'tudor': 6, 'columbus': 6, 'owe': 6, 'perkins': 6, 'maturity': 6, 'surplus': 6, 'generator': 6, 'utilty': 6, 'cacio': 6, 'platform': 6, 'paperwork': 6, 'rafael': 6, 'herrera': 6, 'forster': 6, 'distillates': 6, 'knew': 6, 'vegas': 6, 'tiger': 6, 'goyburu': 6, 'predict': 6, 'migration': 6, 'roughly': 6, 'specifics': 6, 'bandwidth': 6, 'kal': 6, 'shots': 6, 'authorization': 6, 'channel': 6, 'stake': 6, 'meteorology': 6, 'km': 6, 'bcm': 6, 'tickleless': 5, 'newsletter': 5, 'alan': 5, 'sharon': 5, 'crenshaw': 5, 'jackson': 5, 'outlooks': 5, 'save': 5, 'diamond': 5, 'violation': 5, 'roundtable': 5, 'afford': 5, 'futs': 5, 'sucks': 5, 'recovery': 5, 'seats': 5, 'masson': 5, 'locations': 5, 'apply': 5, 'bound': 5, 'bot': 5, 'backs': 5, 'liquids': 5, 'bradley': 5, 'mcgowan': 5, 'meetings': 5, 'activity': 5, 'yep': 5, 'blown': 5, 'attention': 5, 'expires': 5, 'disagree': 5, 'anticpating': 5, 'sqeeze': 5, 'convinced': 5, 'wines': 5, 'phil': 5, 'apparently': 5, 'sometime': 5, 'quit': 5, 'pressuring': 5, 'keeps': 5, 'sick': 5, 'prc': 5, 'purchasing': 5, 'mckay': 5, 'property': 5, 'single': 5, 'specifically': 5, 'expand': 5, 'connection': 5, 'outright': 5, 'giants': 5, 'rita': 5, 'hennessy': 5, 'tycholiz': 5, 'harry': 5, 'mcmichael': 5, 'bruce': 5, 'king': 5, 'sprint': 5, 'notes': 5, 'jane': 5, 'sherry': 5, 'turner': 5, 'schultz': 5, 'inform': 5, 'relatively': 5, 'mention': 5, 'estate': 5, 'eh': 5, 'satellite': 5, 'hum': 5, 'favorite': 5, 'cheap': 5, 'english': 5, 'math': 5, 'probability': 5, 'payout': 5, 'express': 5, 'arrive': 5, 'upgrade': 5, 'solid': 5, 'weekends': 5, 'biz': 5, 'transferred': 5, 'square': 5, 'regard': 5, 'blame': 5, 'curse': 5, 'design': 5, 'former': 5, 'designed': 5, 'spot': 5, 'tendency': 5, 'encourage': 5, 'generating': 5, 'shortages': 5, 'tough': 5, 'justify': 5, 'efforts': 5, 'donald': 5, 'retired': 5, 'powell': 5, 'anonymity': 5, 'quality': 5, 'downtown': 5, 'ken': 5, 'independent': 5, 'hesitate': 5, 'favor': 5, 'jet': 5, 'assistance': 5, 'virtually': 5, 'resolving': 5, 'consolidate': 5, 'buyers': 5, 'competitive': 5, 'coast': 5, 'megawatt': 5, 'division': 5, 'pacific': 5, 'certain': 5, 'shot': 5, 'beyond': 5, 'suggestions': 5, 'upward': 5, 'boston': 5, 'whose': 5, 'officer': 5, 'owned': 5, 'twice': 5, 'security': 5, 'securities': 5, 'parties': 5, 'luxury': 5, 'print': 5, 'steno': 5, 'tends': 5, 'volatile': 5, 'require': 5, 'strikes': 5, 'zip': 5, 'obligation': 5, 'difference': 5, 'lows': 5, 'northwest': 5, 'pays': 5, 'metals': 5, 'particularly': 5, 'percentage': 5, 'slowdown': 5, 'farmers': 5, 'manufacturer': 5, 'smaller': 5, 'mosey': 5, 'pops': 5, 'ordered': 5, 'chinese': 5, 'owner': 5, 'fi': 5, 'lady': 5, 'costa': 5, 'rica': 5, 'exit': 5, 'banc': 5, 'apologize': 5, 'installed': 5, 'grand': 5, 'carefully': 5, 'algebraic': 5, 'exercise': 5, 'acquirer': 5, 'unsure': 5, 'complication': 5, 'undertaking': 5, 'viability': 5, 'succeeds': 5, 'equally': 5, 'fifty': 5, 'implies': 5, 'indications': 5, 'avoid': 5, 'reaches': 5, 'submitting': 5, 'deciding': 5, 'representative': 5, 'deliberating': 5, 'tantamount': 5, 'lou': 5, 'crane': 5, 'curry': 5, 'delainey': 5, 'mandatory': 5, 'accommodate': 5, 'requests': 5, 'video': 5, 'absolutely': 5, 'recommend': 5, 'faith': 5, 'haedicke': 5, 'stacey': 5, 'rob': 5, 'kristin': 5, 'cannot': 5, 'turned': 5, 'drink': 5, 'communication': 5, 'boat': 5, 'gains': 5, 'traditional': 5, 'mcquade': 5, 'bawa': 5, 'kidding': 5, 'gentlemen': 5, 'champagne': 5, 'lie': 5, 'truth': 5, 'arrived': 5, 'dark': 5, 'mile': 5, 'awake': 5, 'sensitive': 5, 'immediate': 5, 'unique': 5, 'british': 5, 'bears': 5, 'assumptions': 5, 'till': 5, 'membership': 5, 'shop': 5, 'molly': 5, 'introduce': 5, 'yourself': 5, 'jarnol': 5, 'awaiting': 5, 'strips': 5, 'highest': 5, 'equal': 5, 'losing': 5, 'implying': 5, 'alessandro': 5, 'venture': 5, 'strength': 5, 'appear': 5, 'minimum': 5, 'believes': 5, 'prod': 5, 'exclude': 5, 'indian': 5, 'largely': 5, 'key': 5, 'strategic': 5, 'projections': 5, 'neither': 5, 'ceiling': 5, 'extraordinary': 5, 'cumulative': 5, 'foster': 5, 'depending': 5, 'mild': 5, 'injection': 5, 'bennett': 5, 'shah': 5, 'lipshutz': 5, 'allows': 5, 'meanwhile': 5, 'tool': 5, 'duteil': 5, 'switched': 5, 'anticipate': 5, 'arguments': 5, 'staying': 5, 'hoping': 5, 'pitch': 5, 'warming': 5, 'thousands': 5, 'greenhouse': 5, 'credits': 5, 'replacement': 5, 'career': 5, 'successful': 5, 'toni': 5, 'graham': 5, 'extension': 5, 'conditions': 5, 'mclaughlin': 5, 'requirements': 5, 'warren': 5, 'spectron': 5, 'raised': 5, 'eleanor': 5, 'cs': 5, 'vitol': 5, 'expecting': 5, 'decided': 5, 'switch': 5, 'weren': 5, 'contango': 5, 'ground': 5, 'mine': 5, 'velocity': 5, 'psychological': 5, 'barrett': 5, 'rice': 5, 'detail': 5, 'opening': 5, 'yeah': 5, 'sort': 5, 'airlines': 5, 'flores': 5, 'partner': 5, 'wouldnt': 5, 'profession': 5, 'row': 5, 'structuring': 5, 'listed': 5, 'idealistic': 5, 'brain': 5, 'jeannine': 5, 'votruba': 5, 'chapter': 5, 'inside': 5, 'tutor': 5, 'piazza': 5, 'perry': 5, 'berkeland': 5, 'eia': 5, 'padd': 5, 'slowed': 5, 'piping': 5, 'journal': 5, 'manx': 5, 'talent': 5, 'graduate': 5, 'forecasting': 5, 'mea': 5, 'arrangements': 5, 'interconnector': 5, 'beijing': 5, 'fit': 4, 'convenient': 4, 'sally': 4, 'beck': 4, 'stuart': 4, 'baker': 4, 'patti': 4, 'kathleen': 4, 'regional': 4, 'opec': 4, 'concerning': 4, 'informed': 4, 'mancino': 4, 'int': 4, 'puthigai': 4, 'putspds': 4, 'downside': 4, 'substantially': 4, 'cont': 4, 'driving': 4, 'formula': 4, 'sponsor': 4, 'tamarchenko': 4, 'collect': 4, 'targets': 4, 'destiny': 4, 'astros': 4, 'worried': 4, 'youve': 4, 'simultaneously': 4, 'burning': 4, 'domestic': 4, 'gross': 4, 'regular': 4, 'eat': 4, 'ondemand': 4, 'blizzzards': 4, 'yields': 4, 'preferentially': 4, 'utlity': 4, 'quietly': 4, 'wind': 4, 'sails': 4, 'excitement': 4, 'downhill': 4, 'remaining': 4, 'spirits': 4, 'selected': 4, 'med': 4, 'stays': 4, 'tite': 4, 'panic': 4, 'backwardate': 4, 'blew': 4, 'damn': 4, 'sprd': 4, 'hardest': 4, 'proceeds': 4, 'federal': 4, 'clark': 4, 'infinity': 4, 'conway': 4, 'cfm': 4, 'feeling': 4, 'antonio': 4, 'soccer': 4, 'originators': 4, 'yest': 4, 'comparable': 4, 'failing': 4, 'pesot': 4, 'verso': 4, 'miami': 4, 'games': 4, 'sullivan': 4, 'arora': 4, 'lydecker': 4, 'josey': 4, 'monique': 4, 'jp': 4, 'gordon': 4, 'rock': 4, 'stewart': 4, 'gte': 4, 'joel': 4, 'ibm': 4, 'chapman': 4, 'jon': 4, 'amoco': 4, 'atkins': 4, 'thornton': 4, 'llp': 4, 'trained': 4, 'negotiations': 4, 'serve': 4, 'persons': 4, 'candidate': 4, 'god': 4, 'agenda': 4, 'mg': 4, 'alfred': 4, 'jpg': 4, 'bunch': 4, 'describing': 4, 'geared': 4, 'replace': 4, 'files': 4, 'preliminary': 4, 'athomas': 4, 'dellnet': 4, 'reading': 4, 'anybody': 4, 'prob': 4, 'occurs': 4, 'discount': 4, 'messageboard': 4, 'fantasysports': 4, 'military': 4, 'angeles': 4, 'column': 4, 'marketer': 4, 'mess': 4, 'argue': 4, 'economist': 4, 'rail': 4, 'explain': 4, 'integration': 4, 'regulated': 4, 'carter': 4, 'auction': 4, 'joskow': 4, 'regulators': 4, 'choices': 4, 'assumed': 4, 'competition': 4, 'match': 4, 'speaking': 4, 'programs': 4, 'writer': 4, 'eyes': 4, 'ahead': 4, 'court': 4, 'reach': 4, 'sees': 4, 'relationships': 4, 'numerous': 4, 'package': 4, 'worldwide': 4, 'closely': 4, 'background': 4, 'recurring': 4, 'broken': 4, 'settled': 4, 'himself': 4, 'clients': 4, 'school': 4, 'bell': 4, 'law': 4, 'easily': 4, 'framework': 4, 'learned': 4, 'signed': 4, 'none': 4, 'bonuses': 4, 'league': 4, 'death': 4, 'cmgi': 4, 'venues': 4, 'tech': 4, 'twa': 4, 'trouble': 4, 'investors': 4, 'amazon': 4, 'denver': 4, 'morris': 4, 'telecommunications': 4, 'questioned': 4, 'slightly': 4, 'discussions': 4, 'likes': 4, 'light': 4, 'frequently': 4, 'receiving': 4, 'ext': 4, 'pig': 4, 'eliminate': 4, 'leads': 4, 'theory': 4, 'orderly': 4, 'constellation': 4, 'layout': 4, 'messenger': 4, 'nelson': 4, 'culture': 4, 'theres': 4, 'actual': 4, 'hence': 4, 'smelters': 4, 'manufacturing': 4, 'wyss': 4, 'delivery': 4, 'decisions': 4, 'feed': 4, 'cubic': 4, 'closing': 4, 'reduced': 4, 'spokesman': 4, 'intends': 4, 'spent': 4, 'lounge': 4, 'automatically': 4, 'pop': 4, 'clay': 4, 'spangler': 4, 'auditorium': 4, 'latest': 4, 'beautiful': 4, 'buddies': 4, 'base': 4, 'neck': 4, 'bay': 4, 'chugging': 4, 'lockhart': 4, 'lp': 4, 'breaks': 4, 'edf': 4, 'understanding': 4, 'topics': 4, 'aid': 4, 'reitmeyer': 4, 'tori': 4, 'kuykendall': 4, 'tholt': 4, 'login': 4, 'administrator': 4, 'marlin': 4, 'gubser': 4, 'applications': 4, 'homework': 4, 'parity': 4, 'speed': 4, 'carlos': 4, 'mgusa': 4, 'transredes': 4, 'melissa': 4, 'origination': 4, 'christopher': 4, 'calger': 4, 'eduardo': 4, 'nigel': 4, 'coats': 4, 'timothy': 4, 'informal': 4, 'interactive': 4, 'forums': 4, 'initiatives': 4, 'anticipated': 4, 'gibson': 4, 'weakness': 4, 'style': 4, 'behavior': 4, 'stance': 4, 'raymond': 4, 'bowen': 4, 'rudi': 4, 'shepperd': 4, 'wolfe': 4, 'tracy': 4, 'chen': 4, 'publishing': 4, 'contribution': 4, 'correlated': 4, 'havent': 4, 'forever': 4, 'valley': 4, 'structurally': 4, 'calpine': 4, 'irrelevant': 4, 'scares': 4, 'tune': 4, 'ass': 4, 'pooks': 4, 'hopefully': 4, 'wv': 4, 'jonathon': 4, 'pielop': 4, 'gs': 4, 'conoco': 4, 'eastern': 4, 'germany': 4, 'stored': 4, 'brut': 4, 'millesine': 4, 'stretch': 4, 'feelings': 4, 'fault': 4, 'fsd': 4, 'reader': 4, 'downloaded': 4, 'deliver': 4, 'special': 4, 'assigned': 4, 'finished': 4, 'met': 4, 'dimensions': 4, 'aside': 4, 'averages': 4, 'slist': 4, 'gencheva': 4, 'daniela': 4, 'liszewski': 4, 'medium': 4, 'difficulty': 4, 'select': 4, 'evidence': 4, 'receipt': 4, 'elizabeth': 4, 'sharing': 4, 'aren': 4, 'finalize': 4, 'proposed': 4, 'memo': 4, 'expectations': 4, 'momentum': 4, 'jump': 4, 'counter': 4, 'remain': 4, 'royal': 4, 'societe': 4, 'generale': 4, 'epg': 4, 'savings': 4, 'struck': 4, 'healthy': 4, 'relevant': 4, 'singapore': 4, 'nyse': 4, 'reflecting': 4, 'averaged': 4, 'gathering': 4, 'progress': 4, 'factors': 4, 'reference': 4, 'ended': 4, 'expenses': 4, 'minority': 4, 'resolution': 4, 'assumes': 4, 'feener': 4, 'portseattle': 4, 'lfeener': 4, 'tacoma': 4, 'expectation': 4, 'estimate': 4, 'fields': 4, 'resume': 4, 'gateway': 4, 'ots': 4, 'bland': 4, 'lee': 4, 'sara': 4, 'johnson': 4, 'venturatos': 4, 'juden': 4, 'ashley': 4, 'dietz': 4, 'jodi': 4, 'thrasher': 4, 'wininger': 4, 'aa': 4, 'split': 4, 'connect': 4, 'counting': 4, 'socal': 4, 'prints': 4, 'industrials': 4, 'confidence': 4, 'patience': 4, 'scsotc': 4, 'movie': 4, 'saved': 4, 'exact': 4, 'cp': 4, 'nasdaq': 4, 'underlying': 4, 'multiple': 4, 'girdy': 4, 'circumstances': 4, 'bulls': 4, 'settles': 4, 'orange': 4, 'mcleish': 4, 'guest': 4, 'periods': 4, 'opposite': 4, 'backwardation': 4, 'buster': 4, 'breathe': 4, 'snap': 4, 'occurred': 4, 'shift': 4, 'cap': 4, 'science': 4, 'campaign': 4, 'evening': 4, 'types': 4, 'otherwise': 4, 'fellows': 4, 'tried': 4, 'maria': 4, 'placement': 4, 'asp': 4, 'film': 4, 'psytech': 4, 'analytics': 4, 'asking': 4, 'campus': 4, 'responsibility': 4, 'missing': 4, 'boy': 4, 'mtg': 4, 'priority': 4, 'proprietary': 4, 'fairley': 4, 'managed': 4, 'enjoyed': 4, 'becomes': 4, 'ucla': 4, 'kochind': 4, 'concert': 4, 'pulaski': 4, 'natty': 4, 'producing': 4, 'magazines': 4, 'quantity': 4, 'liked': 4, 'subscription': 4, 'subscriptions': 4, 'ha': 4, 'nowhere': 4, 'chop': 4, 'fest': 4, 'imports': 4, 'fear': 4, 'awful': 4, 'disaster': 4, 'tcf': 4, 'rahil': 4, 'chart': 4, 'pc': 4, 'advisors': 4, 'coke': 4, 'personally': 4, 'sailing': 4, 'keemah': 4, 'webb': 4, 'clearer': 4, 'yr': 4, 'embedded': 4, 'etkt': 4, 'interco': 4, 'macro': 4, 'importance': 4, 'quote': 4, 'wasn': 4, 'alfredo': 4, 'napc': 4, 'ppt': 4, 'nature': 4, 'hand': 4, 'killing': 4, 'tiny': 4, 'cheapskate': 4, 'trigger': 4, 'load': 4, 'lookup': 4, 'premiums': 4, 'azurix': 4, 'valid': 4, 'usage': 4, 'brt': 4, 'gsl': 4, 'pn': 4, 'gilbert': 4, 'scrap': 4, 'ole': 4, 'obj': 4, 'slide': 4, 'rig': 4, 'nonetheless': 4, 'pace': 4, 'rare': 4, 'clayton': 4, 'dyk': 4, 'ruined': 4, 'monkey': 4, 'ja': 4, 'buckner': 4, 'dots': 4, 'abn': 4, 'possibly': 4, 'sentenced': 4, 'holding': 4, 'terminal': 4, 'pat': 4, 'hotmail': 4, 'amanda': 4, 'huble': 4, 'consulting': 4, 'earthsat': 4, 'longest': 4, 'pattern': 4, 'exe': 4, 'infomercial': 4, 'ferc': 4, 'questionnaire': 4, 'tutors': 4, 'ballet': 4, 'parts': 4, 'billing': 4, 'telephonic': 4, 'resid': 4, 'wwwww': 4, 'aescon': 4, 'catalog': 4, 'fat': 4, 'sklar': 4, 'neta': 4, 'pulse': 4, 'lemuel': 4, 'properties': 4, 'forecasters': 4, 'degrees': 4, 'panna': 4, 'workshops': 4, 'fed': 4, 'mx': 4, 'sydney': 4, 'agreeing': 3, 'vitrella': 3, 'basic': 3, 'theme': 3, 'distributed': 3, 'aronowitz': 3, 'lawyer': 3, 'mahoney': 3, 'myers': 3, 'brent': 3, 'reck': 3, 'neil': 3, 'whitehead': 3, 'coneway': 3, 'zoch': 3, 'gq': 3, 'lease': 3, 'theoretically': 3, 'mega': 3, 'wasnt': 3, 'steamboat': 3, 'heres': 3, 'slitely': 3, 'resulting': 3, 'sonat': 3, 'pv': 3, 'devised': 3, 'control': 3, 'implemented': 3, 'decay': 3, 'recommended': 3, 'impression': 3, 'forgo': 3, 'lighten': 3, 'stategy': 3, 'unexercised': 3, 'vested': 3, 'pullback': 3, 'bounce': 3, 'frustrating': 3, 'reversed': 3, 'generated': 3, 'cross': 3, 'insight': 3, 'experienced': 3, 'cortlandtwines': 3, 'creek': 3, 'bets': 3, 'minn': 3, 'det': 3, 'clev': 3, 'craziness': 3, 'applies': 3, 'mad': 3, 'wil': 3, 'bearsprd': 3, 'pact': 3, 'silver': 3, 'stripmatrixng': 3, 'calendars': 3, 'wed': 3, 'conducting': 3, 'follows': 3, 'regulation': 3, 'cowan': 3, 'gut': 3, 'muscle': 3, 'gulf': 3, 'famous': 3, 'equivalence': 3, 'surpised': 3, 'dmand': 3, 'recover': 3, 'econ': 3, 'econmic': 3, 'absulte': 3, 'rain': 3, 'louis': 3, 'duran': 3, 'colleen': 3, 'swerzbin': 3, 'ozzie': 3, 'pagan': 3, 'carl': 3, 'blair': 3, 'clifford': 3, 'parks': 3, 'howard': 3, 'ian': 3, 'ford': 3, 'csc': 3, 'gregory': 3, 'grey': 3, 'berger': 3, 'spencer': 3, 'pond': 3, 'joanne': 3, 'bloom': 3, 'anthony': 3, 'db': 3, 'matthews': 3, 'jacobs': 3, 'meyer': 3, 'robinson': 3, 'sg': 3, 'lynne': 3, 'health': 3, 'prudential': 3, 'jordan': 3, 'patterson': 3, 'juan': 3, 'pleased': 3, 'offices': 3, 'labor': 3, 'discussing': 3, 'po': 3, 'contain': 3, 'copying': 3, 'entities': 3, 'addressee': 3, 'sheetal': 3, 'patel': 3, 'charles': 3, 'cocktail': 3, 'pennisi': 3, 'insulted': 3, 'margarita': 3, 'confident': 3, 'excuses': 3, 'statement': 3, 'developed': 3, 'entail': 3, 'cordially': 3, 'windows': 3, 'diff': 3, 'lemme': 3, 'fucking': 3, 'ya': 3, 'celebrities': 3, 'seasonality': 3, 'somewhat': 3, 'fly': 3, 'starts': 3, 'watching': 3, 'talks': 3, 'choose': 3, 'registration': 3, 'winner': 3, 'leaning': 3, 'toward': 3, 'caused': 3, 'dysfunctional': 3, 'economists': 3, 'troubles': 3, 'airline': 3, 'vertical': 3, 'allowing': 3, 'heavily': 3, 'pushing': 3, 'risky': 3, 'block': 3, 'student': 3, 'britain': 3, 'argentina': 3, 'proper': 3, 'construction': 3, 'headed': 3, 'local': 3, 'steady': 3, 'advantages': 3, 'photo': 3, 'consideration': 3, 'announce': 3, 'senate': 3, 'roche': 3, 'condition': 3, 'governor': 3, 'gov': 3, 'gray': 3, 'sharp': 3, 'played': 3, 'policy': 3, 'familiar': 3, 'operator': 3, 'grid': 3, 'helping': 3, 'faster': 3, 'effectively': 3, 'differently': 3, 'matters': 3, 'striking': 3, 'doubled': 3, 'activities': 3, 'treating': 3, 'uses': 3, 'unusually': 3, 'creative': 3, 'ships': 3, 'sustainable': 3, 'floors': 3, 'music': 3, 'bidding': 3, 'worst': 3, 'reality': 3, 'sells': 3, 'actively': 3, 'conceived': 3, 'enhance': 3, 'shaking': 3, 'fighting': 3, 'worries': 3, 'theories': 3, 'began': 3, 'accordingly': 3, 'salary': 3, 'lights': 3, 'champion': 3, 'owners': 3, 'edison': 3, 'parent': 3, 'millions': 3, 'loses': 3, 'pulls': 3, 'holds': 3, 'publicly': 3, 'philip': 3, 'announcement': 3, 'telecom': 3, 'equipment': 3, 'resigned': 3, 'counsel': 3, 'themselves': 3, 'shape': 3, 'reliant': 3, 'raising': 3, 'shareholders': 3, 'dividends': 3, 'negotiated': 3, 'household': 3, 'visibility': 3, 'hospitality': 3, 'tenor': 3, 'sentences': 3, 'tend': 3, 'elasticity': 3, 'controls': 3, 'space': 3, 'ferries': 3, 'path': 3, 'ecommerce': 3, 'securely': 3, 'cd': 3, 'marginal': 3, 'columbia': 3, 'sectors': 3, 'shifts': 3, 'described': 3, 'weaken': 3, 'crops': 3, 'output': 3, 'developments': 3, 'concluded': 3, 'ingredient': 3, 'administrative': 3, 'distributor': 3, 'indefinitely': 3, 'workers': 3, 'laid': 3, 'bubble': 3, 'burst': 3, 'shrink': 3, 'sticker': 3, 'shock': 3, 'carroll': 3, 'slowing': 3, 'ease': 3, 'entitled': 3, 'lamb': 3, 'compensate': 3, 'pocket': 3, 'notified': 3, 'island': 3, 'mccauley': 3, 'mcauley': 3, 'gfinet': 3, 'bud': 3, 'jerky': 3, 'prank': 3, 'mp': 3, 'christensen': 3, 'mbaevents': 3, 'listserv': 3, 'learn': 3, 'innovation': 3, 'leadership': 3, 'series': 3, 'button': 3, 'recipient': 3, 'grassroots': 3, 'freaky': 3, 'heck': 3, 'amzn': 3, 'joking': 3, 'woods': 3, 'sister': 3, 'snuffers': 3, 'drinking': 3, 'strawberry': 3, 'daiquiri': 3, 'carry': 3, 'seasonal': 3, 'overnight': 3, 'suicide': 3, 'exotics': 3, 'shulklapper': 3, 'lenhart': 3, 'gay': 3, 'ermis': 3, 'sanchez': 3, 'pablo': 3, 'torres': 3, 'jkc': 3, 'pain': 3, 'installation': 3, 'tremendous': 3, 'gd': 3, 'bacon': 3, 'beasley': 3, 'botchlett': 3, 'boyle': 3, 'butts': 3, 'rebecca': 3, 'dietrich': 3, 'attended': 3, 'desire': 3, 'ts': 3, 'checks': 3, 'rallying': 3, 'host': 3, 'goals': 3, 'essential': 3, 'ensured': 3, 'alon': 3, 'leg': 3, 'reaction': 3, 'patterns': 3, 'waste': 3, 'mercantile': 3, 'christa': 3, 'winfrey': 3, 'abel': 3, 'cliff': 3, 'patricia': 3, 'zipter': 3, 'cassandra': 3, 'robin': 3, 'andrea': 3, 'stanley': 3, 'todd': 3, 'jenny': 3, 'latham': 3, 'midnight': 3, 'explorer': 3, 'tommorrow': 3, 'absent': 3, 'communicate': 3, 'lauren': 3, 'ksmalek': 3, 'component': 3, 'firmly': 3, 'factories': 3, 'affecting': 3, 'repeat': 3, 'becoming': 3, 'bombs': 3, 'symetry': 3, 'marked': 3, 'covers': 3, 'russ': 3, 'advised': 3, 'discounted': 3, 'dom': 3, 'grande': 3, 'dame': 3, 'cristal': 3, 'controlled': 3, 'fsddatasvc': 3, 'styles': 3, 'peer': 3, 'critical': 3, 'christi': 3, 'clearly': 3, 'wonderful': 3, 'eve': 3, 'stated': 3, 'weekdn': 3, 'mario': 3, 'aspect': 3, 'funciton': 3, 'shipments': 3, 'meaningless': 3, 'fundies': 3, 'simplifies': 3, 'transact': 3, 'structured': 3, 'gamma': 3, 'zero': 3, 'expiring': 3, 'expertise': 3, 'racicot': 3, 'stories': 3, 'hedged': 3, 'lumps': 3, 'wow': 3, 'ddalessa': 3, 'sempratrading': 3, 'combine': 3, 'transparency': 3, 'atlanta': 3, 'dealers': 3, 'figures': 3, 'bpa': 3, 'dbkgn': 3, 'mwd': 3, 'shel': 3, 'sogn': 3, 'cast': 3, 'driven': 3, 'initially': 3, 'standpoint': 3, 'wong': 3, 'nuts': 3, 'produced': 3, 'wise': 3, 'primarily': 3, 'basin': 3, 'tbtu': 3, 'comprehensive': 3, 'dividend': 3, 'miles': 3, 'reliance': 3, 'amounts': 3, 'dilution': 3, 'port': 3, 'wa': 3, 'engineering': 3, 'max': 3, 'justin': 3, 'rose': 3, 'kyle': 3, 'willis': 3, 'schnapper': 3, 'loved': 3, 'imagine': 3, 'receives': 3, 'westheimer': 3, 'preparation': 3, 'mini': 3, 'michcon': 3, 'logical': 3, 'photos': 3, 'mic': 3, 'beating': 3, 'builds': 3, 'rejects': 3, 'itinerary': 3, 'demonstrate': 3, 'commissions': 3, 'equivalent': 3, 'bookmark': 3, 'symbol': 3, 'afl': 3, 'aflac': 3, 'bmcs': 3, 'bmc': 3, 'pctl': 3, 'picturetel': 3, 'corrected': 3, 'partners': 3, 'djia': 3, 'mil': 3, 'transports': 3, 'adv': 3, 'decl': 3, 'demonstrates': 3, 'clicked': 3, 'oops': 3, 'rep': 3, 'transfer': 3, 'temporarily': 3, 'whacked': 3, 'haircut': 3, 'cab': 3, 'withdrawal': 3, 'withdrawing': 3, 'unbelievable': 3, 'xh': 3, 'unchanged': 3, 'obvious': 3, 'pr': 3, 'needing': 3, 'crowd': 3, 'jealous': 3, 'desperately': 3, 'honey': 3, 'rooms': 3, 'rusty': 3, 'dioxide': 3, 'protocol': 3, 'climate': 3, 'emission': 3, 'context': 3, 'established': 3, 'environmental': 3, 'knock': 3, 'whenever': 3, 'pollution': 3, 'deming': 3, 'directions': 3, 'reservations': 3, 'congratulations': 3, 'hehub': 3, 'vote': 3, 'stinson': 3, 'maureen': 3, 'wsx': 3, 'wsex': 3, 'sometimes': 3, 'assist': 3, 'sex': 3, 'regardless': 3, 'attempts': 3, 'arrangement': 3, 'forget': 3, 'meant': 3, 'kori': 3, 'hired': 3, 'bolken': 3, 'consultants': 3, 'organization': 3, 'generally': 3, 'retention': 3, 'keeping': 3, 'destroyed': 3, 'checked': 3, 'domain': 3, 'tashnek': 3, 'accepting': 3, 'matched': 3, 'joining': 3, 'competitors': 3, 'goal': 3, 'die': 3, 'trust': 3, 'client': 3, 'personnel': 3, 'served': 3, 'efraser': 3, 'pissed': 3, 'sooooo': 3, 'fundamentally': 3, 'contributing': 3, 'flight': 3, 'marc': 3, 'tied': 3, 'crows': 3, 'valentine': 3, 'promotion': 3, 'managers': 3, 'earliest': 3, 'felicia': 3, 'purchased': 3, 'triple': 3, 'wearing': 3, 'consistent': 3, 'bonus': 3, 'torrey': 3, 'sincerely': 3, 'proving': 3, 'awfully': 3, 'kristi': 3, 'tharpe': 3, 'correspondence': 3, 'louisiana': 3, 'severe': 3, 'responding': 3, 'revised': 3, 'dist': 3, 'ohio': 3, 'figured': 3, 'exagerated': 3, 'negligible': 3, 'extraction': 3, 'methanol': 3, 'occuring': 3, 'disasters': 3, 'strongly': 3, 'stll': 3, 'supplly': 3, 'demnad': 3, 'demandd': 3, 'dramatic': 3, 'ulitmately': 3, 'ute': 3, 'pxes': 3, 'poorer': 3, 'flexibilty': 3, 'midcon': 3, 'residentail': 3, 'consumption': 3, 'rationing': 3, 'addional': 3, 'temps': 3, 'todays': 3, 'restore': 3, 'alive': 3, 'blue': 3, 'carvalho': 3, 'copergas': 3, 'commented': 3, 'kase': 3, 'attract': 3, 'objection': 3, 'jessica': 3, 'pookie': 3, 'sailmainecoast': 3, 'dial': 3, 'greetings': 3, 'garp': 3, 'worldnet': 3, 'att': 3, 'shellus': 3, 'smtp': 3, 'seconds': 3, 'rent': 3, 'shutdown': 3, 'monitors': 3, 'procedures': 3, 'bubbie': 3, 'hereby': 3, 'pechersky': 3, 'phase': 3, 'thibodeaux': 3, 'explanation': 3, 'hosted': 3, 'indices': 3, 'perpetual': 3, 'knight': 3, 'surprised': 3, 'du': 3, 'harrassment': 3, 'creditors': 3, 'rating': 3, 'policastro': 3, 'tonyp': 3, 'elitebrokers': 3, 'boeing': 3, 'fare': 3, 'operate': 3, 'closures': 3, 'deliverability': 3, 'elpaso': 3, 'cuellar': 3, 'capstone': 3, 'intraday': 3, 'al': 3, 'listings': 3, 'tickleknees': 3, 'selection': 3, 'tables': 3, 'presented': 3, 'acn': 3, 'courses': 3, 'xls': 3, 'tonite': 3, 'subsequent': 3, 'indicates': 3, 'prepare': 3, 'quiz': 3, 'art': 3, 'promptly': 3, 'vandy': 3, 'vikas': 3, 'rodriguez': 3, 'gco': 3, 'accessing': 3, 'extent': 3, 'boots': 3, 'catherine': 3, 'discovery': 3, 'execute': 3, 'wassup': 3, 'vernon': 3, 'register': 3, 'offense': 3, 'metal': 3, 'philosophical': 3, 'operates': 3, 'ode': 3, 'molested': 3, 'oaks': 3, 'thief': 3, 'women': 3, 'text': 3, 'proposal': 3, 'prison': 3, 'unemployment': 3, 'sussex': 3, 'ltd': 3, 'losses': 3, 'hicks': 3, 'midwest': 3, 'normally': 3, 'rac': 3, 'citibank': 3, 'mda': 3, 'gehrig': 3, 'disease': 3, 'sponsored': 3, 'brief': 3, 'spanish': 3, 'alert': 3, 'bak': 3, 'hoey': 3, 'creem': 3, 'ars': 3, 'aon': 3, 'prepared': 3, 'strictly': 3, 'seemed': 3, 'tonks': 3, 'suzanne': 3, 'audience': 3, 'registered': 3, 'peaker': 3, 'luncheon': 3, 'alexander': 3, 'unauthorized': 3, 'cwomack': 3, 'houstonballet': 3, 'academy': 3, 'shown': 3, 'fidelity': 3, 'holidays': 3, 'refined': 3, 'absence': 3, 'compliance': 3, 'rejection': 3, 'accordance': 3, 'mzerilli': 3, 'kbd': 3, 'grade': 3, 'enews': 3, 'joints': 3, 'usbellows': 3, 'diameter': 3, 'root': 3, 'milligan': 3, 'bbq': 3, 'forbes': 3, 'kansas': 3, 'storm': 3, 'cities': 3, 'temperatures': 3, 'meteorological': 3, 'meteorologist': 3, 'isle': 3, 'tapti': 3, 'ongc': 3, 'yuan': 3, 'jinbian': 3, 'land': 3, 'sichuan': 3, 'suisse': 3, 'factory': 3, 'olympics': 3, 'aussie': 3, 'fox': 3, 'secret': 2, 'admirer': 2, 'rangle': 2, 'kathie': 2, 'grabstald': 2, 'enside': 2, 'profile': 2, 'articles': 2, 'phillips': 2, 'bergsieker': 2, 'gonzales': 2, 'perlman': 2, 'tholan': 2, 'davies': 2, 'vonderheide': 2, 'nicki': 2, 'daw': 2, 'angie': 2, 'helen': 2, 'marie': 2, 'cherylene': 2, 'westbrook': 2, 'gloria': 2, 'solis': 2, 'reeves': 2, 'armstrong': 2, 'christina': 2, 'martinez': 2, 'shimira': 2, 'semi': 2, 'shuttlesworth': 2, 'ross': 2, 'jmancino': 2, 'edfman': 2, 'agreewith': 2, 'uncertainy': 2, 'lend': 2, 'utitlities': 2, 'menioned': 2, 'neutralized': 2, 'fite': 2, 'pockets': 2, 'inverted': 2, 'bersd': 2, 'tree': 2, 'sahud': 2, 'dunno': 2, 'manana': 2, 'hypothetical': 2, 'somwhere': 2, 'retreat': 2, 'ffeeling': 2, 'bearsds': 2, 'dela': 2, 'translating': 2, 'notional': 2, 'stable': 2, 'weight': 2, 'backtesting': 2, 'emailed': 2, 'experimental': 2, 'performing': 2, 'fans': 2, 'rockets': 2, 'bumping': 2, 'aron': 2, 'prime': 2, 'overseas': 2, 'messages': 2, 'features': 2, 'harvard': 2, 'pleasant': 2, 'devon': 2, 'cortlandt': 2, 'matanzas': 2, 'merlot': 2, 'purchases': 2, 'ave': 2, 'separately': 2, 'hudson': 2, 'odds': 2, 'buff': 2, 'cinnci': 2, 'den': 2, 'distracted': 2, 'vail': 2, 'drawing': 2, 'exceptionally': 2, 'primary': 2, 'crappy': 2, 'frot': 2, 'slaughtered': 2, 'enject': 2, 'panicked': 2, 'capeche': 2, 'thinkit': 2, 'prenumber': 2, 'killed': 2, 'pleasure': 2, 'watt': 2, 'disturnal': 2, 'chad': 2, 'draper': 2, 'jobdetail': 2, 'postings': 2, 'jobresult': 2, 'punch': 2, 'catching': 2, 'relax': 2, 'stomach': 2, 'sore': 2, 'borders': 2, 'orig': 2, 'distance': 2, 'importantly': 2, 'dude': 2, 'technologies': 2, 'oak': 2, 'bi': 2, 'conflicts': 2, 'tricoli': 2, 'vickers': 2, 'jesse': 2, 'neyman': 2, 'allan': 2, 'sukaly': 2, 'gomez': 2, 'pruett': 2, 'astro': 2, 'kick': 2, 'grantthornton': 2, 'bechtel': 2, 'housby': 2, 'ncr': 2, 'crowe': 2, 'fedex': 2, 'ira': 2, 'riahi': 2, 'mci': 2, 'roy': 2, 'cloudsdale': 2, 'jci': 2, 'fcnbd': 2, 'gaylord': 2, 'jacqueline': 2, 'salerno': 2, 'conagra': 2, 'sladack': 2, 'frey': 2, 'caldwell': 2, 'aig': 2, 'dommel': 2, 'harbaugh': 2, 'bms': 2, 'desmond': 2, 'shaw': 2, 'scannell': 2, 'lawler': 2, 'moses': 2, 'nixon': 2, 'mot': 2, 'richardson': 2, 'statestreet': 2, 'chenen': 2, 'chaitman': 2, 'cramer': 2, 'georger': 2, 'bc': 2, 'elie': 2, 'sweeney': 2, 'winstar': 2, 'jerry': 2, 'tousignant': 2, 'kiley': 2, 'prosser': 2, 'feltovic': 2, 'mcimail': 2, 'ups': 2, 'bisanti': 2, 'clyne': 2, 'martz': 2, 'anheuser': 2, 'busch': 2, 'betsill': 2, 'netscape': 2, 'buckley': 2, 'harbord': 2, 'simcoe': 2, 'stier': 2, 'clorox': 2, 'uswest': 2, 'igoe': 2, 'crisel': 2, 'keogh': 2, 'stein': 2, 'hogan': 2, 'parro': 2, 'payne': 2, 'ferrari': 2, 'peters': 2, 'evans': 2, 'randy': 2, 'bankamerica': 2, 'sweat': 2, 'voorhorst': 2, 'brannock': 2, 'corbett': 2, 'gsc': 2, 'hildebrand': 2, 'oxy': 2, 'jo': 2, 'keefe': 2, 'coun': 2, 'hemphill': 2, 'ellsworth': 2, 'milano': 2, 'joshua': 2, 'champint': 2, 'judith': 2, 'cmsenergy': 2, 'julian': 2, 'escue': 2, 'amos': 2, 'couto': 2, 'randal': 2, 'qs': 2, 'providers': 2, 'finding': 2, 'fewer': 2, 'yours': 2, 'comparison': 2, 'incentive': 2, 'expanding': 2, 'centers': 2, 'moncton': 2, 'brunswick': 2, 'otto': 2, 'attach': 2, 'collar': 2, 'crash': 2, 'mature': 2, 'tips': 2, 'maine': 2, 'coopers': 2, 'pab': 2, 'deleted': 2, 'purely': 2, 'bigshot': 2, 'mojo': 2, 'minding': 2, 'dooker': 2, 'sheeeeeeeeeet': 2, 'friggin': 2, 'autograph': 2, 'dood': 2, 'fellas': 2, 'spun': 2, 'obv': 2, 'mock': 2, 'mentality': 2, 'tight': 2, 'cantango': 2, 'absorbed': 2, 'phones': 2, 'isnt': 2, 'deliverabilty': 2, 'maintain': 2, 'gotta': 2, 'sum': 2, 'sentiment': 2, 'careful': 2, 'politics': 2, 'negatively': 2, 'rolling': 2, 'jinx': 2, 'prompted': 2, 'commissioner': 2, 'mentions': 2, 'peg': 2, 'hole': 2, 'execs': 2, 'denies': 2, 'villain': 2, 'critics': 2, 'opportunist': 2, 'boss': 2, 'newswires': 2, 'swoon': 2, 'pursuit': 2, 'granted': 2, 'deregulate': 2, 'abraham': 2, 'californians': 2, 'debate': 2, 'cornell': 2, 'oversee': 2, 'creation': 2, 'trucking': 2, 'studying': 2, 'flaws': 2, 'produce': 2, 'proved': 2, 'electron': 2, 'expert': 2, 'institute': 2, 'atlantic': 2, 'chile': 2, 'signals': 2, 'spikes': 2, 'requires': 2, 'prevent': 2, 'overestimate': 2, 'engineers': 2, 'interviewed': 2, 'rumsfeld': 2, 'quoting': 2, 'unidentified': 2, 'dynamics': 2, 'nominated': 2, 'northrop': 2, 'grumman': 2, 'reagan': 2, 'contributed': 2, 'unfair': 2, 'sky': 2, 'policymakers': 2, 'exploiting': 2, 'loopholes': 2, 'union': 2, 'eager': 2, 'rozsa': 2, 'twist': 2, 'errors': 2, 'seeking': 2, 'blessing': 2, 'donated': 2, 'campaigns': 2, 'presidential': 2, 'race': 2, 'insist': 2, 'pulling': 2, 'dick': 2, 'repeated': 2, 'solving': 2, 'woes': 2, 'tripled': 2, 'conceded': 2, 'inconsequential': 2, 'captive': 2, 'mildly': 2, 'uniquely': 2, 'doctorate': 2, 'regulator': 2, 'transacting': 2, 'maker': 2, 'sophistication': 2, 'provider': 2, 'scan': 2, 'skyrocketed': 2, 'commerce': 2, 'oversees': 2, 'golden': 2, 'thump': 2, 'counts': 2, 'pac': 2, 'reform': 2, 'stabilize': 2, 'proven': 2, 'inefficient': 2, 'serves': 2, 'behave': 2, 'steps': 2, 'legislation': 2, 'pushed': 2, 'manipulated': 2, 'conjure': 2, 'conspiracy': 2, 'suddenly': 2, 'caption': 2, 'shouldn': 2, 'troubled': 2, 'encouraged': 2, 'lucrative': 2, 'dearly': 2, 'kiss': 2, 'baltimore': 2, 'psinet': 2, 'fallen': 2, 'pro': 2, 'sponsors': 2, 'fruit': 2, 'promised': 2, 'tens': 2, 'larger': 2, 'endeavors': 2, 'publicity': 2, 'counted': 2, 'beat': 2, 'winners': 2, 'losers': 2, 'variety': 2, 'slap': 2, 'diego': 2, 'pepsi': 2, 'suffered': 2, 'loser': 2, 'cuts': 2, 'opens': 2, 'grinstead': 2, 'editor': 2, 'budget': 2, 'bang': 2, 'ad': 2, 'nights': 2, 'networking': 2, 'candlestick': 2, 'success': 2, 'dumps': 2, 'raiders': 2, 'maximum': 2, 'ongoing': 2, 'slowly': 2, 'struggle': 2, 'ocean': 2, 'whoever': 2, 'exist': 2, 'stochastic': 2, 'regime': 2, 'lognormal': 2, 'compares': 2, 'returns': 2, 'insurance': 2, 'fence': 2, 'helps': 2, 'sharad': 2, 'aquired': 2, 'taste': 2, 'grass': 2, 'deutsche': 2, 'professionally': 2, 'apartment': 2, 'listened': 2, 'behr': 2, 'dams': 2, 'desperate': 2, 'unheard': 2, 'peaks': 2, 'measure': 2, 'crunch': 2, 'intensive': 2, 'fertilizers': 2, 'unprecedented': 2, 'households': 2, 'sowing': 2, 'seeds': 2, 'jolt': 2, 'worrying': 2, 'warnings': 2, 'damaging': 2, 'weakening': 2, 'cutting': 2, 'sioux': 2, 'iowa': 2, 'obligated': 2, 'disclosed': 2, 'persists': 2, 'royster': 2, 'norfolk': 2, 'dubuque': 2, 'speculative': 2, 'continuation': 2, 'corn': 2, 'farm': 2, 'noted': 2, 'bb': 2, 'richmond': 2, 'announcements': 2, 'economies': 2, 'apart': 2, 'windfall': 2, 'contractually': 2, 'resales': 2, 'refund': 2, 'deliveries': 2, 'tries': 2, 'moral': 2, 'ethical': 2, 'dimension': 2, 'shy': 2, 'star': 2, 'fiddle': 2, 'postpone': 2, 'speaks': 2, 'dilemma': 2, 'miss': 2, 'aldrich': 2, 'myrtle': 2, 'shirt': 2, 'permitted': 2, 'eye': 2, 'sends': 2, 'technicians': 2, 'bullshit': 2, 'technician': 2, 'unemployed': 2, 'spotngas': 2, 'despain': 2, 'clean': 2, 'counterparts': 2, 'pulled': 2, 'calcs': 2, 'applying': 2, 'understating': 2, 'formulas': 2, 'vu': 2, 'bother': 2, 'lucci': 2, 'messaging': 2, 'concur': 2, 'opened': 2, 'furthermore': 2, 'proceed': 2, 'cowboys': 2, 'moran': 2, 'availability': 2, 'ajello': 2, 'jaime': 2, 'alatorre': 2, 'joao': 2, 'albuquerque': 2, 'ramon': 2, 'alvarez': 2, 'ventane': 2, 'jarek': 2, 'astramowicz': 2, 'war': 2, 'badger': 2, 'barbee': 2, 'barth': 2, 'bean': 2, 'becker': 2, 'bertasi': 2, 'beyer': 2, 'blachman': 2, 'roderick': 2, 'blackham': 2, 'ernesto': 2, 'blanco': 2, 'blesie': 2, 'riccardo': 2, 'bortolotti': 2, 'hap': 2, 'boyd': 2, 'ec': 2, 'harold': 2, 'buchanan': 2, 'bunnell': 2, 'camara': 2, 'carling': 2, 'cary': 2, 'carrabine': 2, 'carson': 2, 'casari': 2, 'chee': 2, 'chew': 2, 'sin': 2, 'childers': 2, 'chivers': 2, 'ciscon': 2, 'remi': 2, 'collonges': 2, 'deborah': 2, 'culver': 2, 'curran': 2, 'wanda': 2, 'dobler': 2, 'rank': 2, 'honest': 2, 'dialogue': 2, 'presentations': 2, 'safely': 2, 'examples': 2, 'activitie': 2, 'diversity': 2, 'participates': 2, 'intend': 2, 'honor': 2, 'firs': 2, 'judgment': 2, 'fishing': 2, 'turns': 2, 'mainly': 2, 'interests': 2, 'disappointing': 2, 'robust': 2, 'waning': 2, 'spinning': 2, 'wheels': 2, 'horizontal': 2, 'carraway': 2, 'killen': 2, 'shona': 2, 'hardy': 2, 'veronica': 2, 'valdez': 2, 'minal': 2, 'dalia': 2, 'groves': 2, 'mason': 2, 'gabriel': 2, 'georgeanne': 2, 'hodges': 2, 'coffey': 2, 'jill': 2, 'milnthorp': 2, 'vargas': 2, 'conner': 2, 'kleege': 2, 'norton': 2, 'monica': 2, 'walsh': 2, 'viewer': 2, 'viewing': 2, 'icon': 2, 'traveling': 2, 'nextel': 2, 'cellular': 2, 'frame': 2, 'dry': 2, 'safe': 2, 'cheaper': 2, 'structural': 2, 'hikes': 2, 'doom': 2, 'gloom': 2, 'suit': 2, 'tighten': 2, 'witness': 2, 'whther': 2, 'arguable': 2, 'withdraw': 2, 'beverage': 2, 'checkbook': 2, 'courier': 2, 'aldo': 2, 'shortly': 2, 'closes': 2, 'schaefer': 2, 'txu': 2, 'rosenberg': 2, 'haupt': 2, 'frase': 2, 'tractabelusa': 2, 'sanjiv': 2, 'khosla': 2, 'false': 2, 'approximate': 2, 'derived': 2, 'winesearcer': 2, 'temperature': 2, 'quan': 2, 'vintage': 2, 'perrier': 2, 'jouet': 2, 'fleur': 2, 'piper': 2, 'heidsek': 2, 'perignon': 2, 'veuve': 2, 'cliquot': 2, 'ponsardin': 2, 'taittenger': 2, 'jacquart': 2, 'roederer': 2, 'admin': 2, 'gather': 2, 'eight': 2, 'peers': 2, 'self': 2, 'colleague': 2, 'keilty': 2, 'goldsmith': 2, 'gasoil': 2, 'nx': 2, 'gambling': 2, 'pps': 2, 'bmw': 2, 'parking': 2, 'avail': 2, 'ten': 2, 'winning': 2, 'lowest': 2, 'instant': 2, 'tas': 2, 'pumping': 2, 'franco': 2, 'previously': 2, 'vanguard': 2, 'asshole': 2, 'chopfest': 2, 'reviewing': 2, 'inspirations': 2, 'inspiration': 2, 'favorably': 2, 'dsl': 2, 'tr': 2, 'bbb': 2, 'galperin': 2, 'anna': 2, 'laws': 2, 'capable': 2, 'genchedi': 2, 'liszewsp': 2, 'wrongfully': 2, 'correction': 2, 'liszweski': 2, 'indicate': 2, 'determining': 2, 'formulate': 2, 'occured': 2, 'decide': 2, 'corresponding': 2, 'wilbeck': 2, 'omaha': 2, 'candidates': 2, 'ews': 2, 'occasional': 2, 'materials': 2, 'marge': 2, 'nadasky': 2, 'danny': 2, 'marty': 2, 'sunde': 2, 'videotaping': 2, 'til': 2, 'townhouse': 2, 'progressing': 2, 'draft': 2, 'migrate': 2, 'meets': 2, 'thot': 2, 'beauty': 2, 'reestablish': 2, 'pound': 2, 'gorilla': 2, 'aint': 2, 'glynn': 2, 'kglynn': 2, 'kelly': 2, 'jkelly': 2, 'intercontinentalexchange': 2, 'initiated': 2, 'launch': 2, 'processed': 2, 'fuller': 2, 'morgan': 2, 'arm': 2, 'boost': 2, 'exists': 2, 'voice': 2, 'codes': 2, 'gb': 2, 'rtrs': 2, 'niamh': 2, 'clarke': 2, 'somewhere': 2, 'tab': 2, 'extras': 2, 'otm': 2, 'source': 2, 'totaled': 2, 'excluding': 2, 'reorganization': 2, 'mmcf': 2, 'respectively': 2, 'acquisition': 2, 'throughput': 2, 'jenkins': 2, 'quarterly': 2, 'payable': 2, 'tennessee': 2, 'owns': 2, 'provisions': 2, 'cause': 2, 'achieved': 2, 'impairment': 2, 'proforma': 2, 'represents': 2, 'bordering': 2, 'recorded': 2, 'unit': 2, 'replacing': 2, 'capability': 2, 'arise': 2, 'stg': 2, 'tightened': 2, 'shoulder': 2, 'sub': 2, 'approx': 2, 'ct': 2, 'bt': 2, 'transportation': 2, 'cdds': 2, 'hdds': 2, 'decreased': 2, 'excellant': 2, 'christmas': 2, 'beau': 2, 'peng': 2, 'jefferson': 2, 'sorenson': 2, 'koenig': 2, 'simone': 2, 'kathy': 2, 'lynn': 2, 'friedman': 2, 'meredith': 2, 'andrews': 2, 'shelly': 2, 'zhang': 2, 'weakly': 2, 'sf': 2, 'bryan': 2, 'burnett': 2, 'reza': 2, 'rezaeian': 2, 'straatmann': 2, 'womack': 2, 'social': 2, 'petroleum': 2, 'brugh': 2, 'jmb': 2, 'triadresources': 2, 'brunch': 2, 'dupont': 2, 'drift': 2, 'zyft': 2, 'pukes': 2, 'cudnt': 2, 'outta': 2, 'covered': 2, 'turbulence': 2, 'unacceptable': 2, 'difficult': 2, 'hh': 2, 'rocks': 2, 'ytd': 2, 'backed': 2, 'tue': 2, 'absolute': 2, 'hadn': 2, 'unintentionally': 2, 'hits': 2, 'released': 2, 'bug': 2, 'mitigate': 2, 'reflected': 2, 'tb': 2, 'knowing': 2, 'hill': 2, 'bus': 2, 'whereas': 2, 'constant': 2, 'thyre': 2, 'lyle': 2, 'lovett': 2, 'anthem': 2, 'nolan': 2, 'gooden': 2, 'cancellation': 2, 'entered': 2, 'congregate': 2, 'thrity': 2, 'uwill': 2, 'invitations': 2, 'sue': 2, 'plaza': 2, 'breath': 2, 'scientists': 2, 'earth': 2, 'congress': 2, 'bureaucrats': 2, 'exceed': 2, 'reducing': 2, 'emit': 2, 'attorney': 2, 'exhale': 2, 'tricky': 2, 'arthur': 2, 'natsource': 2, 'prominent': 2, 'gaining': 2, 'cards': 2, 'deltas': 2, 'gammas': 2, 'intern': 2, 'straatman': 2, 'lengkeek': 2, 'conectiv': 2, 'elect': 2, 'yankees': 2, 'araceli': 2, 'romero': 2, 'kay': 2, 'enronvince': 2, 'ectbetty': 2, 'gibner': 2, 'wired': 2, 'credited': 2, 'jointly': 2, 'sixth': 2, 'gasmsgboard': 2, 'msgframe': 2, 'jerryrice': 2, 'israd': 2, 'ndmail': 2, 'mailman': 2, 'xxx': 2, 'delivered': 2, 'electronically': 2, 'scripts': 2, 'xmoviedirector': 2, 'compare': 2, 'videos': 2, 'pictures': 2, 'removed': 2, 'ur': 2, 'removal': 2, 'database': 2, 'mailings': 2, 'mog': 2, 'heu': 2, 'wagner': 2, 'considerable': 2, 'favorable': 2, 'fight': 2, 'superior': 2, 'outcry': 2, 'parallel': 2, 'loibl': 2, 'becky': 2, 'carolyn': 2, 'gilley': 2, 'millican': 2, 'compile': 2, 'assistants': 2, 'perform': 2, 'departments': 2, 'invested': 2, 'livelink': 2, 'jumbos': 2, 'filled': 2, 'summarizing': 2, 'currencies': 2, 'finalizing': 2, 'attractive': 2, 'viable': 2, 'inclination': 2, 'lift': 2, 'lesson': 2, 'gallagher': 2, 'spotted': 2, 'pamela': 2, 'sonnier': 2, 'theresa': 2, 'klein': 2, 'capabilities': 2, 'involved': 2, 'stressed': 2, 'findings': 2, 'thereby': 2, 'stresses': 2, 'ran': 2, 'smell': 2, 'blood': 2, 'overvalued': 2, 'cargill': 2, 'jlynch': 2, 'reliantenergy': 2, 'crossroads': 2, 'ourselves': 2, 'pledge': 2, 'disappointed': 2, 'sloppy': 2, 'exciting': 2, 'shocking': 2, 'remind': 2, 'acted': 2, 'tropical': 2, 'wave': 2, 'oxley': 2, 'sr': 2, 'situations': 2, 'consistently': 2, 'promotions': 2, 'convenience': 2, 'confusion': 2, 'finder': 2, 'peoplefinder': 2, 'updated': 2, 'flexibility': 2, 'indifferent': 2, 'intuitively': 2, 'frankly': 2, 'felt': 2, 'tease': 2, 'stopped': 2, 'rappaport': 2, 'worthy': 2, 'manpower': 2, 'anohter': 2, 'thunk': 2, 'burned': 2, 'stick': 2, 'dictate': 2, 'anyways': 2, 'curious': 2, 'hasnt': 2, 'filter': 2, 'evaluate': 2, 'efp': 2, 'intcx': 2, 'jnnelson': 2, 'ld': 2, 'mmbtus': 2, 'esource': 2, 'rotation': 2, 'expire': 2, 'minus': 2, 'class': 2, 'spreadsheets': 2, 'master': 2, 'allocation': 2, 'roared': 2, 'cuff': 2, 'recocover': 2, 'lion': 2, 'starter': 2, 'barring': 2, 'highly': 2, 'theatre': 2, 'woul': 2, 'br': 2, 'heading': 2, 'partly': 2, 'professional': 2, 'evaluations': 2, 'beneficial': 2, 'jafry': 2, 'briefly': 2, 'cynthia': 2, 'summaries': 2, 'newsletters': 2, 'tamara': 2, 'jae': 2, 'ireland': 2, 'utexas': 2, 'eesinc': 2, 'nasa': 2, 'mills': 2, 'kne': 2, 'erik': 2, 'simpson': 2, 'wrapped': 2, 'easier': 2, 'increments': 2, 'consisted': 2, 'suggesting': 2, 'mutual': 2, 'depot': 2, 'biased': 2, 'diversification': 2, 'austrailia': 2, 'barrier': 2, 'reef': 2, 'beneteau': 2, 'asa': 2, 'certified': 2, 'sailboat': 2, 'doable': 2, 'hillier': 2, 'reliability': 2, 'tenth': 2, 'celebrity': 2, 'featuring': 2, 'regrets': 2, 'demonstrations': 2, 'bridge': 2, 'globalview': 2, 'excuse': 2, 'booking': 2, 'realizes': 2, 'unimportant': 2, 'masking': 2, 'moderate': 2, 'hesitant': 2, 'unsophistocated': 2, 'mrkt': 2, 'idiots': 2, 'projecting': 2, 'persist': 2, 'awhile': 2, 'hydo': 2, 'califronia': 2, 'engl': 2, 'stellar': 2, 'recoveriung': 2, 'hawkish': 2, 'rr': 2, 'prodcution': 2, 'rallied': 2, 'ends': 2, 'default': 2, 'traditionally': 2, 'feature': 2, 'extensive': 2, 'methodologies': 2, 'polling': 2, 'knights': 2, 'stats': 2, 'lifetime': 2, 'pic': 2, 'pcx': 2, 'blizzard': 2, 'lovely': 2, 'prosperous': 2, 'server': 2, 'cirque': 2, 'soleil': 2, 'principal': 2, 'debts': 2, 'payments': 2, 'elite': 2, 'vitoltvl': 2, 'depart': 2, 'cabos': 2, 'eqp': 2, 'ticketless': 2, 'refundable': 2, 'tkt': 2, 'postion': 2, 'overly': 2, 'perspective': 2, 'whack': 2, 'catequil': 2, 'regularly': 2, 'supplying': 2, 'hook': 2, 'police': 2, 'caught': 2, 'ride': 2, 'booked': 2, 'flu': 2, 'vaccinations': 2, 'brawner': 2, 'denhardt': 2, 'diet': 2, 'youre': 2, 'myn': 2, 'guarantees': 2, 'angelica': 2, 'paez': 2, 'girlie': 2, 'developers': 2, 'adoption': 2, 'promises': 2, 'communities': 2, 'partnership': 2, 'deserve': 2, 'seminars': 2, 'convincing': 2, 'ours': 2, 'unwind': 2, 'hedges': 2, 'dpr': 2, 'pruner': 2, 'ring': 2, 'supporting': 2, 'naughton': 2, 'tentative': 2, 'substitution': 2, 'settlements': 2, 'mt': 2, 'ref': 2, 'ipe': 2, 'geoff': 2, 'storey': 2, 'esther': 2, 'auto': 2, 'predicting': 2, 'throws': 2, 'realistic': 2, 'basically': 2, 'amusing': 2, 'minors': 2, 'fortunately': 2, 'ms': 2, 'modest': 2, 'tueday': 2, 'kisses': 2, 'cooking': 2, 'enjoyable': 2, 'berney': 2, 'aucoin': 2, 'jacoby': 2, 'zufferli': 2, 'gandy': 2, 'dwivedi': 2, 'courtney': 2, 'seung': 2, 'taek': 2, 'zivic': 2, 'friddle': 2, 'updating': 2, 'shared': 2, 'mass': 2, 'databases': 2, 'dd': 2, 'yy': 2, 'compromised': 2, 'schmitz': 2, 'replay': 2, 'https': 2, 'intercallssl': 2, 'contigo': 2, 'efficiency': 2, 'incorporating': 2, 'variables': 2, 'consequently': 2, 'spurred': 2, 'mounting': 2, 'sustainability': 2, 'curly': 2, 'hair': 2, 'belief': 2, 'shutdowns': 2, 'verifying': 2, 'averaging': 2, 'pernot': 2, 'diligence': 2, 'pulp': 2, 'steel': 2, 'comparing': 2, 'equates': 2, 'allyson': 2, 'feller': 2, 'imceanotes': 2, 'correlations': 2, 'permits': 2, 'tailored': 2, 'sunrise': 2, 'inquiries': 2, 'announcing': 2, 'proof': 2, 'elated': 2, 'kidnapped': 2, 'masculine': 2, 'sarcasm': 2, 'mood': 2, 'seminar': 2, 'shudda': 2, 'enjoying': 2, 'preview': 2, 'gom': 2, 'improving': 2, 'arnolds': 2, 'premier': 2, 'popup': 2, 'bulletin': 2, 'continuing': 2, 'transcanada': 2, 'spectator': 2, 'roulette': 2, 'fraudulent': 2, 'judge': 2, 'bonds': 2, 'fled': 2, 'employed': 2, 'intense': 2, 'father': 2, 'children': 2, 'affected': 2, 'birthday': 2, 'variation': 2, 'converter': 2, 'agency': 2, 'horn': 2, 'bowling': 2, 'donations': 2, 'donation': 2, 'ss': 2, 'thu': 2, 'snack': 2, 'duration': 2, 'aircraft': 2, 'smoking': 2, 'newark': 2, 'ommldh': 2, 'refer': 2, 'rowe': 2, 'braces': 2, 'cantabrico': 2, 'rpt': 2, 'france': 2, 'unveil': 2, 'bln': 2, 'shin': 2, 'satt': 2, 'bk': 2, 'lotus': 2, 'szerilli': 2, 'sah': 2, 'pcreem': 2, 'josh': 2, 'faber': 2, 'joshfaber': 2, 'jsd': 2, 'altavista': 2, 'jakey': 2, 'peoplepc': 2, 'damage': 2, 'opposed': 2, 'informational': 2, 'believed': 2, 'copies': 2, 'typically': 2, 'hesistant': 2, 'baltimoresun': 2, 'pagename': 2, 'toryid': 2, 'extend': 2, 'enroncredit': 2, 'saver': 2, 'breslau': 2, 'headcount': 2, 'salaries': 2, 'mrogers': 2, 'polar': 2, 'branch': 2, 'passing': 2, 'grandchildren': 2, 'passed': 2, 'nacore': 2, 'besides': 2, 'shank': 2, 'shitting': 2, 'topping': 2, 'telerate': 2, 'abnormal': 2, 'produces': 2, 'gwhalle': 2, 'bass': 2, 'werner': 2, 'differential': 2, 'construed': 2, 'recommendation': 2, 'reproduction': 2, 'liability': 2, 'incorrect': 2, 'misleading': 2, 'altered': 2, 'human': 2, 'min': 2, 'competitor': 2, 'consultation': 2, 'bankruptcy': 2, 'subjects': 2, 'crumbling': 2, 'scrumbling': 2, 'aruijo': 2, 'amiles': 2, 'hellerman': 2, 'jtrask': 2, 'bonitos': 2, 'lauterbach': 2, 'herron': 2, 'volunteer': 2, 'faces': 2, 'betters': 2, 'docs': 2, 'minor': 2, 'skiing': 2, 'worry': 2, 'augy': 2, 'supportive': 2, 'understands': 2, 'ventures': 2, 'resolve': 2, 'solve': 2, 'applicable': 2, 'define': 2, 'exceeds': 2, 'communicated': 2, 'listing': 2, 'retain': 2, 'falsification': 2, 'disciplinary': 2, 'discretion': 2, 'practicable': 2, 'exclusively': 2, 'agressive': 2, 'burn': 2, 'foot': 2, 'food': 2, 'predicted': 2, 'northern': 2, 'astrological': 2, 'trend': 2, 'occur': 2, 'issued': 2, 'pipelines': 2, 'rvotruba': 2, 'eliaspress': 2, 'media': 2, 'asf': 2, 'adds': 2, 'kwh': 2, 'apis': 2, 'valuation': 2, 'transport': 2, 'christie': 2, 'wharton': 2, 'semester': 2, 'evaluation': 2, 'sharonzerilli': 2, 'parents': 2, 'enymex': 2, 'lavarato': 2, 'forgot': 2, 'cracks': 2, 'dia': 2, 'deformed': 2, 'timeline': 2, 'jobs': 2, 'secured': 2, 'unsub': 2, 'academic': 2, 'substantiation': 2, 'olive': 2, 'gamble': 2, 'unusual': 2, 'fowler': 2, 'sylvia': 2, 'pollan': 2, 'taffy': 2, 'anti': 2, 'manipulation': 2, 'clippers': 2, 'jarboe': 2, 'contains': 2, 'attachment': 2, 'mime': 2, 'photographer': 2, 'raining': 2, 'grads': 2, 'inexact': 2, 'dryer': 2, 'proble': 2, 'crl': 2, 'wsj': 2, 'pct': 2, 'mill': 2, 'excess': 2, 'western': 2, 'missouri': 2, 'lite': 2, 'predictions': 2, 'weathermen': 2, 'television': 2, 'graduates': 2, 'earn': 2, 'academia': 2, 'gooding': 2, 'scientist': 2, 'cos': 2, 'lure': 2, 'ph': 2, 'hiring': 2, 'pending': 2, 'macrorie': 2, 'snowfall': 2, 'society': 2, 'junior': 2, 'altoe': 2, 'stakes': 2, 'risks': 2, 'wsi': 2, 'representing': 2, 'visible': 2, 'mukta': 2, 'revenue': 2, 'eastwards': 2, 'province': 2, 'tarim': 2, 'foreign': 2, 'provinces': 2, 'ogp': 2, 'lanzhou': 2, 'fucked': 2, 'scalp': 2, 'charity': 2, 'celeste': 2, 'urgent': 2, 'dolores': 2, 'flies': 2, 'ticketwarehouse': 2, 'kenne': 2, 'paypal': 2, 'phys': 2, 'hedgers': 2, 'legs': 2, 'permutations': 2, 'efs': 2, 'eott': 2, 'prove': 2, 'walker': 2, 'appalachia': 2, 'tco': 2, 'cng': 2, 'lenght': 2, 'gehry': 2, 'rgcurry': 2, 'tula': 2, 'hidalgo': 2, 'deluxe': 2, 'housing': 2, 'bedroom': 2, 'puebla': 2, 'tenant': 2, 'mailreply': 2, 'assured': 1, 'cathy': 1, 'mcconnell': 1, 'arnell': 1, 'pierre': 1, 'aury': 1, 'shanna': 1, 'funkhouser': 1, 'cindy': 1, 'skinner': 1, 'staley': 1, 'yoho': 1, 'demonica': 1, 'lipscomb': 1, 'yvonne': 1, 'francois': 1, 'donna': 1, 'chantelle': 1, 'villanueva': 1, 'betty': 1, 'candace': 1, 'purswell': 1, 'johnston': 1, 'mccarthy': 1, 'forsyth': 1, 'hardeman': 1, 'cichosz': 1, 'sunita': 1, 'katyal': 1, 'cherry': 1, 'mont': 1, 'lydia': 1, 'kristy': 1, 'nita': 1, 'garcia': 1, 'brandli': 1, 'yolanda': 1, 'michele': 1, 'beffer': 1, 'balances': 1, 'rhetoric': 1, 'rajib': 1, 'shults': 1, 'surles': 1, 'kenny': 1, 'policano': 1, 'catdaddy': 1, 'powertrade': 1, 'retransmit': 1, 'redistribute': 1, 'indirectly': 1, 'watched': 1, 'refrain': 1, 'shivley': 1, 'functionality': 1, 'profitability': 1, 'sill': 1, 'galleryfurniture': 1, 'energizer': 1, 'nope': 1, 'excited': 1, 'calculate': 1, 'exponential': 1, 'weights': 1, 'enclose': 1, 'metrics': 1, 'educated': 1, 'favors': 1, 'livestock': 1, 'rodeo': 1, 'nieces': 1, 'indivdual': 1, 'texan': 1, 'method': 1, 'executes': 1, 'strongest': 1, 'ridiculous': 1, 'suck': 1, 'invert': 1, 'petchems': 1, 'chrystler': 1, 'muted': 1, 'pissing': 1, 'changeover': 1, 'education': 1, 'promote': 1, 'aggressive': 1, 'summarize': 1, 'hotra': 1, 'drag': 1, 'rainy': 1, 'sku': 1, 'qty': 1, 'altesino': 1, 'tuscan': 1, 'arnjoh': 1, 'cowboy': 1, 'applied': 1, 'albany': 1, 'croton': 1, 'indi': 1, 'dall': 1, 'involve': 1, 'reschedule': 1, 'busiest': 1, 'ranking': 1, 'agreeemnt': 1, 'prohibit': 1, 'hereunder': 1, 'meanings': 1, 'quoted': 1, 'governors': 1, 'hereafter': 1, 'engage': 1, 'jmckay': 1, 'lambie': 1, 'clambie': 1, 'jdistur': 1, 'mcowan': 1, 'rwatt': 1, 'cclark': 1, 'ldraper': 1, 'pearson': 1, 'jpearso': 1, 'jai': 1, 'hawker': 1, 'jhawker': 1, 'regus': 1, 'centre': 1, 'ruggles': 1, 'etoys': 1, 'atl': 1, 'voided': 1, 'chic': 1, 'kc': 1, 'ariz': 1, 'tuesdays': 1, 'mtgs': 1, 'whitt': 1, 'keel': 1, 'gil': 1, 'muhl': 1, 'alford': 1, 'greer': 1, 'tammie': 1, 'schoppe': 1, 'motaylor': 1, 'hlow': 1, 'uffer': 1, 'newsysgroup': 1, 'bking': 1, 'investorsgroup': 1, 'unitedkingdom': 1, 'icrowe': 1, 'ichiro': 1, 'kadono': 1, 'idadono': 1, 'irene': 1, 'masterton': 1, 'imastert': 1, 'cscmail': 1, 'izumi': 1, 'yamamoto': 1, 'izmy': 1, 'babik': 1, 'pestritto': 1, 'jbpestritto': 1, 'thehartford': 1, 'prunty': 1, 'jprunty': 1, 'novell': 1, 'jgellis': 1, 'webtv': 1, 'greyj': 1, 'tdbank': 1, 'schleyer': 1, 'js': 1, 'msg': 1, 'pacbell': 1, 'orton': 1, 'rsmco': 1, 'bellsouth': 1, 'recotta': 1, 'recottajt': 1, 'corning': 1, 'walter': 1, 'walt': 1, 'jaan': 1, 'meri': 1, 'jmeri': 1, 'celestica': 1, 'bdk': 1, 'hyland': 1, 'jackhyland': 1, 'metlife': 1, 'brophy': 1, 'compuserve': 1, 'jacque': 1, 'tandem': 1, 'jkwilson': 1, 'ableson': 1, 'jamesab': 1, 'iacobazzi': 1, 'jiacobaz': 1, 'jamartin': 1, 'donaldson': 1, 'alliedsignal': 1, 'goodman': 1, 'jamescgoodman': 1, 'bellatlantic': 1, 'exxon': 1, 'doran': 1, 'jdoran': 1, 'trinitywallstreet': 1, 'hbfuller': 1, 'hara': 1, 'jimohara': 1, 'oneil': 1, 'bnsf': 1, 'alcoa': 1, 'maloney': 1, 'maloneyj': 1, 'squared': 1, 'timberland': 1, 'gade': 1, 'jpgade': 1, 'duport': 1, 'jrd': 1, 'amdahl': 1, 'inct': 1, 'daytonoh': 1, 'ntrs': 1, 'stpaul': 1, 'sharkey': 1, 'cmp': 1, 'daimlerchrysler': 1, 'brooks': 1, 'reapd': 1, 'jlawler': 1, 'steelcase': 1, 'jamesw': 1, 'arthurandersen': 1, 'yao': 1, 'wesby': 1, 'janewesby': 1, 'ml': 1, 'captialone': 1, 'jbechtel': 1, 'cisco': 1, 'driller': 1, 'jayjd': 1, 'banet': 1, 'poswolsky': 1, 'jposwolsky': 1, 'fmcna': 1, 'baudrand': 1, 'jjbaudrand': 1, 'hayhurst': 1, 'jhayhurst': 1, 'kudlac': 1, 'jkudlac': 1, 'ebmail': 1, 'gdeb': 1, 'mobil': 1, 'forrest': 1, 'jforrest': 1, 'unisourcelink': 1, 'jrock': 1, 'mmfn': 1, 'haworthinc': 1, 'monsanto': 1, 'kaplan': 1, 'jsweene': 1, 'uswnvg': 1, 'firstunion': 1, 'jsherry': 1, 'gartner': 1, 'sigan': 1, 'jjsigan': 1, 'ftb': 1, 'jeoffrey': 1, 'jkmoore': 1, 'jeremiah': 1, 'hover': 1, 'jhoverl': 1, 'jeri': 1, 'bogan': 1, 'jbogan': 1, 'ets': 1, 'jerome': 1, 'crylen': 1, 'jcrylen': 1, 'egii': 1, 'owenscorning': 1, 'jimpond': 1, 'mentorg': 1, 'telops': 1, 'aspentech': 1, 'bfg': 1, 'blockowicz': 1, 'jblockowicz': 1, 'cvty': 1, 'bloomj': 1, 'pictel': 1, 'johanna': 1, 'hellenborg': 1, 'jhellenborg': 1, 'wella': 1, 'sonymusic': 1, 'hilliard': 1, 'jallan': 1, 'easynet': 1, 'linden': 1, 'eur': 1, 'jal': 1, 'balkwill': 1, 'jbalkwill': 1, 'kaisaero': 1, 'jjohn': 1, 'manulife': 1, 'firstdatacorp': 1, 'mulhern': 1, 'jmulhern': 1, 'allstate': 1, 'byrnes': 1, 'jdbyrne': 1, 'zimmerman': 1, 'jzimmerjohn': 1, 'jfbuckley': 1, 'ndcorp': 1, 'warnerbros': 1, 'malino': 1, 'jmalino': 1, 'loews': 1, 'degnan': 1, 'jdegnan': 1, 'hay': 1, 'jrhay': 1, 'wal': 1, 'mart': 1, 'peoplesoft': 1, 'lilly': 1, 'jcrowe': 1, 'advanta': 1, 'demarsh': 1, 'jdemarsh': 1, 'gtech': 1, 'guba': 1, 'gubajj': 1, 'centeon': 1, 'trw': 1, 'jacobjo': 1, 'northgrum': 1, 'sneddon': 1, 'sneddojl': 1, 'wpsc': 1, 'unisys': 1, 'harrisbank': 1, 'ici': 1, 'popolillo': 1, 'jpopolillo': 1, 'sbhcs': 1, 'libertymutual': 1, 'totallogistic': 1, 'csx': 1, 'lmco': 1, 'terela': 1, 'terelajg': 1, 'trendler': 1, 'jgtrendler': 1, 'denso': 1, 'diam': 1, 'orbital': 1, 'coons': 1, 'jcoons': 1, 'jic': 1, 'tai': 1, 'toshiba': 1, 'zalewski': 1, 'johnzal': 1, 'busic': 1, 'weatherford': 1, 'crockett': 1, 'jonc': 1, 'cadence': 1, 'tufts': 1, 'tucker': 1, 'jl': 1, 'mtucker': 1, 'oncina': 1, 'joseo': 1, 'buckman': 1, 'jbuckman': 1, 'ppsmail': 1, 'ameritech': 1, 'winarski': 1, 'jwinarski': 1, 'textron': 1, 'jpatterson': 1, 'glic': 1, 'procopio': 1, 'procopioj': 1, 'nimo': 1, 'maccani': 1, 'maccanj': 1, 'jostens': 1, 'xerox': 1, 'merck': 1, 'jmurphy': 1, 'wpp': 1, 'jpatti': 1, 'figueroa': 1, 'figuej': 1, 'cano': 1, 'jcano': 1, 'nortelnetworks': 1, 'jmschultz': 1, 'jurg': 1, 'grossenbacher': 1, 'bataadm': 1, 'iprolink': 1, 'ch': 1, 'timeinc': 1, 'hermanmiller': 1, 'reyrey': 1, 'balko': 1, 'balkok': 1, 'krandal': 1, 'dusik': 1, 'exeloncorp': 1, 'karl': 1, 'karlmyers': 1, 'carrington': 1, 'kegrrin': 1, 'forty': 1, 'faced': 1, 'satisfactory': 1, 'alternatives': 1, 'increasingly': 1, 'sourcing': 1, 'verification': 1, 'manufacturers': 1, 'locating': 1, 'mmacbride': 1, 'macbride': 1, 'cma': 1, 'consultant': 1, 'chartered': 1, 'accountants': 1, 'privileged': 1, 'printing': 1, 'cob': 1, 'outline': 1, 'nevermind': 1, 'unfotunately': 1, 'stuck': 1, 'appealing': 1, 'existence': 1, 'pure': 1, 'approaching': 1, 'poured': 1, 'accidently': 1, 'restored': 1, 'confirming': 1, 'recieved': 1, 'hurts': 1, 'ver': 1, 'cirmcumstanbce': 1, 'currant': 1, 'bitch': 1, 'preserving': 1, 'backw': 1, 'sellside': 1, 'forgets': 1, 'watches': 1, 'tired': 1, 'lifestyle': 1, 'pup': 1, 'partying': 1, 'memory': 1, 'withdrawel': 1, 'unitl': 1, 'bails': 1, 'anticipation': 1, 'inverse': 1, 'mideast': 1, 'fiad': 1, 'effecting': 1, 'govt': 1, 'apprec': 1, 'surpirsed': 1, 'sparks': 1, 'narrows': 1, 'inkjections': 1, 'albeit': 1, 'revert': 1, 'okey': 1, 'dokey': 1, 'forensic': 1, 'immunity': 1, 'shapiro': 1, 'goofed': 1, 'deregulated': 1, 'uniqueness': 1, 'sounding': 1, 'skepticism': 1, 'uncertain': 1, 'eliminating': 1, 'referring': 1, 'distribute': 1, 'reasonably': 1, 'heretical': 1, 'novel': 1, 'politically': 1, 'concept': 1, 'canon': 1, 'overhaul': 1, 'laboratory': 1, 'satisfy': 1, 'awkward': 1, 'soured': 1, 'experts': 1, 'quirks': 1, 'arranging': 1, 'massachusetts': 1, 'hopeful': 1, 'kinks': 1, 'ironed': 1, 'restructured': 1, 'adjust': 1, 'exploit': 1, 'infant': 1, 'establish': 1, 'warns': 1, 'nimbyism': 1, 'task': 1, 'oversaw': 1, 'drawbacks': 1, 'legendary': 1, 'endemic': 1, 'slash': 1, 'juggle': 1, 'complexities': 1, 'tended': 1, 'thin': 1, 'monopolies': 1, 'coordinated': 1, 'ideal': 1, 'planners': 1, 'depended': 1, 'derailed': 1, 'anew': 1, 'forces': 1, 'kilowatts': 1, 'widgets': 1, 'edition': 1, 'mirror': 1, 'nominations': 1, 'certainty': 1, 'newspaper': 1, 'captain': 1, 'democratic': 1, 'armed': 1, 'nominee': 1, 'chiefs': 1, 'lazarus': 1, 'pirates': 1, 'accused': 1, 'fleecing': 1, 'arguably': 1, 'baddest': 1, 'buccaneer': 1, 'knocks': 1, 'puppy': 1, 'vilify': 1, 'gazed': 1, 'plush': 1, 'skyscrapers': 1, 'jutted': 1, 'teeth': 1, 'overcast': 1, 'reputations': 1, 'maligned': 1, 'deregulating': 1, 'ham': 1, 'fisted': 1, 'cleaned': 1, 'innocent': 1, 'bystander': 1, 'restructuring': 1, 'janee': 1, 'briesemeister': 1, 'newly': 1, 'fragmented': 1, 'aide': 1, 'sen': 1, 'peace': 1, 'cajon': 1, 'widely': 1, 'regarded': 1, 'godfather': 1, 'bungled': 1, 'measures': 1, 'ironic': 1, 'pivotal': 1, 'remedy': 1, 'footing': 1, 'clout': 1, 'pushes': 1, 'scheme': 1, 'strapped': 1, 'sweet': 1, 'castigated': 1, 'speech': 1, 'hint': 1, 'lips': 1, 'swallow': 1, 'pride': 1, 'cheese': 1, 'backing': 1, 'patron': 1, 'disposal': 1, 'serving': 1, 'shadow': 1, 'shaping': 1, 'levers': 1, 'mcdonald': 1, 'texans': 1, 'justice': 1, 'watchdog': 1, 'cheney': 1, 'viewpoint': 1, 'mere': 1, 'rapport': 1, 'glazed': 1, 'mechanically': 1, 'recited': 1, 'supporter': 1, 'policies': 1, 'insisted': 1, 'sway': 1, 'grossly': 1, 'exaggerated': 1, 'mirrored': 1, 'steadfastly': 1, 'refuse': 1, 'tailor': 1, 'positioned': 1, 'prosper': 1, 'soaring': 1, 'skyward': 1, 'middleman': 1, 'brokering': 1, 'reinventing': 1, 'unexceptional': 1, 'lightning': 1, 'wherever': 1, 'tradable': 1, 'leader': 1, 'exploits': 1, 'possession': 1, 'elsewhere': 1, 'frenzy': 1, 'buzz': 1, 'frantic': 1, 'male': 1, 'panel': 1, 'displays': 1, 'search': 1, 'blares': 1, 'speakers': 1, 'scene': 1, 'frat': 1, 'atmosphere': 1, 'advent': 1, 'logged': 1, 'mouse': 1, 'clicks': 1, 'soundtrack': 1, 'truly': 1, 'piles': 1, 'handles': 1, 'institutions': 1, 'frozen': 1, 'fraction': 1, 'pariahs': 1, 'nettie': 1, 'hoge': 1, 'middlemen': 1, 'promoting': 1, 'pennsylvania': 1, 'exacerbate': 1, 'sylvester': 1, 'lawmaker': 1, 'pursuing': 1, 'cracking': 1, 'abuses': 1, 'deliberate': 1, 'withholding': 1, 'surging': 1, 'insists': 1, 'deliberately': 1, 'negotiating': 1, 'puppyish': 1, 'expression': 1, 'vanished': 1, 'steely': 1, 'glinted': 1, 'signing': 1, 'recovering': 1, 'bow': 1, 'profited': 1, 'handsomely': 1, 'scapegoat': 1, 'swayed': 1, 'skewered': 1, 'profiteers': 1, 'hostage': 1, 'warned': 1, 'czar': 1, 'blamed': 1, 'protracted': 1, 'ensuing': 1, 'jumped': 1, 'compensated': 1, 'refused': 1, 'rejected': 1, 'insisting': 1, 'pender': 1, 'unfinished': 1, 'dotted': 1, 'sacked': 1, 'ravens': 1, 'dome': 1, 'bankrupt': 1, 'underwear': 1, 'loom': 1, 'anaheim': 1, 'angels': 1, 'hundreds': 1, 'plastered': 1, 'ballpark': 1, 'begs': 1, 'floodlights': 1, 'pears': 1, 'wells': 1, 'wonders': 1, 'susceptible': 1, 'strain': 1, 'illustrated': 1, 'athlete': 1, 'pictured': 1, 'invariably': 1, 'groin': 1, 'suffer': 1, 'phenomenon': 1, 'bezos': 1, 'tanked': 1, 'advises': 1, 'acquires': 1, 'sponsorship': 1, 'corresponds': 1, 'bonham': 1, 'tracked': 1, 'excluded': 1, 'facilities': 1, 'milwaukee': 1, 'brewing': 1, 'sbc': 1, 'factset': 1, 'qualcomm': 1, 'wireless': 1, 'stores': 1, 'ericsson': 1, 'coors': 1, 'fleet': 1, 'banking': 1, 'soft': 1, 'incubator': 1, 'savvis': 1, 'peaked': 1, 'string': 1, 'setbacks': 1, 'restated': 1, 'deena': 1, 'mcclain': 1, 'alameda': 1, 'county': 1, 'clauses': 1, 'extricate': 1, 'difficulties': 1, 'redskins': 1, 'patriots': 1, 'questionable': 1, 'gallon': 1, 'hat': 1, 'astrodome': 1, 'outraged': 1, 'perturbed': 1, 'spends': 1, 'suites': 1, 'potatoes': 1, 'broadcast': 1, 'radio': 1, 'branding': 1, 'keavney': 1, 'nationally': 1, 'televised': 1, 'perched': 1, 'beside': 1, 'interstate': 1, 'acts': 1, 'billboard': 1, 'traffic': 1, 'boxes': 1, 'signage': 1, 'kiosks': 1, 'samples': 1, 'inclusion': 1, 'flyers': 1, 'gear': 1, 'crowded': 1, 'plays': 1, 'brand': 1, 'luster': 1, 'fluctuates': 1, 'taxpayers': 1, 'tycoons': 1, 'gannon': 1, 'scored': 1, 'frederic': 1, 'larson': 1, 'complimentary': 1, 'rohauer': 1, 'reiterate': 1, 'guidelines': 1, 'movre': 1, 'driver': 1, 'girls': 1, 'saba': 1, 'mathematical': 1, 'correcting': 1, 'violations': 1, 'scholes': 1, 'assumption': 1, 'violated': 1, 'ranges': 1, 'believing': 1, 'breakout': 1, 'historically': 1, 'weenies': 1, 'declining': 1, 'rising': 1, 'regress': 1, 'heptocurtosis': 1, 'fatter': 1, 'predicts': 1, 'plotting': 1, 'incremetal': 1, 'fashion': 1, 'fences': 1, 'agnihotri': 1, 'smiles': 1, 'grateful': 1, 'agnihtori': 1, 'staffed': 1, 'folks': 1, 'duquesne': 1, 'bge': 1, 'visually': 1, 'linda': 1, 'wellhead': 1, 'sorkin': 1, 'leehouse': 1, 'gmu': 1, 'sooner': 1, 'maxwell': 1, 'everday': 1, 'mrket': 1, 'tightening': 1, 'causes': 1, 'wfrom': 1, 'clueless': 1, 'sassy': 1, 'flirt': 1, 'lumber': 1, 'carried': 1, 'zoom': 1, 'zins': 1, 'vines': 1, 'margalit': 1, 'innovator': 1, 'disruptive': 1, 'christensenshare': 1, 'disruption': 1, 'association': 1, 'speaker': 1, 'porter': 1, 'learnings': 1, 'eisenmann': 1, 'peril': 1, 'evernet': 1, 'rosabeth': 1, 'moss': 1, 'kanter': 1, 'evolve': 1, 'succeeding': 1, 'digital': 1, 'mighty': 1, 'outing': 1, 'cologne': 1, 'buttoned': 1, 'cameras': 1, 'rounds': 1, 'poolside': 1, 'paint': 1, 'contents': 1, 'constitute': 1, 'unauthorised': 1, 'confidentiel': 1, 'son': 1, 'contenu': 1, 'represente': 1, 'aucun': 1, 'cas': 1, 'un': 1, 'engagement': 1, 'sous': 1, 'tout': 1, 'conclu': 1, 'ecrit': 1, 'entre': 1, 'meme': 1, 'doit': 1, 'etre': 1, 'autorisee': 1, 'prealablement': 1, 'etes': 1, 'destinataire': 1, 'approver': 1, 'dream': 1, 'blind': 1, 'vulnerable': 1, 'thruday': 1, 'stong': 1, 'laugh': 1, 'brains': 1, 'cleaning': 1, 'minimize': 1, 'glisan': 1, 'avi': 1, 'acceptable': 1, 'signature': 1, 'contemplating': 1, 'warranted': 1, 'eserver': 1, 'automated': 1, 'xms': 1, 'lengthy': 1, 'thread': 1, 'upgrades': 1, 'compatibility': 1, 'supportability': 1, 'helpdesk': 1, 'subset': 1, 'population': 1, 'packaged': 1, 'rolled': 1, 'desktops': 1, 'dispatching': 1, 'netmeeting': 1, 'compatible': 1, 'upgraded': 1, 'angle': 1, 'predominant': 1, 'benchmark': 1, 'linking': 1, 'algorithms': 1, 'unsu': 1, 'adair': 1, 'cunningham': 1, 'dahlke': 1, 'hardie': 1, 'anthon': 1, 'dayao': 1, 'michel': 1, 'decnop': 1, 'detmering': 1, 'dimichele': 1, 'enro': 1, 'dingsdale': 1, 'pleas': 1, 'tricia': 1, 'shoot': 1, 'shooting': 1, 'widen': 1, 'stepping': 1, 'soothsayer': 1, 'broader': 1, 'abilities': 1, 'comfort': 1, 'wife': 1, 'halleleujah': 1, 'darin': 1, 'talley': 1, 'alisa': 1, 'eugenio': 1, 'perez': 1, 'stadler': 1, 'baxter': 1, 'hannon': 1, 'benien': 1, 'moscoso': 1, 'trey': 1, 'bjorn': 1, 'hagelmann': 1, 'falcone': 1, 'prejean': 1, 'bibby': 1, 'earnest': 1, 'massey': 1, 'hamlin': 1, 'sutton': 1, 'lacrecia': 1, 'davenport': 1, 'monroy': 1, 'rodrigue': 1, 'dawes': 1, 'donahue': 1, 'louie': 1, 'jere': 1, 'overdyke': 1, 'jody': 1, 'pierce': 1, 'kathryn': 1, 'corbally': 1, 'galvan': 1, 'mcalister': 1, 'rodney': 1, 'malcolm': 1, 'reed': 1, 'herod': 1, 'komarek': 1, 'cris': 1, 'sherman': 1, 'leboe': 1, 'gail': 1, 'tholen': 1, 'whiting': 1, 'herman': 1, 'manis': 1, 'ruffer': 1, 'farmer': 1, 'jacobsen': 1, 'beardmore': 1, 'nguyen': 1, 'moon': 1, 'valarie': 1, 'sabo': 1, 'lande': 1, 'vern': 1, 'vallejo': 1, 'annemieke': 1, 'slikker': 1, 'modifications': 1, 'redesigned': 1, 'ersys': 1, 'shortcut': 1, 'dragging': 1, 'logo': 1, 'noone': 1, 'urquhart': 1, 'receieved': 1, 'squeezed': 1, 'stranger': 1, 'pee': 1, 'sneaking': 1, 'disagreeing': 1, 'rebuttal': 1, 'fan': 1, 'defcon': 1, 'permanently': 1, 'btus': 1, 'underestimating': 1, 'silicon': 1, 'drivers': 1, 'imagined': 1, 'entrenched': 1, 'minds': 1, 'nevada': 1, 'casinos': 1, 'implication': 1, 'casino': 1, 'replied': 1, 'bright': 1, 'exports': 1, 'monetary': 1, 'slack': 1, 'contracting': 1, 'productivity': 1, 'barometers': 1, 'ignored': 1, 'crilly': 1, 'calgary': 1, 'drops': 1, 'rationale': 1, 'rush': 1, 'trial': 1, 'mschaefer': 1, 'banky': 1, 'bbanky': 1, 'eprime': 1, 'ong': 1, 'glyons': 1, 'kayvan': 1, 'malek': 1, 'collinsb': 1, 'knutsen': 1, 'rrkn': 1, 'chevron': 1, 'coorsh': 1, 'bcoorsh': 1, 'wacc': 1, 'upfront': 1, 'generate': 1, 'alarm': 1, 'wake': 1, 'cup': 1, 'boo': 1, 'pj': 1, 'fluer': 1, 'pricey': 1, 'emp': 1, 'vaca': 1, 'smoothly': 1, 'holliday': 1, 'abridged': 1, 'loves': 1, 'pal': 1, 'listening': 1, 'banter': 1, 'goods': 1, 'berlin': 1, 'prague': 1, 'devote': 1, 'referral': 1, 'buckingham': 1, 'palace': 1, 'demilitarized': 1, 'zone': 1, 'closest': 1, 'pub': 1, 'ninfa': 1, 'ctr': 1, 'adjustments': 1, 'foreman': 1, 'rams': 1, 'wash': 1, 'balt': 1, 'lions': 1, 'eagles': 1, 'bengals': 1, 'pats': 1, 'vikings': 1, 'body': 1, 'downstairs': 1, 'magee': 1, 'ossa': 1, 'goughray': 1, 'impressed': 1, 'appointment': 1, 'teach': 1, 'habits': 1, 'philly': 1, 'dicuss': 1, 'palestinians': 1, 'israelis': 1, 'elway': 1, 'cooling': 1, 'introduction': 1, 'referencing': 1, 'varying': 1, 'theta': 1, 'interviewers': 1, 'norma': 1, 'hasenjager': 1, 'somehow': 1, 'mccarty': 1, 'shelley': 1, 'corman': 1, 'cordes': 1, 'gene': 1, 'humphrey': 1, 'kopper': 1, 'smida': 1, 'palmer': 1, 'leff': 1, 'tilney': 1, 'charlene': 1, 'kirk': 1, 'mcdaniel': 1, 'terrie': 1, 'preparing': 1, 'celebrates': 1, 'reinvented': 1, 'swapping': 1, 'reinvent': 1, 'taping': 1, 'informative': 1, 'thurell': 1, 'koch': 1, 'wild': 1, 'gues': 1, 'hes': 1, 'swanky': 1, 'beaver': 1, 'chalets': 1, 'disappoints': 1, 'brackett': 1, 'volatilities': 1, 'ton': 1, 'og': 1, 'patient': 1, 'plenty': 1, 'chopped': 1, 'unwinding': 1, 'delano': 1, 'wolkwitz': 1, 'rwolkwitz': 1, 'fiona': 1, 'brien': 1, 'overview': 1, 'precious': 1, 'afterwards': 1, 'nameless': 1, 'reveals': 1, 'complement': 1, 'dominated': 1, 'abreast': 1, 'criteria': 1, 'clock': 1, 'founder': 1, 'witter': 1, 'totalfinaelf': 1, 'totf': 1, 'dominant': 1, 'internationally': 1, 'unregulated': 1, 'aaquila': 1, 'ucu': 1, 'duk': 1, 'rei': 1, 'founding': 1, 'penalties': 1, 'fail': 1, 'awareness': 1, 'paperless': 1, 'introducing': 1, 'hybrid': 1, 'assessed': 1, 'newsroom': 1, 'acd': 1, 'ele': 1, 'eln': 1, 'uki': 1, 'emk': 1, 'md': 1, 'cru': 1, 'elg': 1, 'ngs': 1, 'fr': 1, 'bnk': 1, 'drv': 1, 'weu': 1, 'meast': 1, 'len': 1, 'nl': 1, 'mlk': 1, 'pisser': 1, 'girlfriend': 1, 'dire': 1, 'molecle': 1, 'targeting': 1, 'hans': 1, 'cronin': 1, 'angela': 1, 'saenz': 1, 'coping': 1, 'hydroelectricity': 1, 'cultivate': 1, 'consume': 1, 'sul': 1, 'fueloil': 1, 'lsfo': 1, 'arbg': 1, 'stupid': 1, 'irs': 1, 'beers': 1, 'annually': 1, 'taxed': 1, 'fucker': 1, 'nines': 1, 'scraps': 1, 'rollout': 1, 'cgp': 1, 'prnews': 1, 'prnewswire': 1, 'represented': 1, 'segments': 1, 'flexible': 1, 'accelerate': 1, 'enhanced': 1, 'vehicle': 1, 'weighted': 1, 'barrel': 1, 'barrels': 1, 'trillion': 1, 'btu': 1, 'warmest': 1, 'winters': 1, 'realization': 1, 'filed': 1, 'offset': 1, 'philippines': 1, 'networks': 1, 'centric': 1, 'rapidly': 1, 'commoditizing': 1, 'demonstrated': 1, 'declared': 1, 'solutions': 1, 'units': 1, 'stockholders': 1, 'coastal': 1, 'overwhelmingly': 1, 'voted': 1, 'merging': 1, 'organizations': 1, 'integrated': 1, 'concurrent': 1, 'reviews': 1, 'cautionary': 1, 'harbor': 1, 'litigation': 1, 'materially': 1, 'filings': 1, 'unaudited': 1, 'depreciation': 1, 'depletion': 1, 'amortization': 1, 'preferred': 1, 'sea': 1, 'reflects': 1, 'portland': 1, 'magnitude': 1, 'complexity': 1, 'podner': 1, 'wasabi': 1, 'bust': 1, 'rhymes': 1, 'leann': 1, 'rimes': 1, 'fetched': 1, 'molecule': 1, 'waha': 1, 'priceing': 1, 'quantify': 1, 'frac': 1, 'processors': 1, 'florida': 1, 'fl': 1, 'empty': 1, 'inactive': 1, 'raging': 1, 'arb': 1, 'reaching': 1, 'unclear': 1, 'accrue': 1, 'eficient': 1, 'inneficient': 1, 'shudnt': 1, 'lites': 1, 'thermostat': 1, 'cnditioner': 1, 'rember': 1, 'fractionation': 1, 'existent': 1, 'residual': 1, 'fert': 1, 'mucha': 1, 'unction': 1, 'ospraie': 1, 'quieter': 1, 'sud': 1, 'uttery': 1, 'colpase': 1, 'alway': 1, 'sulliacd': 1, 'terry': 1, 'hhd': 1, 'cdd': 1, 'usable': 1, 'berg': 1, 'regression': 1, 'gw': 1, 'ngl': 1, 'neg': 1, 'cam': 1, 'enoromous': 1, 'channels': 1, 'amerex': 1, 'throwing': 1, 'yearly': 1, 'frances': 1, 'purvi': 1, 'ratliff': 1, 'reside': 1, 'rostant': 1, 'shimeall': 1, 'cindi': 1, 'otis': 1, 'wathington': 1, 'sommers': 1, 'cousino': 1, 'schwarzbach': 1, 'goodfriend': 1, 'lafuze': 1, 'khristina': 1, 'griffin': 1, 'ching': 1, 'lun': 1, 'ochoa': 1, 'bucalo': 1, 'coffing': 1, 'kolman': 1, 'mixon': 1, 'rieker': 1, 'billy': 1, 'lemmons': 1, 'fenstad': 1, 'siurek': 1, 'coker': 1, 'tracey': 1, 'tripp': 1, 'dixie': 1, 'riddle': 1, 'tommy': 1, 'yanowski': 1, 'hudler': 1, 'edith': 1, 'carrie': 1, 'slagle': 1, 'brandon': 1, 'wax': 1, 'oliver': 1, 'alvar': 1, 'eggleston': 1, 'gayle': 1, 'muench': 1, 'barthel': 1, 'dara': 1, 'flinn': 1, 'holly': 1, 'mertins': 1, 'travis': 1, 'baldwin': 1, 'krautz': 1, 'friesenhahn': 1, 'neugebauer': 1, 'batchelder': 1, 'bucky': 1, 'dusek': 1, 'niclas': 1, 'egmar': 1, 'mauritzen': 1, 'nash': 1, 'weaver': 1, 'etter': 1, 'nick': 1, 'hiemstra': 1, 'binh': 1, 'pham': 1, 'stanton': 1, 'ray': 1, 'wiesepape': 1, 'erin': 1, 'feather': 1, 'hinze': 1, 'olsen': 1, 'amy': 1, 'lehnert': 1, 'mathews': 1, 'gillette': 1, 'gathmann': 1, 'ramgolam': 1, 'choi': 1, 'di': 1, 'mu': 1, 'huang': 1, 'lena': 1, 'shahid': 1, 'ravi': 1, 'mujumdar': 1, 'junus': 1, 'tan': 1, 'quinn': 1, 'rhee': 1, 'gerardo': 1, 'benitez': 1, 'hector': 1, 'campos': 1, 'dayem': 1, 'khandker': 1, 'snyder': 1, 'chavez': 1, 'thompkins': 1, 'justyn': 1, 'instuctions': 1, 'coded': 1, 'tape': 1, 'receipts': 1, 'blank': 1, 'sides': 1, 'milage': 1, 'reimbursed': 1, 'sime': 1, 'dictionary': 1, 'definition': 1, 'gang': 1, 'tijerina': 1, 'anita': 1, 'megan': 1, 'angelos': 1, 'hanover': 1, 'microphone': 1, 'employer': 1, 'tun': 1, 'darn': 1, 'annoyance': 1, 'quicker': 1, 'rgds': 1, 'conspicuous': 1, 'habit': 1, 'custome': 1, 'rs': 1, 'transferring': 1, 'specs': 1, 'volatilit': 1, 'tra': 1, 'scare': 1, 'yur': 1, 'strikeputs': 1, 'collpse': 1, 'litt': 1, 'lhand': 1, 'hud': 1, 'indication': 1, 'cxustomer': 1, 'withdrawels': 1, 'lousy': 1, 'shotrs': 1, 'construcictve': 1, 'terrific': 1, 'ranks': 1, 'bullis': 1, 'californication': 1, 'fukkers': 1, 'conitue': 1, 'breaking': 1, 'processes': 1, 'separating': 1, 'retroactive': 1, 'adjustment': 1, 'dispute': 1, 'vacations': 1, 'subjective': 1, 'maggie': 1, 'nyho': 1, 'filming': 1, 'thougth': 1, 'imputed': 1, 'agreemen': 1, 'rises': 1, 'optimism': 1, 'kllm': 1, 'shrs': 1, 'extends': 1, 'swisscom': 1, 'unmetered': 1, 'supplement': 1, 'solicit': 1, 'headers': 1, 'atm': 1, 'performed': 1, 'encouragement': 1, 'burden': 1, 'estimation': 1, 'lengthen': 1, 'offline': 1, 'blast': 1, 'roller': 1, 'blading': 1, 'sugar': 1, 'bowls': 1, 'equals': 1, 'authorise': 1, 'andew': 1, 'debating': 1, 'observations': 1, 'regroup': 1, 'verystrict': 1, 'sympathy': 1, 'spell': 1, 'canvas': 1, 'hated': 1, 'crushed': 1, 'deliverabulty': 1, 'ayt': 1, 'propective': 1, 'hampered': 1, 'implications': 1, 'scared': 1, 'wreck': 1, 'morot': 1, 'alrite': 1, 'lonardo': 1, 'carmen': 1, 'ranjeet': 1, 'bhatia': 1, 'kill': 1, 'duplicate': 1, 'cooperation': 1, 'alumni': 1, 'lobby': 1, 'targeted': 1, 'lowe': 1, 'roston': 1, 'outdoors': 1, 'midst': 1, 'chances': 1, 'tin': 1, 'invisible': 1, 'spirit': 1, 'lungs': 1, 'dorado': 1, 'ark': 1, 'voluntarily': 1, 'shelled': 1, 'hundred': 1, 'thousand': 1, 'cough': 1, 'exhaled': 1, 'autumn': 1, 'hague': 1, 'gathered': 1, 'dot': 1, 'zeds': 1, 'umlaut': 1, 'convention': 1, 'curb': 1, 'gases': 1, 'geological': 1, 'hothouse': 1, 'metric': 1, 'exhaust': 1, 'cars': 1, 'odd': 1, 'unanimity': 1, 'emblematic': 1, 'verge': 1, 'transition': 1, 'snubbed': 1, 'stumbling': 1, 'confront': 1, 'conundrum': 1, 'browne': 1, 'moody': 1, 'responded': 1, 'threat': 1, 'forth': 1, 'vowed': 1, 'altruism': 1, 'aidan': 1, 'theirs': 1, 'neighborhood': 1, 'kinko': 1, 'footprints': 1, 'pledging': 1, 'gravity': 1, 'alden': 1, 'ought': 1, 'renewable': 1, 'ceilings': 1, 'nations': 1, 'allowance': 1, 'greenbacks': 1, 'greener': 1, 'goffman': 1, 'fervor': 1, 'paler': 1, 'shade': 1, 'claiborne': 1, 'cry': 1, 'havoc': 1, 'hears': 1, 'clamoring': 1, 'buzzing': 1, 'allotted': 1, 'drill': 1, 'analogous': 1, 'struggling': 1, 'massive': 1, 'measurement': 1, 'assigns': 1, 'universal': 1, 'andersen': 1, 'lyonnais': 1, 'swiss': 1, 'embryonic': 1, 'devoid': 1, 'legislative': 1, 'nail': 1, 'defined': 1, 'garth': 1, 'struggled': 1, 'irony': 1, 'europeans': 1, 'reluctant': 1, 'embark': 1, 'practice': 1, 'hotly': 1, 'debated': 1, 'assign': 1, 'sequestering': 1, 'forests': 1, 'trees': 1, 'soak': 1, 'oxygen': 1, 'mechanisms': 1, 'evaporate': 1, 'ratification': 1, 'campaigned': 1, 'briefings': 1, 'preps': 1, 'bonn': 1, 'pioneer': 1, 'capped': 1, 'sulfur': 1, 'acid': 1, 'adviser': 1, 'stands': 1, 'businessman': 1, 'monetization': 1, 'greed': 1, 'sake': 1, 'meter': 1, 'pfse': 1, 'deck': 1, 'decks': 1, 'uno': 1, 'hotels': 1, 'travelocity': 1, 'promotional': 1, 'declines': 1, 'acceptances': 1, 'tbd': 1, 'shawna': 1, 'sheets': 1, 'aquilla': 1, 'jr': 1, 'lengkeekjr': 1, 'efps': 1, 'tells': 1, 'cclerk': 1, 'panhandle': 1, 'kid': 1, 'wire': 1, 'juliette': 1, 'accounts': 1, 'eloy': 1, 'escobar': 1, 'appointed': 1, 'upstream': 1, 'spaces': 1, 'occupied': 1, 'undisclosed': 1, 'recipients': 1, 'thirty': 1, 'screenwriter': 1, 'script': 1, 'combinations': 1, 'promising': 1, 'screenplay': 1, 'bisexual': 1, 'extreme': 1, 'films': 1, 'recieve': 1, 'download': 1, 'sample': 1, 'pages': 1, 'movies': 1, 'galleries': 1, 'discontinue': 1, 'databas': 1, 'disrupt': 1, 'retrieve': 1, 'diamonds': 1, 'chuck': 1, 'ames': 1, 'bilal': 1, 'bajwa': 1, 'ballato': 1, 'gim': 1, 'padron': 1, 'vladi': 1, 'pimenov': 1, 'plachy': 1, 'schiavone': 1, 'shim': 1, 'virawan': 1, 'yawapongsiri': 1, 'cocktails': 1, 'colombe': 1, 'montrose': 1, 'blvd': 1, 'map': 1, 'lacolombedor': 1, 'antitrust': 1, 'ia': 1, 'reminded': 1, 'cryptic': 1, 'conducive': 1, 'wear': 1, 'identical': 1, 'exchanges': 1, 'extinct': 1, 'liffe': 1, 'deserted': 1, 'intermediation': 1, 'relaxed': 1, 'steer': 1, 'facilitate': 1, 'bypass': 1, 'dawson': 1, 'fogo': 1, 'chao': 1, 'hillcroft': 1, 'fondren': 1, 'assoicates': 1, 'archived': 1, 'suitable': 1, 'backoffice': 1, 'compiling': 1, 'letter': 1, 'explaining': 1, 'scope': 1, 'generic': 1, 'seek': 1, 'designate': 1, 'creates': 1, 'captured': 1, 'maintained': 1, 'imaging': 1, 'imaged': 1, 'viewable': 1, 'scanning': 1, 'offsite': 1, 'attempt': 1, 'capture': 1, 'identify': 1, 'sap': 1, 'painless': 1, 'invasive': 1, 'cabinets': 1, 'drawers': 1, 'trademup': 1, 'thur': 1, 'rivals': 1, 'runners': 1, 'wins': 1, 'proliferation': 1, 'sleeve': 1, 'namely': 1, 'posess': 1, 'capturing': 1, 'spectronlive': 1, 'dart': 1, 'arnaez': 1, 'demarco': 1, 'aneela': 1, 'charania': 1, 'brogan': 1, 'shifali': 1, 'sharma': 1, 'curtis': 1, 'longoria': 1, 'gerri': 1, 'gosnell': 1, 'vosko': 1, 'sandoval': 1, 'koehler': 1, 'oblander': 1, 'hamilton': 1, 'fonseca': 1, 'shaped': 1, 'proportionally': 1, 'volatilites': 1, 'imply': 1, 'reduces': 1, 'acceralatering': 1, 'iv': 1, 'barrowcliffe': 1, 'scipa': 1, 'coxjgc': 1, 'cdownie': 1, 'jonke': 1, 'morse': 1, 'leavenworth': 1, 'gajewsm': 1, 'mcconn': 1, 'mraz': 1, 'smurray': 1, 'overton': 1, 'jpotieno': 1, 'mjw': 1, 'dwolfert': 1, 'cinergy': 1, 'wormsb': 1, 'hazagaria': 1, 'equiva': 1, 'catch': 1, 'sucked': 1, 'rc': 1, 'hank': 1, 'sp': 1, 'mbytes': 1, 'ram': 1, 'thnks': 1, 'moreso': 1, 'condor': 1, 'btw': 1, 'africa': 1, 'intellicast': 1, 'unitedstates': 1, 'atlanticloop': 1, 'theriot': 1, 'trainer': 1, 'hickey': 1, 'scoop': 1, 'placing': 1, 'titles': 1, 'finalized': 1, 'additionally': 1, 'buenrostro': 1, 'contacct': 1, 'jeanne': 1, 'preceding': 1, 'abl': 1, 'kjm': 1, 'oportunity': 1, 'oakley': 1, 'tenn': 1, 'pitt': 1, 'jets': 1, 'privileges': 1, 'locals': 1, 'yelled': 1, 'inquiry': 1, 'pains': 1, 'handled': 1, 'doubt': 1, 'overcome': 1, 'incentivize': 1, 'resist': 1, 'piss': 1, 'susprised': 1, 'gass': 1, 'husbanding': 1, 'frontn': 1, 'agaon': 1, 'pipes': 1, 'ouut': 1, 'longs': 1, 'wound': 1, 'commands': 1, 'runup': 1, 'cmon': 1, 'heart': 1, 'concerened': 1, 'invererese': 1, 'curoius': 1, 'decm': 1, 'grandchild': 1, 'dailies': 1, 'restricted': 1, 'clears': 1, 'issuing': 1, 'explained': 1, 'neslon': 1, 'fin': 1, 'fp': 1, 'tailgate': 1, 'termination': 1, 'riveredge': 1, 'parkway': 1, 'ga': 1, 'ktharpe': 1, 'sophisticated': 1, 'palates': 1, 'pawned': 1, 'unsuspecting': 1, 'coworker': 1, 'signaling': 1, 'tougher': 1, 'sund': 1, 'regis': 1, 'prorated': 1, 'reg': 1, 'renew': 1, 'renewal': 1, 'administor': 1, 'loaded': 1, 'erms': 1, 'opt': 1, 'xl': 1, 'backtest': 1, 'waitresses': 1, 'finishing': 1, 'terrbly': 1, 'hen': 1, 'astor': 1, 'lafayette': 1, 'village': 1, 'dhave': 1, 'flavor': 1, 'harlem': 1, 'tasked': 1, 'lives': 1, 'sokolin': 1, 'monbousquet': 1, 'jshankm': 1, 'headlines': 1, 'assitance': 1, 'shenkman': 1, 'ballantine': 1, 'responsable': 1, 'decides': 1, 'concierge': 1, 'unfavorably': 1, 'spoken': 1, 'pls': 1, 'regds': 1, 'strategize': 1, 'desparately': 1, 'unbelieveably': 1, 'savvy': 1, 'doan': 1, 'ramirez': 1, 'tighter': 1, 'implicitly': 1, 'kinda': 1, 'procuring': 1, 'slane': 1, 'castle': 1, 'alemant': 1, 'engles': 1, 'csi': 1, 'arajpal': 1, 'coral': 1, 'arubio': 1, 'babusch': 1, 'mapllc': 1, 'baris': 1, 'ertan': 1, 'bhagelm': 1, 'blake': 1, 'pounds': 1, 'deyoung': 1, 'brysonpa': 1, 'hal': 1, 'bseyfri': 1, 'cpapousek': 1, 'csen': 1, 'ngccorp': 1, 'cornwell': 1, 'edhirs': 1, 'flwrgbm': 1, 'kuo': 1, 'jsc': 1, 'gctmat': 1, 'gkla': 1, 'wright': 1, 'haylett': 1, 'tamu': 1, 'jarvis': 1, 'jencooper': 1, 'mindspring': 1, 'sonnenburg': 1, 'iname': 1, 'jspicer': 1, 'jturner': 1, 'kck': 1, 'khannas': 1, 'pge': 1, 'madcapduet': 1, 'magdasr': 1, 'texaco': 1, 'loranc': 1, 'markw': 1, 'primosystems': 1, 'makulski': 1, 'mbernst': 1, 'merrillpl': 1, 'lima': 1, 'sepanski': 1, 'kmtc': 1, 'nhong': 1, 'ostdiek': 1, 'pitbull': 1, 'wt': 1, 'pmeaux': 1, 'entergy': 1, 'pzadoro': 1, 'rabi': 1, 'rahim': 1, 'baig': 1, 'rayjdunn': 1, 'rw': 1, 'sama': 1, 'sstewart': 1, 'transenergy': 1, 'stathis': 1, 'athena': 1, 'tmurphy': 1, 'wchi': 1, 'wjs': 1, 'thorpecorp': 1, 'wskemble': 1, 'xxenergy': 1, 'ix': 1, 'netcom': 1, 'naveen': 1, 'meriwether': 1, 'fpc': 1, 'murdocwk': 1, 'kschroeder': 1, 'kpmg': 1, 'glen': 1, 'sweetnam': 1, 'cjcramer': 1, 'llbloom': 1, 'alum': 1, 'mit': 1, 'yannie': 1, 'chowdrya': 1, 'djones': 1, 'hoffmanm': 1, 'bharat': 1, 'khanna': 1, 'newport': 1, 'adequate': 1, 'optimally': 1, 'restrict': 1, 'calculator': 1, 'itm': 1, 'versa': 1, 'scam': 1, 'rip': 1, 'secondly': 1, 'spoofs': 1, 'bayareasailing': 1, 'outages': 1, 'aprox': 1, 'smoother': 1, 'releases': 1, 'bbh': 1, 'selena': 1, 'gonzalez': 1, 'madhur': 1, 'dayal': 1, 'santucci': 1, 'anxiously': 1, 'qeued': 1, 'unfortu': 1, 'ately': 1, 'lame': 1, 'tested': 1, 'frustrated': 1, 'notification': 1, 'picking': 1, 'hmmmmm': 1, 'puke': 1, 'bubbeh': 1, 'obstacles': 1, 'shields': 1, 'magruder': 1, 'posey': 1, 'zdunkewicz': 1, 'hodge': 1, 'specified': 1, 'overwrite': 1, 'everytime': 1, 'modify': 1, 'canceling': 1, 'resubmitting': 1, 'conducted': 1, 'analyzed': 1, 'pros': 1, 'cons': 1, 'mlt': 1, 'french': 1, 'jerk': 1, 'stge': 1, 'orleans': 1, 'freezing': 1, 'addison': 1, 'cafe': 1, 'roads': 1, 'cooked': 1, 'fresh': 1, 'salmon': 1, 'celebration': 1, 'sidney': 1, 'brought': 1, 'noticeably': 1, 'ye': 1, 'fabulous': 1, 'aya': 1, 'korydegan': 1, 'publicist': 1, 'fb': 1, 'swbij': 1, 'crystal': 1, 'schwartz': 1, 'cschwartz': 1, 'agt': 1, 'ycsizm': 1, 'fri': 1, 'svc': 1, 'sx': 1, 'mco': 1, 'supriingly': 1, 'bailed': 1, 'disappointment': 1, 'depite': 1, 'divergence': 1, 'tracks': 1, 'elena': 1, 'meaningful': 1, 'doubtful': 1, 'propane': 1, 'baseloads': 1, 'torn': 1, 'touradji': 1, 'mandates': 1, 'mtm': 1, 'caxton': 1, 'paloma': 1, 'kingdon': 1, 'renaissance': 1, 'transparent': 1, 'desired': 1, 'reveal': 1, 'cares': 1, 'unfortunate': 1, 'husband': 1, 'bren': 1, 'hyundai': 1, 'mpeg': 1, 'doritos': 1, 'fir': 1, 'grabbing': 1, 'tampa': 1, 'expiration': 1, 'flights': 1, 'firmed': 1, 'tremendously': 1, 'plane': 1, 'sony': 1, 'nurse': 1, 'employess': 1, 'suspended': 1, 'analyzing': 1, 'bollinger': 1, 'bands': 1, 'mckinney': 1, 'refrigerator': 1, 'stocked': 1, 'pepper': 1, 'herd': 1, 'twelv': 1, 'ampaez': 1, 'earthlink': 1, 'bidder': 1, 'utmost': 1, 'age': 1, 'older': 1, 'graphic': 1, 'scantily': 1, 'clad': 1, 'gals': 1, 'offend': 1, 'religious': 1, 'jgreen': 1, 'cued': 1, 'edac': 1, 'presenting': 1, 'examining': 1, 'tabs': 1, 'assemble': 1, 'notices': 1, 'upcoming': 1, 'ssdstf': 1, 'datatables': 1, 'replicate': 1, 'dampening': 1, 'constantly': 1, 'widens': 1, 'chaffe': 1, 'qa': 1, 'annamaedicastro': 1, 'witty': 1, 'bib': 1, 'amfos': 1, 'sec': 1, 'hpl': 1, 'memos': 1, 'collecting': 1, 'distributing': 1, 'emailing': 1, 'graduating': 1, 'occassionally': 1, 'aes': 1, 'newenergy': 1, 'trafigura': 1, 'tm': 1, 'label': 1, 'backwardated': 1, 'lassander': 1, 'diffs': 1, 'cdty': 1, 'legend': 1, 'conversions': 1, 'ahave': 1, 'inquiring': 1, 'tongo': 1, 'nop': 1, 'observation': 1, 'consensus': 1, 'dangerous': 1, 'inelastic': 1, 'comfortable': 1, 'framing': 1, 'evidenced': 1, 'juncture': 1, 'potent': 1, 'expressing': 1, 'riskmetrics': 1, 'defendable': 1, 'objective': 1, 'rotenberg': 1, 'haug': 1, 'eavesdrop': 1, 'belong': 1, 'gastraders': 1, 'shops': 1, 'banker': 1, 'occasionally': 1, 'garbage': 1, 'revolves': 1, 'gossip': 1, 'bookie': 1, 'robbed': 1, 'phili': 1, 'gourmet': 1, 'extravagant': 1, 'culinary': 1, 'stereo': 1, 'musuems': 1, 'derek': 1, 'devries': 1, 'tor': 1, 'kitagawa': 1, 'ledain': 1, 'luce': 1, 'parquet': 1, 'yzaguirre': 1, 'garland': 1, 'jian': 1, 'miao': 1, 'wang': 1, 'miguel': 1, 'vasquez': 1, 'amber': 1, 'hamby': 1, 'hawthorn': 1, 'recruiter': 1, 'brandi': 1, 'vass': 1, 'gorricho': 1, 'drummond': 1, 'enerson': 1, 'lesley': 1, 'ayers': 1, 'sheryl': 1, 'lebeau': 1, 'meier': 1, 'stacie': 1, 'mouton': 1, 'akasha': 1, 'bibb': 1, 'bethanne': 1, 'slaughter': 1, 'cecilia': 1, 'chetan': 1, 'paipanandiker': 1, 'chaney': 1, 'gillian': 1, 'jacquelyn': 1, 'detiveaux': 1, 'tippery': 1, 'doukas': 1, 'vincent': 1, 'quezada': 1, 'panos': 1, 'crump': 1, 'ashu': 1, 'tewari': 1, 'deluca': 1, 'cecil': 1, 'clinton': 1, 'dale': 1, 'neuner': 1, 'fraisy': 1, 'wylie': 1, 'meachum': 1, 'griff': 1, 'guillory': 1, 'lohit': 1, 'datta': 1, 'barua': 1, 'woodson': 1, 'belyeu': 1, 'brower': 1, 'skelly': 1, 'mailbox': 1, 'laptop': 1, 'pda': 1, 'ipaq': 1, 'palm': 1, 'pilot': 1, 'jornada': 1, 'maintains': 1, 'bestfares': 1, 'lists': 1, 'specials': 1, 'clj': 1, 'screens': 1, 'pru': 1, 'recounted': 1, 'ellectronic': 1, 'denny': 1, 'waco': 1, 'scalper': 1, 'briefed': 1, 'defcom': 1, 'sorted': 1, 'underestimated': 1, 'constrained': 1, 'reestablishes': 1, 'circular': 1, 'seasonally': 1, 'plummets': 1, 'regains': 1, 'switchers': 1, 'predicated': 1, 'reorg': 1, 'highs': 1, 'cruising': 1, 'condo': 1, 'mas': 1, 'adjusting': 1, 'hollywood': 1, 'actor': 1, 'boyfriend': 1, 'transactional': 1, 'eim': 1, 'bryon': 1, 'bain': 1, 'stages': 1, 'facts': 1, 'rentz': 1, 'increment': 1, 'majority': 1, 'afeller': 1, 'caf': 1, 'eller': 1, 'enet': 1, 'jpecher': 1, 'crossed': 1, 'drunk': 1, 'stinky': 1, 'turf': 1, 'toim': 1, 'barkley': 1, 'visualization': 1, 'themsevles': 1, 'synopses': 1, 'interrupt': 1, 'affluent': 1, 'consultative': 1, 'objectives': 1, 'institutional': 1, 'monitoring': 1, 'appreciably': 1, 'advisor': 1, 'jour': 1, 'classroom': 1, 'violating': 1, 'ws': 1, 'preferable': 1, 'particula': 1, 'highlighted': 1, 'bold': 1, 'resource': 1, 'hyatt': 1, 'regency': 1, 'sandalwood': 1, 'alternatively': 1, 'schedul': 1, 'informatio': 1, 'whitehe': 1, 'outrights': 1, 'clips': 1, 'robyn': 1, 'plauche': 1, 'concentrate': 1, 'rus': 1, 'wti': 1, 'merrill': 1, 'jpm': 1, 'chase': 1, 'bs': 1, 'darcy': 1, 'carrol': 1, 'wknd': 1, 'oout': 1, 'cms': 1, 'digs': 1, 'fend': 1, 'chicks': 1, 'bastard': 1, 'score': 1, 'boone': 1, 'presenation': 1, 'becuase': 1, 'graph': 1, 'tz': 1, 'lastly': 1, 'shallow': 1, 'turbine': 1, 'moderation': 1, 'possibility': 1, 'shocks': 1, 'faxing': 1, 'chain': 1, 'euro': 1, 'portugal': 1, 'notoriety': 1, 'surprise': 1, 'arsenal': 1, 'liverpool': 1, 'hugh': 1, 'neighbors': 1, 'notting': 1, 'productive': 1, 'ah': 1, 'tradition': 1, 'paris': 1, 'dust': 1, 'toss': 1, 'sheriff': 1, 'thedistribution': 1, 'pack': 1, 'assymetry': 1, 'prevatt': 1, 'kcs': 1, 'vpp': 1, 'sdi': 1, 'refco': 1, 'flatt': 1, 'nearest': 1, 'interval': 1, 'clever': 1, 'fastest': 1, 'pedron': 1, 'treasures': 1, 'flipped': 1, 'manners': 1, 'bbs': 1, 'fn': 1, 'tid': 1, 'sid': 1, 'coordinator': 1, 'stroking': 1, 'digit': 1, 'depstie': 1, 'requisitioned': 1, 'premonition': 1, 'lawless': 1, 'edt': 1, 'jail': 1, 'numb': 1, 'debacle': 1, 'wheel': 1, 'formerly': 1, 'sank': 1, 'earned': 1, 'reputation': 1, 'stroke': 1, 'prosecution': 1, 'pleaded': 1, 'guilty': 1, 'denis': 1, 'levy': 1, 'southwark': 1, 'crown': 1, 'testimony': 1, 'repeatedly': 1, 'lied': 1, 'superiors': 1, 'summon': 1, 'creditor': 1, 'balked': 1, 'wh': 1, 'ich': 1, 'ceased': 1, 'losse': 1, 'wiping': 1, 'thirds': 1, 'deposit': 1, 'lunchtime': 1, 'worsened': 1, 'quantities': 1, 'exceeded': 1, 'liquidation': 1, 'causing': 1, 'trusted': 1, 'simon': 1, 'deeply': 1, 'rogue': 1, 'loans': 1, 'amassed': 1, 'borrowed': 1, 'tragic': 1, 'upsetting': 1, 'yearend': 1, 'blowout': 1, 'circumstance': 1, 'assymetric': 1, 'tail': 1, 'probabilities': 1, 'canned': 1, 'tests': 1, 'hurricane': 1, 'inputs': 1, 'vicious': 1, 'rumor': 1, 'counsels': 1, 'elevated': 1, 'attorneys': 1, 'ssb': 1, 'wrinkles': 1, 'pink': 1, 'elephants': 1, 'enthused': 1, 'skillset': 1, 'advertising': 1, 'critic': 1, 'sarcastic': 1, 'benchmarking': 1, 'berzins': 1, 'moorer': 1, 'motsinger': 1, 'improved': 1, 'cheating': 1, 'pin': 1, 'pins': 1, 'bowler': 1, 'secure': 1, 'loginid': 1, 'buiding': 1, 'delgado': 1, 'sdelgado': 1, 'ticketed': 1, 'agent': 1, 'yfrjlu': 1, 'attn': 1, 'guardia': 1, 'nj': 1, 'intl': 1, 'mcdonnell': 1, 'dc': 1, 'ccvi': 1, 'locator': 1, 'lowering': 1, 'sigma': 1, 'suspend': 1, 'suppose': 1, 'johnnie': 1, 'encrypted': 1, 'reimbursement': 1, 'wives': 1, 'rapid': 1, 'incluce': 1, 'rol': 1, 'marcotte': 1, 'tmarcotte': 1, 'lynch': 1, 'fioriello': 1, 'jfioriello': 1, 'rdennis': 1, 'leo': 1, 'andre': 1, 'aleo': 1, 'sergides': 1, 'msergides': 1, 'horton': 1, 'bhorton': 1, 'tnsk': 1, 'mpg': 1, 'bankofamerica': 1, 'disclaimer': 1, 'warranty': 1, 'completeness': 1, 'accuracy': 1, 'destroy': 1, 'worthless': 1, 'lt': 1, 'platforms': 1, 'maxed': 1, 'derivative': 1, 'checkout': 1, 'letting': 1, 'nokia': 1, 'friendly': 1, 'upgrading': 1, 'expensed': 1, 'born': 1, 'kofc': 1, 'catholic': 1, 'scarry': 1, 'voting': 1, 'vuittonet': 1, 'presas': 1, 'attain': 1, 'budgetary': 1, 'nicholie': 1, 'template': 1, 'agencies': 1, 'relocation': 1, 'temporaries': 1, 'offsites': 1, 'expenditures': 1, 'computers': 1, 'hugs': 1, 'xxxx': 1, 'utter': 1, 'chaos': 1, 'trough': 1, 'axis': 1, 'lakes': 1, 'arctic': 1, 'pour': 1, 'northeastern': 1, 'troughing': 1, 'southwestern': 1, 'forcing': 1, 'ridging': 1, 'southeast': 1, 'warmer': 1, 'eliminates': 1, 'protection': 1, 'cases': 1, 'gradual': 1, 'amplified': 1, 'plentiful': 1, 'ensembles': 1, 'bon': 1, 'coupe': 1, 'tou': 1, 'coincidental': 1, 'hmmm': 1, 'reprieve': 1, 'attack': 1, 'tools': 1, 'external': 1, 'crew': 1, 'toyko': 1, 'graphs': 1, 'deny': 1, 'enforced': 1, 'resign': 1, 'inbox': 1, 'yelena': 1, 'elf': 1, 'nathan': 1, 'jnathan': 1, 'excellent': 1, 'greenway': 1, 'drive': 1, 'buffet': 1, 'mullins': 1, 'aaa': 1, 'salesperson': 1, 'resurrect': 1, 'isda': 1, 'referred': 1, 'inconvience': 1, 'enable': 1, 'flecther': 1, 'chioce': 1, 'emiling': 1, 'emcmich': 1, 'nicely': 1, 'pointing': 1, 'rotations': 1, 'pullbacks': 1, 'hourly': 1, 'accompanying': 1, 'bd': 1, 'trding': 1, 'intercontinental': 1, 'exch': 1, 'counterintuitive': 1, 'systematic': 1, 'arises': 1, 'jumps': 1, 'magenta': 1, 'font': 1, 'poorly': 1, 'conditioned': 1, 'kink': 1, 'discontinuity': 1, 'propose': 1, 'smoothed': 1, 'rescheduled': 1, 'arrogant': 1, 'internally': 1, 'socgen': 1, 'ewerner': 1, 'esocgen': 1, 'ecom': 1, 'oceanenergy': 1, 'scuba': 1, 'pool': 1, 'evenings': 1, 'instructor': 1, 'inappropriate': 1, 'offensive': 1, 'tues': 1, 'typing': 1, 'parkhill': 1, 'teammates': 1, 'soul': 1, 'wallet': 1, 'painting': 1, 'severence': 1, 'severance': 1, 'cleared': 1, 'sm': 1, 'bartonbarile': 1, 'cutey': 1, 'hmcd': 1, 'overwhelmed': 1, 'qenld': 1, 'illness': 1, 'overspending': 1, 'overwhelming': 1, 'despair': 1, 'regain': 1, 'foothold': 1, 'discovered': 1, 'simplified': 1, 'borrowing': 1, 'filing': 1, 'spower': 1, 'sociology': 1, 'geometry': 1, 'literature': 1, 'algebra': 1, 'inbetween': 1, 'waugh': 1, 'shepherd': 1, 'kroger': 1, 'counselor': 1, 'vlade': 1, 'printout': 1, 'logic': 1, 'bumps': 1, 'tally': 1, 'combination': 1, 'seasons': 1, 'resend': 1, 'ubspainewebber': 1, 'deposited': 1, 'debits': 1, 'interfering': 1, 'protecting': 1, 'marginable': 1, 'citi': 1, 'involiced': 1, 'invoicing': 1, 'rebooked': 1, 'rebook': 1, 'qf': 1, 'originally': 1, 'greenwich': 1, 'benjys': 1, 'redesign': 1, 'linked': 1, 'sexy': 1, 'cum': 1, 'grano': 1, 'salis': 1, 'machine': 1, 'rarely': 1, 'ot': 1, 'bored': 1, 'adios': 1, 'amigos': 1, 'deficit': 1, 'imbalance': 1, 'surprises': 1, 'sllitely': 1, 'uglier': 1, 'contmaplating': 1, 'lat': 1, 'pennies': 1, 'whaen': 1, 'pero': 1, 'mans': 1, 'screw': 1, 'characteres': 1, 'symbols': 1, 'intranet': 1, 'rented': 1, 'appreciation': 1, 'ccmail': 1, 'chatting': 1, 'unsupported': 1, 'dependencies': 1, 'contacted': 1, 'conversition': 1, 'adoult': 1, 'accessories': 1, 'programmed': 1, 'polycom': 1, 'investigating': 1, 'wolkoff': 1, 'refers': 1, 'affirmative': 1, 'conduct': 1, 'periodic': 1, 'audits': 1, 'bernard': 1, 'purta': 1, 'affairs': 1, 'lasala': 1, 'mccoy': 1, 'surveillance': 1, 'govern': 1, 'timely': 1, 'manner': 1, 'retained': 1, 'dk': 1, 'subsection': 1, 'rejecting': 1, 'chooses': 1, 'subsequently': 1, 'atom': 1, 'clerk': 1, 'accurately': 1, 'transmits': 1, 'scary': 1, 'plastics': 1, 'arent': 1, 'ind': 1, 'analyses': 1, 'pinch': 1, 'fortunate': 1, 'discretionary': 1, 'reverse': 1, 'rotated': 1, 'vacancies': 1, 'coo': 1, 'cantor': 1, 'individually': 1, 'tenors': 1, 'perfectly': 1, 'charged': 1, 'justification': 1, 'paine': 1, 'webber': 1, 'followed': 1, 'gained': 1, 'approached': 1, 'rbrown': 1, 'supplemental': 1, 'forgive': 1, 'pore': 1, 'spelling': 1, 'brokerages': 1, 'astronomical': 1, 'correlates': 1, 'prics': 1, 'motto': 1, 'unrelenting': 1, 'intellectual': 1, 'supertrader': 1, 'cuffs': 1, 'accesory': 1, 'socks': 1, 'sandals': 1, 'spats': 1, 'intra': 1, 'temp': 1, 'graphics': 1, 'coined': 1, 'phrase': 1, 'nicholas': 1, 'leeson': 1, 'houses': 1, 'fame': 1, 'allegedly': 1, 'grocery': 1, 'store': 1, 'tabloid': 1, 'hemisphere': 1, 'ifgmr': 1, 'warrants': 1, 'arrest': 1, 'tourney': 1, 'window': 1, 'nobel': 1, 'laureates': 1, 'supertraders': 1, 'cop': 1, 'meat': 1, 'verbally': 1, 'mcgill': 1, 'notion': 1, 'shortage': 1, 'rumored': 1, 'alliance': 1, 'drawn': 1, 'improper': 1, 'philadelphia': 1, 'mileage': 1, 'meals': 1, 'lodging': 1, 'artworks': 1, 'female': 1, 'mistakenly': 1, 'hassled': 1, 'occupation': 1, 'ecarlst': 1, 'brennan': 1, 'karencri': 1, 'mcreem': 1, 'dad': 1, 'peeled': 1, 'uncut': 1, 'recasts': 1, 'popular': 1, 'nuclear': 1, 'coal': 1, 'kilowatt': 1, 'forecst': 1, 'fired': 1, 'eased': 1, 'bottlenecks': 1, 'equivalents': 1, 'equate': 1, 'distiallte': 1, 'incessant': 1, 'arrival': 1, 'cargoes': 1, 'uninspired': 1, 'usual': 1, 'mbbls': 1, 'excl': 1, 'spr': 1, 'surprisingly': 1, 'cdu': 1, 'bore': 1, 'brunt': 1, 'prevented': 1, 'inflated': 1, 'sulphur': 1, 'kbbls': 1, 'sems': 1, 'interestingly': 1, 'blending': 1, 'components': 1, 'impacting': 1, 'shoker': 1, 'incredibly': 1, 'tradeable': 1, 'pointed': 1, 'anomalous': 1, 'occurence': 1, 'translated': 1, 'multimillion': 1, 'intermediate': 1, 'emphasize': 1, 'performs': 1, 'finite': 1, 'lc': 1, 'transco': 1, 'isolated': 1, 'valuing': 1, 'limtations': 1, 'limitations': 1, 'probable': 1, 'variable': 1, 'overlying': 1, 'incidents': 1, 'approving': 1, 'submitted': 1, 'guardian': 1, 'sahoey': 1, 'milk': 1, 'carton': 1, 'girl': 1, 'daddy': 1, 'recognize': 1, 'locate': 1, 'dtf': 1, 'hosting': 1, 'intentions': 1, 'begins': 1, 'eshort': 1, 'johnnny': 1, 'jeans': 1, 'calculated': 1, 'geographical': 1, 'chairperson': 1, 'repeats': 1, 'sieckman': 1, 'demonstration': 1, 'reuter': 1, 'choosing': 1, 'utilize': 1, 'ptp': 1, 'announcetemp': 1, 'compensators': 1, 'swecofab': 1, 'responds': 1, 'dedication': 1, 'devotion': 1, 'rushing': 1, 'pump': 1, 'startup': 1, 'shipment': 1, 'fulfill': 1, 'downs': 1, 'providing': 1, 'guidance': 1, 'inspection': 1, 'turnarounds': 1, 'integratable': 1, 'regmain': 1, 'catalogs': 1, 'insulated': 1, 'instrument': 1, 'setup': 1, 'unsolicited': 1, 'connections': 1, 'subscribe': 1, 'addresses': 1, 'humiliating': 1, 'cheering': 1, 'disappears': 1, 'realizing': 1, 'phantom': 1, 'kids': 1, 'pedrone': 1, 'omni': 1, 'lard': 1, 'arrowindustries': 1, 'rendered': 1, 'animal': 1, 'lieu': 1, 'boiler': 1, 'machinery': 1, 'envelope': 1, 'dth': 1, 'bulk': 1, 'veggie': 1, 'fuels': 1, 'yuo': 1, 'alonzo': 1, 'ashton': 1, 'soniat': 1, 'bhavna': 1, 'pandya': 1, 'rust': 1, 'hebert': 1, 'starnes': 1, 'charlie': 1, 'jewell': 1, 'lenartowicz': 1, 'clint': 1, 'corry': 1, 'bentley': 1, 'cyril': 1, 'junek': 1, 'darren': 1, 'delage': 1, 'zaccour': 1, 'laurent': 1, 'diana': 1, 'ecf': 1, 'ith': 1, 'elsa': 1, 'piekielniak': 1, 'saibi': 1, 'serio': 1, 'hopley': 1, 'gerald': 1, 'trefz': 1, 'woulfe': 1, 'gretchen': 1, 'lotz': 1, 'terrell': 1, 'janel': 1, 'guerrero': 1, 'janelle': 1, 'scheuer': 1, 'jared': 1, 'choate': 1, 'crawford': 1, 'wills': 1, 'kinneman': 1, 'homco': 1, 'errigo': 1, 'stepenovitch': 1, 'suarez': 1, 'greene': 1, 'kinser': 1, 'llodra': 1, 'singer': 1, 'zurita': 1, 'hernandez': 1, 'townsend': 1, 'kate': 1, 'kayne': 1, 'coulter': 1, 'comeaux': 1, 'keller': 1, 'mayeaux': 1, 'kelli': 1, 'stevens': 1, 'cline': 1, 'jester': 1, 'valderrama': 1, 'podurgiel': 1, 'lawrence': 1, 'lees': 1, 'lucy': 1, 'ortiz': 1, 'madhup': 1, 'kumar': 1, 'bir': 1, 'valdes': 1, 'symms': 1, 'cuilla': 1, 'lorenz': 1, 'goering': 1, 'cisneros': 1, 'mitch': 1, 'patrice': 1, 'mims': 1, 'hanse': 1, 'pizzolato': 1, 'pushkar': 1, 'shahi': 1, 'hrabal': 1, 'benson': 1, 'barbe': 1, 'ronald': 1, 'acevedo': 1, 'goodell': 1, 'scot': 1, 'hendrickson': 1, 'olinde': 1, 'pereira': 1, 'tammi': 1, 'depaolis': 1, 'terri': 1, 'clynes': 1, 'branney': 1, 'decook': 1, 'donohoe': 1, 'dutta': 1, 'troy': 1, 'wayne': 1, 'janette': 1, 'elbertson': 1, 'pair': 1, 'mn': 1, 'francielou': 1, 'comic': 1, 'uo': 1, 'fnw': 1, 'consolidation': 1, 'dozen': 1, 'citizens': 1, 'chore': 1, 'weeekend': 1, 'snoozes': 1, 'ltx': 1, 'reflection': 1, 'originated': 1, 'transacted': 1, 'decrease': 1, 'enr': 1, 'undersigned': 1, 'welcome': 1, 'smithf': 1, 'dickhead': 1, 'arbing': 1, 'rocket': 1, 'strangers': 1, 'harass': 1, 'attributes': 1, 'poaching': 1, 'thansk': 1, 'generalist': 1, 'stshouston': 1, 'pegasus': 1, 'compliant': 1, 'mailer': 1, 'bytes': 1, 'unknown': 1, 'ooops': 1, 'lottery': 1, 'mute': 1, 'farewell': 1, 'presence': 1, 'removing': 1, 'ecc': 1, 'epmi': 1, 'terminate': 1, 'foul': 1, 'odor': 1, 'photograph': 1, 'ecompany': 1, 'fragrant': 1, 'gasfundy': 1, 'phyllis': 1, 'berman': 1, 'flour': 1, 'dusk': 1, 'alton': 1, 'kan': 1, 'millin': 1, 'stringing': 1, 'lit': 1, 'kans': 1, 'outfit': 1, 'grandsons': 1, 'brothers': 1, 'remade': 1, 'buyin': 1, 'zealand': 1, 'countries': 1, 'veered': 1, 'peoples': 1, 'megawatts': 1, 'competes': 1, 'everythin': 1, 'provi': 1, 'claim': 1, 'dyneg': 1, 'garner': 1, 'spin': 1, 'bonanza': 1, 'poison': 1, 'compa': 1, 'leveraged': 1, 'norm': 1, 'rai': 1, 'se': 1, 'walking': 1, 'tightrope': 1, 'heritage': 1, 'confidently': 1, 'offerings': 1, 'greens': 1, 'heirloom': 1, 'battle': 1, 'diversified': 1, 'resold': 1, 'samuel': 1, 'insull': 1, 'midwestern': 1, 'magnate': 1, 'pyramid': 1, 'collapsed': 1, 'depression': 1, 'reacted': 1, 'busted': 1, 'multistate': 1, 'ob': 1, 'grandfather': 1, 'song': 1, 'chip': 1, 'cummins': 1, 'reporter': 1, 'intent': 1, 'discovering': 1, 'hurricanes': 1, 'billions': 1, 'midwes': 1, 'mouth': 1, 'tall': 1, 'shouldered': 1, 'exploding': 1, 'frustrate': 1, 'schools': 1, 'embarrass': 1, 'politicians': 1, 'bundles': 1, 'boomed': 1, 'butt': 1, 'jokes': 1, 'earning': 1, 'appetite': 1, 'insatiable': 1, 'adding': 1, 'plucking': 1, 'tulsa': 1, 'okla': 1, 'endowing': 1, 'fellowships': 1, 'alma': 1, 'mater': 1, 'wisconsin': 1, 'climatology': 1, 'miscues': 1, 'historic': 1, 'fizzled': 1, 'lifting': 1, 'bachelor': 1, 'masters': 1, 'doctorates': 1, 'jus': 1, 'dried': 1, 'handful': 1, 'airplanes': 1, 'repair': 1, 'trucks': 1, 'storms': 1, 'pocketed': 1, 'ranging': 1, 'forecaster': 1, 'degree': 1, 'prospect': 1, 'employment': 1, 'graduation': 1, 'nielsen': 1, 'gammon': 1, 'professor': 1, 'atmospheric': 1, 'sciences': 1, 'dearth': 1, 'hires': 1, 'graduated': 1, 'penn': 1, 'hurry': 1, 'tossed': 1, 'marquette': 1, 'thrill': 1, 'latin': 1, 'remembers': 1, 'sai': 1, 'honestly': 1, 'foun': 1, 'exhilarating': 1, 'courted': 1, 'puerto': 1, 'rico': 1, 'sprawling': 1, 'ove': 1, 'grain': 1, 'earl': 1, 'agriculture': 1, 'gauge': 1, 'conditioning': 1, 'duri': 1, 'sorts': 1, 'advances': 1, 'collection': 1, 'modeling': 1, 'betting': 1, 'chancy': 1, 'tweak': 1, 'interpretations': 1, 'contest': 1, 'bakeoff': 1, 'billerica': 1, 'shorter': 1, 'forgiving': 1, 'aviation': 1, 'whe': 1, 'presumably': 1, 'reformatted': 1, 'maximise': 1, 'mainland': 1, 'bispham': 1, 'lancashire': 1, 'mw': 1, 'cable': 1, 'accomplished': 1, 'proffitt': 1, 'achieving': 1, 'fits': 1, 'operators': 1, 'specially': 1, 'parsons': 1, 'alison': 1, 'cottier': 1, 'lo': 1, 'gmt': 1, 'glamour': 1, 'affects': 1, 'determines': 1, 'recruit': 1, 'command': 1, 'staffer': 1, 'broadcasting': 1, 'oriented': 1, 'worlds': 1, 'pte': 1, 'delhi': 1, 'lukewarm': 1, 'inherent': 1, 'glitches': 1, 'disputes': 1, 'bhp': 1, 'pegged': 1, 'domest': 1, 'ic': 1, 'factoring': 1, 'unresolved': 1, 'ioc': 1, 'fray': 1, 'india': 1, 'eogil': 1, 'inspite': 1, 'oilfield': 1, 'tarif': 1, 'promoters': 1, 'determined': 1, 'resulte': 1, 'deducts': 1, 'pti': 1, 'aizhu': 1, 'mapped': 1, 'massiv': 1, 'gridwork': 1, 'hydrocarbon': 1, 'thriving': 1, 'trunk': 1, 'winding': 1, 'xinjiang': 1, 'yangtze': 1, 'shaanxi': 1, 'shanghai': 1, 'connecting': 1, 'slated': 1, 'aims': 1, 'metres': 1, 'trunkline': 1, 'untapped': 1, 'recoverable': 1, 'shan': 1, 'gan': 1, 'ning': 1, 'basins': 1, 'sulige': 1, 'ordos': 1, 'majors': 1, 'exxonmobil': 1, 'hebei': 1, 'shandong': 1, 'zhongxian': 1, 'southwest': 1, 'sichua': 1, 'wuhan': 1, 'hunan': 1, 'developer': 1, 'sichan': 1, 'presently': 1, 'stretching': 1, 'qaidam': 1, 'lanzh': 1, 'operational': 1, 'refineries': 1, 'thirsty': 1, 'remote': 1, 'feasibility': 1, 'study': 1, 'railway': 1, 'bottleneck': 1, 'bas': 1, 'tonnes': 1, 'diesel': 1, 'populous': 1, 'neighbouring': 1, 'flatten': 1, 'falling': 1, 'snapping': 1, 'exhausted': 1, 'bullsih': 1, 'bullspd': 1, 'converges': 1, 'theyll': 1, 'ultiamtely': 1, 'chili': 1, 'peppers': 1, 'awsome': 1, 'covert': 1, 'wkup': 1, 'vacationing': 1, 'martha': 1, 'vineyard': 1, 'debby': 1, 'ion': 1, 'imagione': 1, 'smart': 1, 'rerun': 1, 'dance': 1, 'pary': 1, 'reviewed': 1, 'articulate': 1, 'schedules': 1, 'muzzy': 1, 'teams': 1, 'cpe': 1, 'workshop': 1, 'wiped': 1, 'separates': 1, 'blowouts': 1, 'inelasticity': 1, 'dips': 1, 'trending': 1, 'relieves': 1, 'painted': 1, 'postions': 1, 'assess': 1, 'step': 1, 'waayyy': 1, 'flaoor': 1, 'sustained': 1, 'aboves': 1, 'staring': 1, 'hve': 1, 'arguements': 1, 'insites': 1, 'weeknd': 1, 'blowing': 1, 'festivities': 1, 'visa': 1, 'exp': 1, 'ebay': 1, 'bidpay': 1, 'timber': 1, 'dmb': 1, 'crowes': 1, 'sponsoring': 1, 'havard': 1, 'cracked': 1, 'stabilized': 1, 'puc': 1, 'hrere': 1, 'utuilites': 1, 'jut': 1, 'hrs': 1, 'cooler': 1, 'differnence': 1, 'dictating': 1, 'sidelines': 1, 'buyside': 1, 'biscuit': 1, 'ecthou': 1, 'webcl': 1, 'weathermain': 1, 'merits': 1, 'easter': 1, 'treated': 1, 'crandall': 1, 'cass': 1, 'improvements': 1, 'shawn': 1, 'cumberland': 1, 'hartsoe': 1, 'kaufman': 1, 'messina': 1, 'miele': 1, 'mack': 1, 'jude': 1, 'tatar': 1, 'underdown': 1, 'stockton': 1, 'claudette': 1, 'harvey': 1, 'sheila': 1, 'petitt': 1, 'katherine': 1, 'padilla': 1, 'boothe': 1, 'bernadette': 1, 'hawkins': 1, 'lysa': 1, 'akin': 1, 'delahay': 1, 'myer': 1, 'falcon': 1, 'doreen': 1, 'dobernecker': 1, 'elisabeth': 1, 'edwards': 1, 'amabile': 1, 'lrinet': 1, 'dennisw': 1, 'requesting': 1, 'reconfirm': 1, 'assitant': 1, 'adhere': 1, 'contacting': 1, 'substantiate': 1, 'abc': 1, 'threatening': 1, 'pertains': 1, 'generalities': 1, 'unlikely': 1, 'involves': 1, 'mgt': 1, 'cfo': 1, 'stall': 1, 'chasing': 1, 'youl': 1, 'brilliant': 1, 'gona': 1, 'perception': 1, 'titire': 1, 'converted': 1, 'stronger': 1, 'enuf': 1, 'pted': 1, 'indistries': 1, 'abilty': 1, 'sooo': 1, 'fore': 1, 'ratchets': 1, 'steadily': 1, 'relief': 1, 'proocessing': 1, 'negtive': 1, 'nukes': 1, 'bam': 1, 'wack': 1, 'whud': 1, 'compelling': 1, 'ifs': 1, 'expirey': 1, 'recverse': 1, 'psychology': 1, 'spending': 1, 'cuplpa': 1, 'formulating': 1, 'strategies': 1, 'cnnfn': 1, 'cnn': 1, 'wires': 1, 'wg': 1, 'indutrial': 1, 'automakers': 1, 'led': 1, 'everyday': 1, 'steep': 1, 'chunk': 1, 'oversupplied': 1, 'csfp': 1, 'radous': 1, 'shackleton': 1, 'strucutured': 1, 'nominal': 1, 'contractual': 1, 'fifteenth': 1, 'floating': 1, 'dealing': 1, 'unlimited': 1, 'involving': 1, 'centralizing': 1, 'aim': 1, 'securing': 1, 'dealings': 1, 'secondary': 1, 'relation': 1, 'ideally': 1, 'lets': 1, 'nit': 1, 'picky': 1, 'inviting': 1, 'mediate': 1, 'spouces': 1, 'calander': 1, 'gving': 1, 'engberg': 1, 'battaglia': 1, 'holzer': 1, 'iannarone': 1, 'peggy': 1, 'rhodes': 1, 'ondarza': 1, 'maffett': 1, 'yvette': 1, 'disseminated': 1, 'exhibit': 1, 'tentatively': 1, 'hon': 1, 'chick': 1, 'specialize': 1, 'assisting': 1, 'xico': 1, 'disposition': 1, 'populated': 1, 'brick': 1, 'concrete': 1, 'span': 1, 'height': 1, 'adjacent': 1, 'doubling': 1, 'pemex': 1, 'refinery': 1, 'petrochemical': 1, 'thermoelectric': 1, 'station': 1, 'supervisory': 1, 'consists': 1, 'garden': 1, 'apartments': 1, 'dormitory': 1, 'enclosed': 1, 'compound': 1, 'residence': 1, 'garage': 1, 'recreational': 1, 'families': 1, 'entirely': 1, 'gated': 1, 'fully': 1, 'acres': 1, 'fronts': 1, 'superhighway': 1, 'entrance': 1, 'corner': 1, 'trans': 1, 'manufactures': 1, 'volkswagen': 1, 'assembly': 1, 'entertain': 1, 'creditworthy': 1, 'aggressively': 1, 'ari': 1, 'feldman': 1, 'ccim': 1, 'sior': 1, 'cips': 1, 'afeldman': 1, 'visitors': 1, 'barbeque': 1, 'wisdom': 1, 'richards': 1, 'council': 1, 'chair': 1})\n"
          ]
        },
        {
          "output_type": "error",
          "ename": "NameError",
          "evalue": "name 'math' is not defined",
          "traceback": [
            "\u001b[0;31m---------------------------------------------------------------------------\u001b[0m",
            "\u001b[0;31mNameError\u001b[0m                                 Traceback (most recent call last)",
            "\u001b[0;32m<ipython-input-83-9de6dcfa4cc9>\u001b[0m in \u001b[0;36m<cell line: 0>\u001b[0;34m()\u001b[0m\n\u001b[1;32m      8\u001b[0m   \u001b[0;32mfor\u001b[0m \u001b[0mtoken\u001b[0m \u001b[0;32min\u001b[0m \u001b[0mtokens\u001b[0m\u001b[0;34m:\u001b[0m\u001b[0;34m\u001b[0m\u001b[0;34m\u001b[0m\u001b[0m\n\u001b[1;32m      9\u001b[0m     \u001b[0mtf\u001b[0m\u001b[0;34m=\u001b[0m\u001b[0mtokens\u001b[0m\u001b[0;34m.\u001b[0m\u001b[0mcount\u001b[0m\u001b[0;34m(\u001b[0m\u001b[0mtoken\u001b[0m\u001b[0;34m)\u001b[0m\u001b[0;34m/\u001b[0m\u001b[0mlen\u001b[0m\u001b[0;34m(\u001b[0m\u001b[0mtokens\u001b[0m\u001b[0;34m)\u001b[0m\u001b[0;34m\u001b[0m\u001b[0;34m\u001b[0m\u001b[0m\n\u001b[0;32m---> 10\u001b[0;31m     \u001b[0midf\u001b[0m\u001b[0;34m=\u001b[0m\u001b[0;36m1\u001b[0m\u001b[0;34m+\u001b[0m\u001b[0mmath\u001b[0m\u001b[0;34m.\u001b[0m\u001b[0mlog\u001b[0m\u001b[0;34m(\u001b[0m\u001b[0mdoc_len\u001b[0m\u001b[0;34m/\u001b[0m\u001b[0mword_counts\u001b[0m\u001b[0;34m[\u001b[0m\u001b[0mtoken\u001b[0m\u001b[0;34m]\u001b[0m\u001b[0;34m)\u001b[0m\u001b[0;34m\u001b[0m\u001b[0;34m\u001b[0m\u001b[0m\n\u001b[0m\u001b[1;32m     11\u001b[0m     \u001b[0mtfidf_vector\u001b[0m\u001b[0;34m.\u001b[0m\u001b[0mappend\u001b[0m\u001b[0;34m(\u001b[0m\u001b[0mtf\u001b[0m\u001b[0;34m*\u001b[0m\u001b[0midf\u001b[0m\u001b[0;34m)\u001b[0m\u001b[0;34m\u001b[0m\u001b[0;34m\u001b[0m\u001b[0m\n\u001b[1;32m     12\u001b[0m   \u001b[0mtfidf\u001b[0m\u001b[0;34m[\u001b[0m\u001b[0mid\u001b[0m\u001b[0;34m]\u001b[0m\u001b[0;34m=\u001b[0m\u001b[0mtfidf_vector\u001b[0m\u001b[0;34m\u001b[0m\u001b[0;34m\u001b[0m\u001b[0m\n",
            "\u001b[0;31mNameError\u001b[0m: name 'math' is not defined"
          ]
        }
      ],
      "source": [
        "# your code here\n",
        "print(word_counts)\n",
        "\n",
        "tfidf={}\n",
        "doc_len=len(doc)\n",
        "for id, tokens in doc.items():\n",
        "  tfidf_vector=[]\n",
        "  for token in tokens:\n",
        "    tf=tokens.count(token)/len(tokens)\n",
        "    idf=1+math.log(doc_len/word_counts[token])\n",
        "    tfidf_vector.append(tf*idf)\n",
        "  tfidf[id]=tfidf_vector\n",
        "\n",
        "# print out the top-5 retrieved emails\n"
      ]
    },
    {
      "cell_type": "markdown",
      "metadata": {
        "id": "xf3-HsRamBkh"
      },
      "source": [
        "### Ranking method B: Ranking with BM25 (15 points)\n",
        "Finally, let's try the BM25 approach for ranking. Refer to https://en.wikipedia.org/wiki/Okapi_BM25 for the specific formula. You could choose k_1 = 1.2 and b = 0.75 but feel free to try other options.\n",
        "\n",
        "**Query:**  `gas floor`\n",
        "\n",
        "**Output:**\n",
        "You should output the top-5 results plus the BM25 score of each of these documents.  \n",
        "\n",
        "The output should be like this:\n",
        "\n",
        "Rank Scores DocumentID Document"
      ]
    },
    {
      "cell_type": "code",
      "execution_count": null,
      "metadata": {
        "id": "lESwxZNImIle"
      },
      "outputs": [],
      "source": [
        "# your code here\n",
        "\n",
        "\n",
        "# print out the top-5 retrieved emails"
      ]
    },
    {
      "cell_type": "markdown",
      "metadata": {
        "id": "dScZI3PvnNqV"
      },
      "source": [
        "## Observations (5 points)\n",
        "What do you observe? Are there key differences between the two ranking approaches? Briefly discuss in bullet points.\n"
      ]
    },
    {
      "cell_type": "markdown",
      "metadata": {
        "id": "Gku0X4oFrBRX"
      },
      "source": [
        "* Your observations:\n",
        "* Differences:"
      ]
    },
    {
      "cell_type": "markdown",
      "metadata": {
        "id": "kwQKelDxgzS8"
      },
      "source": [
        "# Part 4: Cool LLM RAG Extension (15 points)\n",
        "\n",
        "Finally, we give you an opportunity to explore using OASIS for Retrieval-Augmented Generation (RAG) with LLMs.\n",
        "Here, the task is to retrieve the top-5 emails for a query you like. You will then pass the retrieved email content along with your question to the LLM and let it answer your question. Specifically, we want you:\n",
        "\n",
        "* Query the LLM directly with your question.\n",
        "* Retrieve the top-5 emails based on your query and pass them to the LLM along with your question.\n",
        "* How is the RAG output different from the non-RAG output? Does retrieval help the LLM better answer your question?\n",
        "\n",
        "We recommend using Gemini following the [instructions](https://github.com/google-gemini/cookbook/blob/main/quickstarts/Prompting.ipynb) here.\n",
        "\n",
        "Hint: Take a close look at the dataset and pick a specific, relevant query where retrieval can enhance the LLM’s response.\n",
        "\n",
        "*What You Will Submit*\n",
        "- Your query.\n",
        "- The top-5 retrieved emails (including Document ID and ranking score).\n",
        "- The LLM's response without retrieval.\n",
        "- The LLM's response with retrieval (RAG).\n",
        "- A brief analysis comparing both outputs.\n",
        "\n",
        "We will grade this last part according to correctness, effort, and creativity."
      ]
    },
    {
      "cell_type": "markdown",
      "metadata": {
        "id": "irxiT-iTgzS9"
      },
      "source": [
        "## Step 1: Query the LLM Directly (Without Retrieval) (5 points)"
      ]
    },
    {
      "cell_type": "code",
      "execution_count": null,
      "metadata": {
        "id": "JiyOf67igzS9"
      },
      "outputs": [],
      "source": [
        "# your code here to prompt LLM"
      ]
    },
    {
      "cell_type": "markdown",
      "metadata": {
        "id": "otHscQFhgzTN"
      },
      "source": [
        "## Step 2: Query the LLM with Retrieved Emails (RAG) (5 points)"
      ]
    },
    {
      "cell_type": "code",
      "execution_count": null,
      "metadata": {
        "id": "TnArY1PbgzTN"
      },
      "outputs": [],
      "source": [
        "# print out the LLM response without the email content\n",
        "\n",
        "\n",
        "# print out the LLM response with the email content (RAG)\n",
        "\n"
      ]
    },
    {
      "cell_type": "markdown",
      "metadata": {
        "id": "0YnqxBZ4gzTN"
      },
      "source": [
        "## Discussion (5 points)"
      ]
    },
    {
      "cell_type": "markdown",
      "metadata": {
        "id": "tyVyTcM-gzTN"
      },
      "source": [
        "In this section, reflect on the performance of different ranking methods and the impact of retrieval on LLM responses. Consider:\n",
        "\n",
        "- How did retrieval affect the LLM’s response? Did it improve factual accuracy or relevance?\n",
        "- Were there cases where retrieval hurt performance (e.g., irrelevant documents, redundancy)?\n",
        "- Any ideas for improving the ranking or retrieval process?\n",
        "\n",
        "Keep your discussion *concise* and *insightful*, focusing on key takeaways from your experiments. Please answer in bullet points."
      ]
    },
    {
      "cell_type": "markdown",
      "metadata": {
        "id": "jtMjckcmgzTN"
      },
      "source": [
        "*your discussion here*\n",
        "\n",
        "* point 1\n",
        "* point 2\n",
        "* ..."
      ]
    },
    {
      "cell_type": "markdown",
      "metadata": {
        "id": "FihN3qniN-Jy"
      },
      "source": [
        "# Collaboration Declarations"
      ]
    },
    {
      "cell_type": "markdown",
      "metadata": {
        "id": "3EKp_Fe-N-Jy"
      },
      "source": [
        "*You should fill out your collaboration declarations here.*\n",
        "\n",
        "https://stackoverflow.com/questions/12897374/get-unique-values-from-a-list-in-python\n",
        "\n",
        "\n",
        "https://www.geeksforgeeks.org/python-difference-two-lists/\n",
        "\n",
        "ChatGPT:\n",
        "- i want to no. of occurences of each element in a list"
      ]
    },
    {
      "cell_type": "code",
      "source": [],
      "metadata": {
        "id": "-ASjn0YYqcAr"
      },
      "execution_count": null,
      "outputs": []
    }
  ],
  "metadata": {
    "colab": {
      "provenance": [],
      "toc_visible": true,
      "include_colab_link": true
    },
    "kernelspec": {
      "display_name": "base",
      "language": "python",
      "name": "python3"
    },
    "language_info": {
      "codemirror_mode": {
        "name": "ipython",
        "version": 3
      },
      "file_extension": ".py",
      "mimetype": "text/x-python",
      "name": "python",
      "nbconvert_exporter": "python",
      "pygments_lexer": "ipython3",
      "version": "3.11.11"
    }
  },
  "nbformat": 4,
  "nbformat_minor": 0
}