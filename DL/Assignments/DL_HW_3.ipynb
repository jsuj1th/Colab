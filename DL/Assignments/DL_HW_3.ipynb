{
  "nbformat": 4,
  "nbformat_minor": 0,
  "metadata": {
    "colab": {
      "provenance": [],
      "authorship_tag": "ABX9TyO49bp3SRhYsVm6ag5NrDGK",
      "include_colab_link": true
    },
    "kernelspec": {
      "name": "python3",
      "display_name": "Python 3"
    },
    "language_info": {
      "name": "python"
    }
  },
  "cells": [
    {
      "cell_type": "markdown",
      "metadata": {
        "id": "view-in-github",
        "colab_type": "text"
      },
      "source": [
        "<a href=\"https://colab.research.google.com/github/jsuj1th/Colab/blob/main/DL/Assignments/DL_HW_3.ipynb\" target=\"_parent\"><img src=\"https://colab.research.google.com/assets/colab-badge.svg\" alt=\"Open In Colab\"/></a>"
      ]
    },
    {
      "cell_type": "code",
      "execution_count": 3,
      "metadata": {
        "colab": {
          "base_uri": "https://localhost:8080/"
        },
        "id": "GCRFMSeVEao7",
        "outputId": "b3e9ccee-b008-4504-c82a-96fcb70ec8d7"
      },
      "outputs": [
        {
          "output_type": "stream",
          "name": "stdout",
          "text": [
            "Downloading data from https://storage.googleapis.com/tensorflow/tf-keras-datasets/mnist.npz\n",
            "\u001b[1m11490434/11490434\u001b[0m \u001b[32m━━━━━━━━━━━━━━━━━━━━\u001b[0m\u001b[37m\u001b[0m \u001b[1m0s\u001b[0m 0us/step\n"
          ]
        }
      ],
      "source": [
        "import keras\n",
        "import matplotlib.pyplot as plt\n",
        "from tensorflow.keras.datasets import mnist\n",
        "import numpy as np\n",
        "\n",
        "(train_images, train_labels), (test_images, test_labels) = mnist.load_data()\n",
        "\n"
      ]
    },
    {
      "cell_type": "code",
      "source": [
        "label_1=[i for i, label in enumerate(train_labels) if label == 1]\n",
        "label_2=[i for i, label in enumerate(train_labels) if label == 2]\n",
        "label_3=[i for i, label in enumerate(train_labels) if label == 3]\n",
        "label_4=[i for i, label in enumerate(train_labels) if label == 4]\n",
        "label_5=[i for i, label in enumerate(train_labels) if label == 5]\n",
        "label_6=[i for i, label in enumerate(train_labels) if label == 6]\n",
        "label_7=[i for i, label in enumerate(train_labels) if label == 7]\n",
        "label_8=[i for i, label in enumerate(train_labels) if label == 8]\n",
        "label_9=[i for i, label in enumerate(train_labels) if label == 9]\n",
        "label_0=[i for i, label in enumerate(train_labels) if label == 0]\n",
        "labels = [label_0, label_1, label_2, label_3, label_4, label_5, label_6, label_7, label_8, label_9]\n",
        "pair_list=[]\n",
        "for i in range(0,10,2):\n",
        "  print(i, i+1, \"\\n\")\n",
        "  pair=list(zip(labels[i],labels[i+1]))\n",
        "  pair_list.append(pair)\n",
        "# pair=list(zip(label_1,label_2))\n",
        "# conv_label_1=[]\n",
        "# for i in pair:\n",
        "#     img_1=train_images[i[0]]\n",
        "#     img_2=train_images[i[1]]\n",
        "#     conv_img=(img_1+img_2)/2\n",
        "#     conv_label_1.append(conv_img)\n",
        "\n"
      ],
      "metadata": {
        "colab": {
          "base_uri": "https://localhost:8080/"
        },
        "id": "LD0HvmmJFMN4",
        "outputId": "9c2a0139-d900-42ef-c4f1-eaf118d00b3e"
      },
      "execution_count": 12,
      "outputs": [
        {
          "output_type": "stream",
          "name": "stdout",
          "text": [
            "0 1 \n",
            "\n",
            "2 3 \n",
            "\n",
            "4 5 \n",
            "\n",
            "6 7 \n",
            "\n",
            "8 9 \n",
            "\n"
          ]
        }
      ]
    },
    {
      "cell_type": "code",
      "source": [
        "\n",
        "\n",
        "plt.imshow(conv_label_1[5], cmap='gray')\n",
        "plt.show()\n"
      ],
      "metadata": {
        "colab": {
          "base_uri": "https://localhost:8080/",
          "height": 430
        },
        "id": "C2Zj1zIKIQ0D",
        "outputId": "0ae5e906-9b66-4e4e-c621-df4350a273dd"
      },
      "execution_count": 10,
      "outputs": [
        {
          "output_type": "display_data",
          "data": {
            "text/plain": [
              "<Figure size 640x480 with 1 Axes>"
            ],
            "image/png": "[encoded data removed]"
          },
          "metadata": {}
        }
      ]
    }
  ]
}